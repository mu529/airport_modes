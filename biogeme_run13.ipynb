{
 "cells": [
  {
   "cell_type": "code",
   "execution_count": 1,
   "metadata": {
    "collapsed": true
   },
   "outputs": [],
   "source": [
    "import subprocess\n",
    "import pandas as pd"
   ]
  },
  {
   "cell_type": "code",
   "execution_count": 13,
   "metadata": {
    "collapsed": true
   },
   "outputs": [],
   "source": [
    "model_name = 'models/26jul_G'\n",
    "model_data = 'models-data/data_26jul_1.dat'"
   ]
  },
  {
   "cell_type": "code",
   "execution_count": 14,
   "metadata": {
    "collapsed": false,
    "scrolled": false
   },
   "outputs": [
    {
     "name": "stdout",
     "output_type": "stream",
     "text": [
      "b'~~~~~~~~~~~~~~~~~~~~~~~~~~~~~~~~~~~~~~~~~~~~~~~~~~~~~~\\r\\n'\n",
      "b'biogeme 2.4 [Sun Oct 25 23:01:47 WEST 2015]\\r\\n'\n",
      "b'Michel Bierlaire, EPFL\\r\\n'\n",
      "b'-- Compiled by biogeme@hotmail.com on MINGW32_NT-6.1\\r\\n'\n",
      "b'See http://biogeme.epfl.ch\\r\\n'\n",
      "b'                    !! CFSQP is available !!\\r\\n'\n",
      "b'~~~~~~~~~~~~~~~~~~~~~~~~~~~~~~~~~~~~~~~~~~~~~~~~~~~~~~\\r\\n'\n",
      "b'\\t\"In every non-trivial program there is at least one bug.\"\\r\\n'\n",
      "b'\\r\\n'\n",
      "b'\\r\\n'\n",
      "b'[12:07:06]patFileNames.cc:52  models/26jul_G.par does not exist\\r\\n'\n",
      "b'[12:07:06]patFileNames.cc:56  Trying default.par instead\\r\\n'\n",
      "b'[12:07:06]patBiogeme.cc:134  Read default.par\\r\\n'\n",
      "b' Opening file models-data/data_26jul_1.dat\\r\\n'\n",
      "b' Data  file... line 500\\tMemory: 67 Kb\\r\\n'\n",
      "b' Total obs.:   837\\r\\n'\n",
      "b' Total memory: 112.934 Kb\\r\\n'\n",
      "b' Run time for data processing: 00:00\\r\\n'\n",
      "b' Init loglike=-985.941\\r\\n'\n",
      "b'     gmax Iter   radius        f(x)     Status       rhok nFree\\r\\n'\n",
      "b' +1.01e+000    1 1.00e+000 +9.8594093e+002 ****OutTrReg +9.77e-001 6  ++ P\\r\\n'\n",
      "b' +1.01e+000    2 2.00e+000 +7.0763577e+002 ****Converg  +1.15e+000 6  ++ P\\r\\n'\n",
      "b' +1.01e+000    3 4.00e+000 +6.3009717e+002 ****Converg  +1.20e+000 6  ++ P\\r\\n'\n",
      "b' +5.53e-001    4 8.00e+000 +6.1319765e+002 ****Converg  +1.05e+000 6  ++ P\\r\\n'\n",
      "b' +8.81e-002    5 1.60e+001 +6.0872022e+002 ****Converg  +1.45e-002 6  +  P\\r\\n'\n",
      "b' +1.01e+000    6 1.60e+001 +6.0848603e+002 ****Converg  +7.06e-001 6  +  P\\r\\n'\n",
      "b' +1.01e+000    7 1.60e+001 +6.0283027e+002 ****Converg  +9.68e-001 6  ++ P\\r\\n'\n",
      "b' +1.73e-001    8 3.20e+001 +6.0175205e+002 ****Converg  +1.07e+000 6  ++ P\\r\\n'\n",
      "b' +5.98e-001    9 6.40e+001 +5.9491989e+002 ****Converg  +9.97e-001 6  ++ P\\r\\n'\n",
      "b' +3.09e-002   10 1.28e+002 +5.9483679e+002 ****Converg  +9.52e-001 6  ++ P\\r\\n'\n",
      "b' +2.27e-001   11 2.56e+002 +5.9335681e+002 ****Converg  +9.97e-001 6  ++ P\\r\\n'\n",
      "b' +1.66e-002   12 5.12e+002 +5.9334488e+002 ****Converg  +1.20e+000 6  ++ P\\r\\n'\n",
      "b' +4.90e-002   13 1.02e+003 +5.9238177e+002 ****Converg  +9.99e-001 6  ++ P\\r\\n'\n",
      "b' +3.17e-003   14 2.05e+003 +5.9238126e+002 ****Converg  +1.26e+000 6  ++ P\\r\\n'\n",
      "b' +1.73e-002   15 4.10e+003 +5.9208977e+002 ****Converg  +1.00e+000 6  ++ P\\r\\n'\n",
      "b' +1.34e-003   16 8.19e+003 +5.9208971e+002 ****Converg  +1.26e+000 6  ++ P\\r\\n'\n",
      "b' +6.34e-003   17 1.64e+004 +5.9198304e+002 ****Converg  +1.00e+000 6  ++ P\\r\\n'\n",
      "b' +5.54e-004   18 3.28e+004 +5.9198303e+002 ****Converg  +1.26e+000 6  ++ P\\r\\n'\n",
      "b' +2.34e-003   19 6.55e+004 +5.9194384e+002 ****Converg  +1.00e+000 6  ++ P\\r\\n'\n",
      "b' +2.27e-004   20 1.31e+005 +5.9194384e+002 ****Converg  +1.26e+000 6  ++ P\\r\\n'\n",
      "b' +8.62e-004   21 2.62e+005 +5.9192943e+002 ****Converg  +1.00e+000 6  ++ P\\r\\n'\n",
      "b' +9.20e-005   22 5.24e+005 +5.9192943e+002 ****Converg  +1.26e+000 6  ++ P\\r\\n'\n",
      "b' +3.17e-004   23 1.05e+006 +5.9192413e+002 ****Converg  +1.00e+000 6  ++ P\\r\\n'\n",
      "b' +3.70e-005   24 2.10e+006 +5.9192413e+002 ****Converg  +1.26e+000 6  ++ P\\r\\n'\n",
      "b' +1.17e-004   25 4.19e+006 +5.9192218e+002 ****Converg  +1.00e+000 6  ++ P\\r\\n'\n",
      "b' +1.48e-005   26 8.39e+006 +5.9192218e+002 ****Converg  +1.26e+000 6  ++ P\\r\\n'\n",
      "b' +4.29e-005   27 1.68e+007 +5.9192147e+002 ****Converg  +9.98e-001 6  ++ P\\r\\n'\n",
      "b'\\r\\n'\n",
      "b' Convergence reached...\\r\\n'\n",
      "b'--> time interval [12:07:06,12:07:06]\\r\\n'\n",
      "b' Run time: 00:00\\r\\n'\n",
      "b' Final log likelihood=-591.921\\r\\n'\n",
      "b' Be patient... BIOGEME is preparing the output files\\r\\n'\n",
      "b'--> time interval [12:07:06,12:07:06]\\r\\n'\n",
      "b' Run time for var/covar computation: 00:00\\r\\n'\n",
      "b' BIOGEME Input files\\r\\n'\n",
      "b' ===================\\r\\n'\n",
      "b' Parameters:\\t\\t\\tdefault.par\\r\\n'\n",
      "b' Model specification:\\t\\tmodels/26jul_G.mod\\r\\n'\n",
      "b' Sample 1 :\\t\\t\\t\\tmodels-data/data_26jul_1.dat\\r\\n'\n",
      "b' BIOGEME Output files\\r\\n'\n",
      "b' ====================\\r\\n'\n",
      "b' Estimation results:\\t\\tmodels/26jul_G.rep\\r\\n'\n",
      "b' Estimation results (HTML):\\tmodels/26jul_G.html\\r\\n'\n",
      "b' Estimation results (Latex):\\tmodels/26jul_G.tex\\r\\n'\n",
      "b' Estimation results (ALogit):\\tmodels/26jul_G.F12\\r\\n'\n",
      "b' Result model spec. file:\\tmodels/26jul_G.res\\r\\n'\n",
      "b' Sample statistics:\\t\\tmodels/26jul_G.sta\\r\\n'\n",
      "b' BIOGEME Debug files\\r\\n'\n",
      "b' ===================\\r\\n'\n",
      "b' Log file:\\t\\t\\tmodels/26jul_G.log\\r\\n'\n",
      "b' Parameters debug:\\t\\tparameters.out\\r\\n'\n",
      "b' Model debug:\\t\\t\\tmodel.debug\\r\\n'\n",
      "b' Model spec. file debug:\\t\\t__specFile.debug\\r\\n'\n",
      "b' Model informations: Logit Model\\r\\n'\n",
      "b' ==================\\r\\n'\n",
      "b' The minimum argument of exp was -15.2409\\r\\n'\n",
      "b'\\r\\n'\n",
      "b' Run time for estimation:      00:00\\r\\n'\n",
      "b' Total run time:               00:00\\r\\n'\n"
     ]
    }
   ],
   "source": [
    "p = subprocess.Popen(['C:/Program Files (x86)/biogeme-2.4/biogeme-2.4/biogeme.exe', model_name,model_data], shell=True, stdout=subprocess.PIPE, stderr=subprocess.STDOUT)\n",
    "for line in p.stdout.readlines():\n",
    "    print (line),\n",
    "retval = p.wait()"
   ]
  },
  {
   "cell_type": "code",
   "execution_count": 15,
   "metadata": {
    "collapsed": false
   },
   "outputs": [
    {
     "name": "stdout",
     "output_type": "stream",
     "text": [
      "Found it.\n",
      "Changed to 100.\n"
     ]
    }
   ],
   "source": [
    "with open(model_name+'_res.mod','wb') as simmod:\n",
    "    with open(model_name+'.res','rb') as res:\n",
    "        searchlines = res.readlines()\n",
    "        foundit = False\n",
    "        for i, line in enumerate(searchlines):\n",
    "            if foundit==False:\n",
    "                if b'[SampleEnum]' in line:\n",
    "                    print('Found it.')\n",
    "                    foundit = True\n",
    "                simmod.write(line)\n",
    "            else:\n",
    "                if line.decode(\"utf-8\").find('0\\r\\n')==0:\n",
    "                    print('Changed to 100.')\n",
    "                    simmod.write(b'100\\r\\n')\n",
    "                    foundit==False\n",
    "                else:\n",
    "                    simmod.write(line)"
   ]
  },
  {
   "cell_type": "code",
   "execution_count": 16,
   "metadata": {
    "collapsed": false
   },
   "outputs": [
    {
     "name": "stdout",
     "output_type": "stream",
     "text": [
      "b'~~~~~~~~~~~~~~~~~~~~~~~~~~~~~~~~~~~~~~~~~~~~~~~~~~~~~~\\r\\n'\n",
      "b'biogeme 2.4 [Sun Oct 25 23:01:47 WEST 2015]\\r\\n'\n",
      "b'Michel Bierlaire, EPFL\\r\\n'\n",
      "b'-- Compiled by biogeme@hotmail.com on MINGW32_NT-6.1\\r\\n'\n",
      "b'See http://biogeme.epfl.ch\\r\\n'\n",
      "b'                    !! CFSQP is available !!\\r\\n'\n",
      "b'~~~~~~~~~~~~~~~~~~~~~~~~~~~~~~~~~~~~~~~~~~~~~~~~~~~~~~\\r\\n'\n",
      "b'\\t\"In every non-trivial program there is at least one bug.\"\\r\\n'\n",
      "b'\\r\\n'\n",
      "b'\\r\\n'\n",
      "b'[12:07:10]patFileNames.cc:52  models/26jul_G_res.par does not exist\\r\\n'\n",
      "b'[12:07:10]patFileNames.cc:56  Trying default.par instead\\r\\n'\n",
      "b'[12:07:10]patBiogeme.cc:134  Read default.par\\r\\n'\n",
      "b'Warning:  Lower bound on mu set to 1e-005\\r\\n'\n",
      "b'Warning:   Value defined by gevMinimumMu in default.par\\r\\n'\n",
      "b' Opening file models-data/data_26jul_1.dat\\r\\n'\n",
      "b' Data  file... line 500\\tMemory: 67 Kb\\r\\n'\n",
      "b' Total obs.:   837\\r\\n'\n",
      "b' Total memory: 112.934 Kb\\r\\n'\n",
      "b' 59%\\t[500/838] Est. term. time: 07/26/16 12:07:10 (in 00:00)\\r\\n'\n",
      "b' BIOSIM Input file\\r\\n'\n",
      "b' =================\\r\\n'\n",
      "b' Model specification:\\tmodels/26jul_G_res.mod\\r\\n'\n",
      "b' BIOSIM Output file\\r\\n'\n",
      "b' ==================\\r\\n'\n",
      "b' Sample enumeration:\\tmodels/26jul_G_res.enu\\r\\n'\n"
     ]
    }
   ],
   "source": [
    "p = subprocess.Popen(['C:/Program Files (x86)/biogeme-2.4/biogeme-2.4/biosim.exe', model_name+'_res',model_data], shell=True, stdout=subprocess.PIPE, stderr=subprocess.STDOUT)\n",
    "for line in p.stdout.readlines():\n",
    "    print (line),\n",
    "retval = p.wait()"
   ]
  },
  {
   "cell_type": "code",
   "execution_count": 17,
   "metadata": {
    "collapsed": false
   },
   "outputs": [
    {
     "data": {
      "text/html": [
       "<div>\n",
       "<table border=\"1\" class=\"dataframe\">\n",
       "  <thead>\n",
       "    <tr style=\"text-align: right;\">\n",
       "      <th></th>\n",
       "      <th>Choice_Id</th>\n",
       "      <th>P_choice</th>\n",
       "      <th>V_A1_TAXI</th>\n",
       "      <th>V_A2_TRANSIT</th>\n",
       "      <th>V_A3_OTHER</th>\n",
       "      <th>V_A4_FREE</th>\n",
       "      <th>P_A1_TAXI</th>\n",
       "      <th>Residual_A1_TAXI</th>\n",
       "      <th>P_A2_TRANSIT</th>\n",
       "      <th>Residual_A2_TRANSIT</th>\n",
       "      <th>...</th>\n",
       "      <th>Simul91</th>\n",
       "      <th>Simul92</th>\n",
       "      <th>Simul93</th>\n",
       "      <th>Simul94</th>\n",
       "      <th>Simul95</th>\n",
       "      <th>Simul96</th>\n",
       "      <th>Simul97</th>\n",
       "      <th>Simul98</th>\n",
       "      <th>Simul99</th>\n",
       "      <th>Simul100</th>\n",
       "    </tr>\n",
       "  </thead>\n",
       "  <tbody>\n",
       "    <tr>\n",
       "      <th>0</th>\n",
       "      <td>1</td>\n",
       "      <td>0.538302</td>\n",
       "      <td>-0.243416</td>\n",
       "      <td>-1.370364</td>\n",
       "      <td>-0.871387</td>\n",
       "      <td>-9999.99</td>\n",
       "      <td>0.538302</td>\n",
       "      <td>0.461698</td>\n",
       "      <td>0.174421</td>\n",
       "      <td>-0.174421</td>\n",
       "      <td>...</td>\n",
       "      <td>3</td>\n",
       "      <td>2</td>\n",
       "      <td>1</td>\n",
       "      <td>3</td>\n",
       "      <td>1</td>\n",
       "      <td>1</td>\n",
       "      <td>3</td>\n",
       "      <td>1</td>\n",
       "      <td>3</td>\n",
       "      <td>1</td>\n",
       "    </tr>\n",
       "    <tr>\n",
       "      <th>1</th>\n",
       "      <td>1</td>\n",
       "      <td>0.538302</td>\n",
       "      <td>-0.243416</td>\n",
       "      <td>-1.370364</td>\n",
       "      <td>-0.871387</td>\n",
       "      <td>-9999.99</td>\n",
       "      <td>0.538302</td>\n",
       "      <td>0.461698</td>\n",
       "      <td>0.174421</td>\n",
       "      <td>-0.174421</td>\n",
       "      <td>...</td>\n",
       "      <td>1</td>\n",
       "      <td>1</td>\n",
       "      <td>1</td>\n",
       "      <td>1</td>\n",
       "      <td>1</td>\n",
       "      <td>1</td>\n",
       "      <td>1</td>\n",
       "      <td>1</td>\n",
       "      <td>3</td>\n",
       "      <td>3</td>\n",
       "    </tr>\n",
       "    <tr>\n",
       "      <th>2</th>\n",
       "      <td>1</td>\n",
       "      <td>0.538302</td>\n",
       "      <td>-0.243416</td>\n",
       "      <td>-1.370364</td>\n",
       "      <td>-0.871387</td>\n",
       "      <td>-9999.99</td>\n",
       "      <td>0.538302</td>\n",
       "      <td>0.461698</td>\n",
       "      <td>0.174421</td>\n",
       "      <td>-0.174421</td>\n",
       "      <td>...</td>\n",
       "      <td>3</td>\n",
       "      <td>3</td>\n",
       "      <td>1</td>\n",
       "      <td>3</td>\n",
       "      <td>1</td>\n",
       "      <td>2</td>\n",
       "      <td>3</td>\n",
       "      <td>1</td>\n",
       "      <td>3</td>\n",
       "      <td>1</td>\n",
       "    </tr>\n",
       "    <tr>\n",
       "      <th>3</th>\n",
       "      <td>1</td>\n",
       "      <td>0.538302</td>\n",
       "      <td>-0.243416</td>\n",
       "      <td>-1.370364</td>\n",
       "      <td>-0.871387</td>\n",
       "      <td>-9999.99</td>\n",
       "      <td>0.538302</td>\n",
       "      <td>0.461698</td>\n",
       "      <td>0.174421</td>\n",
       "      <td>-0.174421</td>\n",
       "      <td>...</td>\n",
       "      <td>1</td>\n",
       "      <td>1</td>\n",
       "      <td>2</td>\n",
       "      <td>1</td>\n",
       "      <td>2</td>\n",
       "      <td>2</td>\n",
       "      <td>3</td>\n",
       "      <td>2</td>\n",
       "      <td>2</td>\n",
       "      <td>3</td>\n",
       "    </tr>\n",
       "    <tr>\n",
       "      <th>4</th>\n",
       "      <td>1</td>\n",
       "      <td>0.538302</td>\n",
       "      <td>-0.243416</td>\n",
       "      <td>-1.370364</td>\n",
       "      <td>-0.871387</td>\n",
       "      <td>-9999.99</td>\n",
       "      <td>0.538302</td>\n",
       "      <td>0.461698</td>\n",
       "      <td>0.174421</td>\n",
       "      <td>-0.174421</td>\n",
       "      <td>...</td>\n",
       "      <td>2</td>\n",
       "      <td>2</td>\n",
       "      <td>1</td>\n",
       "      <td>2</td>\n",
       "      <td>1</td>\n",
       "      <td>1</td>\n",
       "      <td>1</td>\n",
       "      <td>1</td>\n",
       "      <td>2</td>\n",
       "      <td>1</td>\n",
       "    </tr>\n",
       "  </tbody>\n",
       "</table>\n",
       "<p>5 rows × 115 columns</p>\n",
       "</div>"
      ],
      "text/plain": [
       "   Choice_Id  P_choice  V_A1_TAXI  V_A2_TRANSIT  V_A3_OTHER  V_A4_FREE  \\\n",
       "0          1  0.538302  -0.243416     -1.370364   -0.871387   -9999.99   \n",
       "1          1  0.538302  -0.243416     -1.370364   -0.871387   -9999.99   \n",
       "2          1  0.538302  -0.243416     -1.370364   -0.871387   -9999.99   \n",
       "3          1  0.538302  -0.243416     -1.370364   -0.871387   -9999.99   \n",
       "4          1  0.538302  -0.243416     -1.370364   -0.871387   -9999.99   \n",
       "\n",
       "   P_A1_TAXI  Residual_A1_TAXI  P_A2_TRANSIT  Residual_A2_TRANSIT    ...     \\\n",
       "0   0.538302          0.461698      0.174421            -0.174421    ...      \n",
       "1   0.538302          0.461698      0.174421            -0.174421    ...      \n",
       "2   0.538302          0.461698      0.174421            -0.174421    ...      \n",
       "3   0.538302          0.461698      0.174421            -0.174421    ...      \n",
       "4   0.538302          0.461698      0.174421            -0.174421    ...      \n",
       "\n",
       "   Simul91  Simul92  Simul93  Simul94  Simul95  Simul96  Simul97  Simul98  \\\n",
       "0        3        2        1        3        1        1        3        1   \n",
       "1        1        1        1        1        1        1        1        1   \n",
       "2        3        3        1        3        1        2        3        1   \n",
       "3        1        1        2        1        2        2        3        2   \n",
       "4        2        2        1        2        1        1        1        1   \n",
       "\n",
       "   Simul99  Simul100  \n",
       "0        3         1  \n",
       "1        3         3  \n",
       "2        3         1  \n",
       "3        2         3  \n",
       "4        2         1  \n",
       "\n",
       "[5 rows x 115 columns]"
      ]
     },
     "execution_count": 17,
     "metadata": {},
     "output_type": "execute_result"
    }
   ],
   "source": [
    "simres = pd.read_csv(model_name+'_res.enu',sep='\\t')\n",
    "simres.head()"
   ]
  },
  {
   "cell_type": "code",
   "execution_count": 18,
   "metadata": {
    "collapsed": true
   },
   "outputs": [],
   "source": [
    "simul_start = list(simres.columns).index('Simul1')\n",
    "from collections import Counter\n",
    "def count_correct(row):\n",
    "    return list(row[simul_start:]).count(row.Choice_Id)\n",
    "def simul_mode(row):\n",
    "    return int(Counter(list(row[simul_start:])).most_common(1)[0][0])"
   ]
  },
  {
   "cell_type": "code",
   "execution_count": 19,
   "metadata": {
    "collapsed": false
   },
   "outputs": [],
   "source": [
    "simres['Accuracy'] = simres.apply(count_correct,axis=1)\n",
    "simres['Mode_Prediction'] = simres.apply(simul_mode,axis=1)"
   ]
  },
  {
   "cell_type": "code",
   "execution_count": 20,
   "metadata": {
    "collapsed": false
   },
   "outputs": [],
   "source": [
    "simres['ModeAccurate'] = simres['Choice_Id']==simres['Mode_Prediction']"
   ]
  },
  {
   "cell_type": "code",
   "execution_count": 21,
   "metadata": {
    "collapsed": false
   },
   "outputs": [
    {
     "data": {
      "text/plain": [
       "Choice_Id\n",
       "1    57.880000\n",
       "2    19.714286\n",
       "3    24.126761\n",
       "4    99.991189\n",
       "Name: Accuracy, dtype: float64"
      ]
     },
     "execution_count": 21,
     "metadata": {},
     "output_type": "execute_result"
    }
   ],
   "source": [
    "simres.groupby('Choice_Id')['Accuracy'].mean()"
   ]
  },
  {
   "cell_type": "code",
   "execution_count": 22,
   "metadata": {
    "collapsed": false
   },
   "outputs": [
    {
     "data": {
      "text/plain": [
       "Choice_Id\n",
       "1    1.000000\n",
       "2    0.008403\n",
       "3    0.000000\n",
       "4    1.000000\n",
       "Name: ModeAccurate, dtype: float64"
      ]
     },
     "execution_count": 22,
     "metadata": {},
     "output_type": "execute_result"
    }
   ],
   "source": [
    "simres.groupby('Choice_Id')['ModeAccurate'].mean()"
   ]
  },
  {
   "cell_type": "code",
   "execution_count": 23,
   "metadata": {
    "collapsed": false
   },
   "outputs": [
    {
     "data": {
      "text/plain": [
       "Choice_Id  Mode_Prediction\n",
       "1          1                  350\n",
       "2          1                  118\n",
       "           2                    1\n",
       "3          1                  142\n",
       "4          4                  227\n",
       "dtype: int64"
      ]
     },
     "execution_count": 23,
     "metadata": {},
     "output_type": "execute_result"
    }
   ],
   "source": [
    "simres.groupby(['Choice_Id','Mode_Prediction']).size()"
   ]
  },
  {
   "cell_type": "code",
   "execution_count": null,
   "metadata": {
    "collapsed": true
   },
   "outputs": [],
   "source": []
  },
  {
   "cell_type": "code",
   "execution_count": null,
   "metadata": {
    "collapsed": true
   },
   "outputs": [],
   "source": []
  }
 ],
 "metadata": {
  "kernelspec": {
   "display_name": "Python 3",
   "language": "python",
   "name": "python3"
  },
  "language_info": {
   "codemirror_mode": {
    "name": "ipython",
    "version": 3
   },
   "file_extension": ".py",
   "mimetype": "text/x-python",
   "name": "python",
   "nbconvert_exporter": "python",
   "pygments_lexer": "ipython3",
   "version": "3.4.4"
  }
 },
 "nbformat": 4,
 "nbformat_minor": 0
}
