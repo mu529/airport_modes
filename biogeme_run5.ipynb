{
 "cells": [
  {
   "cell_type": "code",
   "execution_count": 3,
   "metadata": {
    "collapsed": true
   },
   "outputs": [],
   "source": [
    "import subprocess\n",
    "import pandas as pd"
   ]
  },
  {
   "cell_type": "code",
   "execution_count": 14,
   "metadata": {
    "collapsed": true
   },
   "outputs": [],
   "source": [
    "model_name = 'models/30jun_4modesB2'\n",
    "model_data = 'models-data/data_30junB.dat'"
   ]
  },
  {
   "cell_type": "code",
   "execution_count": 18,
   "metadata": {
    "collapsed": false,
    "scrolled": false
   },
   "outputs": [
    {
     "name": "stdout",
     "output_type": "stream",
     "text": [
      "b'~~~~~~~~~~~~~~~~~~~~~~~~~~~~~~~~~~~~~~~~~~~~~~~~~~~~~~\\r\\n'\n",
      "b'biogeme 2.4 [Sun Oct 25 23:01:47 WEST 2015]\\r\\n'\n",
      "b'Michel Bierlaire, EPFL\\r\\n'\n",
      "b'-- Compiled by biogeme@hotmail.com on MINGW32_NT-6.1\\r\\n'\n",
      "b'See http://biogeme.epfl.ch\\r\\n'\n",
      "b'                    !! CFSQP is available !!\\r\\n'\n",
      "b'~~~~~~~~~~~~~~~~~~~~~~~~~~~~~~~~~~~~~~~~~~~~~~~~~~~~~~\\r\\n'\n",
      "b'\\t\"In every non-trivial program there is at least one bug.\"\\r\\n'\n",
      "b'\\r\\n'\n",
      "b'\\r\\n'\n",
      "b'[01:11:44]patFileNames.cc:52  models/30jun_4modesB2.par does not exist\\r\\n'\n",
      "b'[01:11:44]patFileNames.cc:56  Trying default.par instead\\r\\n'\n",
      "b'[01:11:44]patBiogeme.cc:134  Read default.par\\r\\n'\n",
      "b' Opening file models-data/data_30junB.dat\\r\\n'\n",
      "b' Data  file... line 500\\tMemory: 59 Kb\\r\\n'\n",
      "b' Total obs.:   837\\r\\n'\n",
      "b' Total memory: 99.8398 Kb\\r\\n'\n",
      "b' Run time for data processing: 00:00\\r\\n'\n",
      "b' Init loglike=-985.941\\r\\n'\n",
      "b'     gmax Iter   radius        f(x)     Status       rhok nFree\\r\\n'\n",
      "b' +1.01e+000    1 1.00e+000 +9.8594093e+002 ****OutTrReg +1.00e+000 5  ++ P\\r\\n'\n",
      "b' +1.01e+000    2 2.00e+000 +7.2963196e+002 ****Converg  +6.00e-001 5  +  P\\r\\n'\n",
      "b' +1.01e+000    3 2.00e+000 +6.7422907e+002 ****Converg  +6.81e-001 5  +  P\\r\\n'\n",
      "b' +1.37e-001    4 2.00e+000 +6.4567360e+002 ****OutTrReg +8.94e-001 5  +  P\\r\\n'\n",
      "b' +1.01e+000    5 2.00e+000 +6.0736967e+002 ****Converg  +6.94e-001 5  +  P\\r\\n'\n",
      "b' +9.10e-001    6 2.00e+000 +6.0082283e+002 ****Converg  +9.52e-001 5  ++ P\\r\\n'\n",
      "b' +1.15e-001    7 4.00e+000 +6.0010076e+002 ****Converg  +1.03e+000 5  ++ P\\r\\n'\n",
      "b' +2.96e-002    8 8.00e+000 +5.9800830e+002 ****Converg  +1.23e+000 5  ++ P\\r\\n'\n",
      "b' +1.33e-002    9 1.60e+001 +5.9318282e+002 ****Converg  +1.26e+000 5  ++ P\\r\\n'\n",
      "b' +3.95e-002   10 3.20e+001 +5.9150704e+002 ****Converg  +9.92e-001 5  ++ P\\r\\n'\n",
      "b' +5.39e-003   11 6.40e+001 +5.9146968e+002 ****Converg  +1.25e+000 5  ++ P\\r\\n'\n",
      "b' +2.32e-003   12 1.28e+002 +5.9088379e+002 ****Converg  +1.26e+000 5  ++ P\\r\\n'\n",
      "b' +6.47e-003   13 2.56e+002 +5.9068241e+002 ****Converg  +9.90e-001 5  ++ P\\r\\n'\n",
      "b' +9.60e-004   14 5.12e+002 +5.9068169e+002 ****Converg  +1.26e+000 5  ++ P\\r\\n'\n",
      "b' +2.78e-003   15 1.02e+003 +5.9060867e+002 ****Converg  +9.95e-001 5  ++ P\\r\\n'\n",
      "b' +3.94e-004   16 2.05e+003 +5.9060857e+002 ****Converg  +1.26e+000 5  ++ P\\r\\n'\n",
      "b' +1.30e-003   17 4.10e+003 +5.9058214e+002 ****Converg  +1.00e+000 5  ++ P\\r\\n'\n",
      "b' +1.60e-004   18 8.19e+003 +5.9058214e+002 ****Converg  +1.26e+000 5  ++ P\\r\\n'\n",
      "b' +5.40e-004   19 1.64e+004 +5.9057247e+002 ****Converg  +1.00e+000 5  ++ P\\r\\n'\n",
      "b' +6.47e-005   20 3.28e+004 +5.9057247e+002 ****Converg  +1.26e+000 5  ++ P\\r\\n'\n",
      "b' +2.00e-004   21 6.55e+004 +5.9056892e+002 ****Converg  +1.00e+000 5  ++ P\\r\\n'\n",
      "b' +2.59e-005   22 1.31e+005 +5.9056892e+002 ****Converg  +1.26e+000 5  ++ P\\r\\n'\n",
      "b' +7.39e-005   23 2.62e+005 +5.9056761e+002 ****Converg  +1.00e+000 5  ++ P\\r\\n'\n",
      "b' +1.03e-005   24 5.24e+005 +5.9056761e+002 ****Converg  +1.26e+000 5  ++ P\\r\\n'\n",
      "b' +2.72e-005   25 1.05e+006 +5.9056713e+002 ****Converg  +1.00e+000 5  ++ P\\r\\n'\n",
      "b'\\r\\n'\n",
      "b' Convergence reached...\\r\\n'\n",
      "b'--> time interval [01:11:44,01:11:44]\\r\\n'\n",
      "b' Run time: 00:00\\r\\n'\n",
      "b' Final log likelihood=-590.567\\r\\n'\n",
      "b' Be patient... BIOGEME is preparing the output files\\r\\n'\n",
      "b'--> time interval [01:11:44,01:11:44]\\r\\n'\n",
      "b' Run time for var/covar computation: 00:00\\r\\n'\n",
      "b' BIOGEME Input files\\r\\n'\n",
      "b' ===================\\r\\n'\n",
      "b' Parameters:\\t\\t\\tdefault.par\\r\\n'\n",
      "b' Model specification:\\t\\tmodels/30jun_4modesB2.mod\\r\\n'\n",
      "b' Sample 1 :\\t\\t\\t\\tmodels-data/data_30junB.dat\\r\\n'\n",
      "b' BIOGEME Output files\\r\\n'\n",
      "b' ====================\\r\\n'\n",
      "b' Estimation results:\\t\\tmodels/30jun_4modesB2.rep\\r\\n'\n",
      "b' Estimation results (HTML):\\tmodels/30jun_4modesB2.html\\r\\n'\n",
      "b' Estimation results (Latex):\\tmodels/30jun_4modesB2.tex\\r\\n'\n",
      "b' Estimation results (ALogit):\\tmodels/30jun_4modesB2.F12\\r\\n'\n",
      "b' Result model spec. file:\\tmodels/30jun_4modesB2.res\\r\\n'\n",
      "b' Sample statistics:\\t\\tmodels/30jun_4modesB2.sta\\r\\n'\n",
      "b' BIOGEME Debug files\\r\\n'\n",
      "b' ===================\\r\\n'\n",
      "b' Log file:\\t\\t\\tmodels/30jun_4modesB2.log\\r\\n'\n",
      "b' Parameters debug:\\t\\tparameters.out\\r\\n'\n",
      "b' Model debug:\\t\\t\\tmodel.debug\\r\\n'\n",
      "b' Model spec. file debug:\\t\\t__specFile.debug\\r\\n'\n",
      "b' Model informations: Logit Model\\r\\n'\n",
      "b' ==================\\r\\n'\n",
      "b' The minimum argument of exp was -21.8996\\r\\n'\n",
      "b'\\r\\n'\n",
      "b' Run time for estimation:      00:00\\r\\n'\n",
      "b' Total run time:               00:00\\r\\n'\n"
     ]
    }
   ],
   "source": [
    "p = subprocess.Popen(['C:/Program Files (x86)/biogeme-2.4/biogeme-2.4/biogeme.exe', model_name,model_data], shell=True, stdout=subprocess.PIPE, stderr=subprocess.STDOUT)\n",
    "for line in p.stdout.readlines():\n",
    "    print (line),\n",
    "retval = p.wait()"
   ]
  },
  {
   "cell_type": "code",
   "execution_count": 19,
   "metadata": {
    "collapsed": false
   },
   "outputs": [
    {
     "name": "stdout",
     "output_type": "stream",
     "text": [
      "Found it.\n",
      "Changed to 100.\n"
     ]
    }
   ],
   "source": [
    "with open(model_name+'_res.mod','wb') as simmod:\n",
    "    with open(model_name+'.res','rb') as res:\n",
    "        searchlines = res.readlines()\n",
    "        foundit = False\n",
    "        for i, line in enumerate(searchlines):\n",
    "            if foundit==False:\n",
    "                if b'[SampleEnum]' in line:\n",
    "                    print('Found it.')\n",
    "                    foundit = True\n",
    "                simmod.write(line)\n",
    "            else:\n",
    "                if line.decode(\"utf-8\").find('0\\r\\n')==0:\n",
    "                    print('Changed to 100.')\n",
    "                    simmod.write(b'100\\r\\n')\n",
    "                    foundit==False\n",
    "                else:\n",
    "                    simmod.write(line)"
   ]
  },
  {
   "cell_type": "code",
   "execution_count": 20,
   "metadata": {
    "collapsed": false
   },
   "outputs": [
    {
     "name": "stdout",
     "output_type": "stream",
     "text": [
      "b'~~~~~~~~~~~~~~~~~~~~~~~~~~~~~~~~~~~~~~~~~~~~~~~~~~~~~~\\r\\n'\n",
      "b'biogeme 2.4 [Sun Oct 25 23:01:47 WEST 2015]\\r\\n'\n",
      "b'Michel Bierlaire, EPFL\\r\\n'\n",
      "b'-- Compiled by biogeme@hotmail.com on MINGW32_NT-6.1\\r\\n'\n",
      "b'See http://biogeme.epfl.ch\\r\\n'\n",
      "b'                    !! CFSQP is available !!\\r\\n'\n",
      "b'~~~~~~~~~~~~~~~~~~~~~~~~~~~~~~~~~~~~~~~~~~~~~~~~~~~~~~\\r\\n'\n",
      "b'\\t\"In every non-trivial program there is at least one bug.\"\\r\\n'\n",
      "b'\\r\\n'\n",
      "b'\\r\\n'\n",
      "b'[01:12:21]patFileNames.cc:52  models/30jun_4modesB2_res.par does not exist\\r\\n'\n",
      "b'[01:12:21]patFileNames.cc:56  Trying default.par instead\\r\\n'\n",
      "b'[01:12:21]patBiogeme.cc:134  Read default.par\\r\\n'\n",
      "b'Warning:  Lower bound on mu set to 1e-005\\r\\n'\n",
      "b'Warning:   Value defined by gevMinimumMu in default.par\\r\\n'\n",
      "b' Opening file models-data/data_30junB.dat\\r\\n'\n",
      "b' Data  file... line 500\\tMemory: 59 Kb\\r\\n'\n",
      "b' Total obs.:   837\\r\\n'\n",
      "b' Total memory: 99.8398 Kb\\r\\n'\n",
      "b' 59%\\t[500/838] Est. term. time: 07/01/16 01:12:21 (in 00:00)\\r\\n'\n",
      "b' BIOSIM Input file\\r\\n'\n",
      "b' =================\\r\\n'\n",
      "b' Model specification:\\tmodels/30jun_4modesB2_res.mod\\r\\n'\n",
      "b' BIOSIM Output file\\r\\n'\n",
      "b' ==================\\r\\n'\n",
      "b' Sample enumeration:\\tmodels/30jun_4modesB2_res.enu\\r\\n'\n"
     ]
    }
   ],
   "source": [
    "p = subprocess.Popen(['C:/Program Files (x86)/biogeme-2.4/biogeme-2.4/biosim.exe', model_name+'_res',model_data], shell=True, stdout=subprocess.PIPE, stderr=subprocess.STDOUT)\n",
    "for line in p.stdout.readlines():\n",
    "    print (line),\n",
    "retval = p.wait()"
   ]
  },
  {
   "cell_type": "code",
   "execution_count": 45,
   "metadata": {
    "collapsed": false
   },
   "outputs": [
    {
     "data": {
      "text/html": [
       "<div>\n",
       "<table border=\"1\" class=\"dataframe\">\n",
       "  <thead>\n",
       "    <tr style=\"text-align: right;\">\n",
       "      <th></th>\n",
       "      <th>Choice_Id</th>\n",
       "      <th>P_choice</th>\n",
       "      <th>V_A1_TAXI</th>\n",
       "      <th>V_A2_TRANSIT</th>\n",
       "      <th>V_A3_OTHER</th>\n",
       "      <th>V_A4_FREE</th>\n",
       "      <th>P_A1_TAXI</th>\n",
       "      <th>Residual_A1_TAXI</th>\n",
       "      <th>P_A2_TRANSIT</th>\n",
       "      <th>Residual_A2_TRANSIT</th>\n",
       "      <th>...</th>\n",
       "      <th>Simul91</th>\n",
       "      <th>Simul92</th>\n",
       "      <th>Simul93</th>\n",
       "      <th>Simul94</th>\n",
       "      <th>Simul95</th>\n",
       "      <th>Simul96</th>\n",
       "      <th>Simul97</th>\n",
       "      <th>Simul98</th>\n",
       "      <th>Simul99</th>\n",
       "      <th>Simul100</th>\n",
       "    </tr>\n",
       "  </thead>\n",
       "  <tbody>\n",
       "    <tr>\n",
       "      <th>0</th>\n",
       "      <td>1</td>\n",
       "      <td>0.561875</td>\n",
       "      <td>0.192995</td>\n",
       "      <td>-0.741756</td>\n",
       "      <td>-0.756148</td>\n",
       "      <td>-9999.99</td>\n",
       "      <td>0.561875</td>\n",
       "      <td>0.438125</td>\n",
       "      <td>0.220639</td>\n",
       "      <td>-0.220639</td>\n",
       "      <td>...</td>\n",
       "      <td>2</td>\n",
       "      <td>2</td>\n",
       "      <td>1</td>\n",
       "      <td>3</td>\n",
       "      <td>1</td>\n",
       "      <td>1</td>\n",
       "      <td>2</td>\n",
       "      <td>1</td>\n",
       "      <td>2</td>\n",
       "      <td>1</td>\n",
       "    </tr>\n",
       "    <tr>\n",
       "      <th>1</th>\n",
       "      <td>1</td>\n",
       "      <td>0.561875</td>\n",
       "      <td>0.192995</td>\n",
       "      <td>-0.741756</td>\n",
       "      <td>-0.756148</td>\n",
       "      <td>-9999.99</td>\n",
       "      <td>0.561875</td>\n",
       "      <td>0.438125</td>\n",
       "      <td>0.220639</td>\n",
       "      <td>-0.220639</td>\n",
       "      <td>...</td>\n",
       "      <td>1</td>\n",
       "      <td>1</td>\n",
       "      <td>1</td>\n",
       "      <td>1</td>\n",
       "      <td>1</td>\n",
       "      <td>1</td>\n",
       "      <td>1</td>\n",
       "      <td>1</td>\n",
       "      <td>3</td>\n",
       "      <td>3</td>\n",
       "    </tr>\n",
       "    <tr>\n",
       "      <th>2</th>\n",
       "      <td>1</td>\n",
       "      <td>0.561875</td>\n",
       "      <td>0.192995</td>\n",
       "      <td>-0.741756</td>\n",
       "      <td>-0.756148</td>\n",
       "      <td>-9999.99</td>\n",
       "      <td>0.561875</td>\n",
       "      <td>0.438125</td>\n",
       "      <td>0.220639</td>\n",
       "      <td>-0.220639</td>\n",
       "      <td>...</td>\n",
       "      <td>2</td>\n",
       "      <td>2</td>\n",
       "      <td>1</td>\n",
       "      <td>2</td>\n",
       "      <td>1</td>\n",
       "      <td>2</td>\n",
       "      <td>3</td>\n",
       "      <td>1</td>\n",
       "      <td>3</td>\n",
       "      <td>1</td>\n",
       "    </tr>\n",
       "    <tr>\n",
       "      <th>3</th>\n",
       "      <td>1</td>\n",
       "      <td>0.561875</td>\n",
       "      <td>0.192995</td>\n",
       "      <td>-0.741756</td>\n",
       "      <td>-0.756148</td>\n",
       "      <td>-9999.99</td>\n",
       "      <td>0.561875</td>\n",
       "      <td>0.438125</td>\n",
       "      <td>0.220639</td>\n",
       "      <td>-0.220639</td>\n",
       "      <td>...</td>\n",
       "      <td>1</td>\n",
       "      <td>1</td>\n",
       "      <td>2</td>\n",
       "      <td>1</td>\n",
       "      <td>2</td>\n",
       "      <td>1</td>\n",
       "      <td>3</td>\n",
       "      <td>2</td>\n",
       "      <td>2</td>\n",
       "      <td>3</td>\n",
       "    </tr>\n",
       "    <tr>\n",
       "      <th>4</th>\n",
       "      <td>1</td>\n",
       "      <td>0.561875</td>\n",
       "      <td>0.192995</td>\n",
       "      <td>-0.741756</td>\n",
       "      <td>-0.756148</td>\n",
       "      <td>-9999.99</td>\n",
       "      <td>0.561875</td>\n",
       "      <td>0.438125</td>\n",
       "      <td>0.220639</td>\n",
       "      <td>-0.220639</td>\n",
       "      <td>...</td>\n",
       "      <td>2</td>\n",
       "      <td>2</td>\n",
       "      <td>1</td>\n",
       "      <td>2</td>\n",
       "      <td>1</td>\n",
       "      <td>1</td>\n",
       "      <td>1</td>\n",
       "      <td>1</td>\n",
       "      <td>2</td>\n",
       "      <td>1</td>\n",
       "    </tr>\n",
       "  </tbody>\n",
       "</table>\n",
       "<p>5 rows × 115 columns</p>\n",
       "</div>"
      ],
      "text/plain": [
       "   Choice_Id  P_choice  V_A1_TAXI  V_A2_TRANSIT  V_A3_OTHER  V_A4_FREE  \\\n",
       "0          1  0.561875   0.192995     -0.741756   -0.756148   -9999.99   \n",
       "1          1  0.561875   0.192995     -0.741756   -0.756148   -9999.99   \n",
       "2          1  0.561875   0.192995     -0.741756   -0.756148   -9999.99   \n",
       "3          1  0.561875   0.192995     -0.741756   -0.756148   -9999.99   \n",
       "4          1  0.561875   0.192995     -0.741756   -0.756148   -9999.99   \n",
       "\n",
       "   P_A1_TAXI  Residual_A1_TAXI  P_A2_TRANSIT  Residual_A2_TRANSIT    ...     \\\n",
       "0   0.561875          0.438125      0.220639            -0.220639    ...      \n",
       "1   0.561875          0.438125      0.220639            -0.220639    ...      \n",
       "2   0.561875          0.438125      0.220639            -0.220639    ...      \n",
       "3   0.561875          0.438125      0.220639            -0.220639    ...      \n",
       "4   0.561875          0.438125      0.220639            -0.220639    ...      \n",
       "\n",
       "   Simul91  Simul92  Simul93  Simul94  Simul95  Simul96  Simul97  Simul98  \\\n",
       "0        2        2        1        3        1        1        2        1   \n",
       "1        1        1        1        1        1        1        1        1   \n",
       "2        2        2        1        2        1        2        3        1   \n",
       "3        1        1        2        1        2        1        3        2   \n",
       "4        2        2        1        2        1        1        1        1   \n",
       "\n",
       "   Simul99  Simul100  \n",
       "0        2         1  \n",
       "1        3         3  \n",
       "2        3         1  \n",
       "3        2         3  \n",
       "4        2         1  \n",
       "\n",
       "[5 rows x 115 columns]"
      ]
     },
     "execution_count": 45,
     "metadata": {},
     "output_type": "execute_result"
    }
   ],
   "source": [
    "simres = pd.read_csv(model_name+'_res.enu',sep='\\t')\n",
    "simres.head()"
   ]
  },
  {
   "cell_type": "code",
   "execution_count": 46,
   "metadata": {
    "collapsed": true
   },
   "outputs": [],
   "source": [
    "simul_start = list(simres.columns).index('Simul1')\n",
    "from collections import Counter\n",
    "def count_correct(row):\n",
    "    return list(row[simul_start:]).count(row.Choice_Id)\n",
    "def simul_mode(row):\n",
    "    return int(Counter(list(row[simul_start:])).most_common(1)[0][0])"
   ]
  },
  {
   "cell_type": "code",
   "execution_count": 47,
   "metadata": {
    "collapsed": false
   },
   "outputs": [],
   "source": [
    "simres['Accuracy'] = simres.apply(count_correct,axis=1)\n",
    "simres['Mode_Prediction'] = simres.apply(simul_mode,axis=1)"
   ]
  },
  {
   "cell_type": "code",
   "execution_count": 50,
   "metadata": {
    "collapsed": false
   },
   "outputs": [],
   "source": [
    "simres['ModeAccurate'] = simres['Choice_Id']==simres['Mode_Prediction']"
   ]
  },
  {
   "cell_type": "code",
   "execution_count": 38,
   "metadata": {
    "collapsed": false
   },
   "outputs": [
    {
     "data": {
      "text/plain": [
       "Choice_Id\n",
       "1    57.871429\n",
       "2    21.865546\n",
       "3    23.070423\n",
       "4    99.991189\n",
       "Name: Accuracy, dtype: float64"
      ]
     },
     "execution_count": 38,
     "metadata": {},
     "output_type": "execute_result"
    }
   ],
   "source": [
    "simres.groupby('Choice_Id')['Accuracy'].mean()"
   ]
  },
  {
   "cell_type": "code",
   "execution_count": 51,
   "metadata": {
    "collapsed": false
   },
   "outputs": [
    {
     "data": {
      "text/plain": [
       "Choice_Id\n",
       "1    0.982857\n",
       "2    0.084034\n",
       "3    0.000000\n",
       "4    1.000000\n",
       "Name: ModeAccurate, dtype: float64"
      ]
     },
     "execution_count": 51,
     "metadata": {},
     "output_type": "execute_result"
    }
   ],
   "source": [
    "simres.groupby('Choice_Id')['ModeAccurate'].mean()"
   ]
  },
  {
   "cell_type": "code",
   "execution_count": null,
   "metadata": {
    "collapsed": true
   },
   "outputs": [],
   "source": []
  }
 ],
 "metadata": {
  "kernelspec": {
   "display_name": "Python 3",
   "language": "python",
   "name": "python3"
  },
  "language_info": {
   "codemirror_mode": {
    "name": "ipython",
    "version": 3
   },
   "file_extension": ".py",
   "mimetype": "text/x-python",
   "name": "python",
   "nbconvert_exporter": "python",
   "pygments_lexer": "ipython3",
   "version": "3.4.4"
  }
 },
 "nbformat": 4,
 "nbformat_minor": 0
}
