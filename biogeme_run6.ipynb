{
 "cells": [
  {
   "cell_type": "code",
   "execution_count": 1,
   "metadata": {
    "collapsed": true
   },
   "outputs": [],
   "source": [
    "import subprocess\n",
    "import pandas as pd"
   ]
  },
  {
   "cell_type": "code",
   "execution_count": 2,
   "metadata": {
    "collapsed": true
   },
   "outputs": [],
   "source": [
    "model_name = 'models/08JUL_TT_betas'\n",
    "model_data = 'models-data/data_30junB.dat'"
   ]
  },
  {
   "cell_type": "code",
   "execution_count": 3,
   "metadata": {
    "collapsed": false,
    "scrolled": false
   },
   "outputs": [
    {
     "name": "stdout",
     "output_type": "stream",
     "text": [
      "~~~~~~~~~~~~~~~~~~~~~~~~~~~~~~~~~~~~~~~~~~~~~~~~~~~~~~\r\n",
      "biogeme 2.4 [Sun Oct 25 23:01:47 WEST 2015]\r\n",
      "Michel Bierlaire, EPFL\r\n",
      "-- Compiled by biogeme@hotmail.com on MINGW32_NT-6.1\r\n",
      "See http://biogeme.epfl.ch\r\n",
      "                    !! CFSQP is available !!\r\n",
      "~~~~~~~~~~~~~~~~~~~~~~~~~~~~~~~~~~~~~~~~~~~~~~~~~~~~~~\r\n",
      "\t\"In every non-trivial program there is at least one bug.\"\r\n",
      "\r\n",
      "\r\n",
      "[13:27:52]patFileNames.cc:52  models/08JUL_TT_betas.par does not exist\r\n",
      "[13:27:52]patFileNames.cc:56  Trying default.par instead\r\n",
      "[13:27:52]patBiogeme.cc:134  Read default.par\r\n",
      " Opening file models-data/data_30junB.dat\r\n",
      " Data  file... line 500\tMemory: 59 Kb\r\n",
      " Total obs.:   837\r\n",
      " Total memory: 99.8398 Kb\r\n",
      " Run time for data processing: 00:00\r\n",
      " Init loglike=-985.941\r\n",
      "     gmax Iter   radius        f(x)     Status       rhok nFree\r\n",
      " +1.01e+000    1 1.00e+000 +9.8594093e+002 ****Converg  +1.12e+000 6  ++ P\r\n",
      " +1.01e+000    2 2.00e+000 +9.2878187e+002 ****OutTrReg +9.02e-001 6  ++ P\r\n",
      " +6.88e-001    3 4.00e+000 +6.4880589e+002 ****Converg  +1.24e+000 6  ++ P\r\n",
      " +4.11e-001    4 8.00e+000 +6.0426228e+002 ****Converg  -2.39e-001 6  -  P\r\n",
      " +4.11e-001    5 3.39e-001 +6.0426228e+002 ****OutTrReg +5.70e-001 6  +  P\r\n",
      " +1.01e+000    6 3.39e-001 +6.0126069e+002 ****Converg  +1.00e+000 6  ++ P\r\n",
      " +2.90e-001    7 6.77e-001 +5.9810671e+002 ****Converg  +1.01e+000 6  ++ P\r\n",
      " +2.31e-002    8 1.35e+000 +5.9795632e+002 ****OutTrReg +1.21e+000 6  ++ P\r\n",
      " +3.75e-002    9 2.71e+000 +5.9277970e+002 ****Converg  +1.09e+000 6  ++ P\r\n",
      " +3.07e-002   10 5.42e+000 +5.9112621e+002 ****Converg  +1.00e+000 6  ++ P\r\n",
      " +9.85e-003   11 1.08e+001 +5.9099968e+002 ****Converg  +1.03e+000 6  ++ P\r\n",
      " +1.17e-002   12 2.17e+001 +5.9093035e+002 ****Converg  +1.10e+000 6  ++ P\r\n",
      " +3.86e-003   13 4.33e+001 +5.9070919e+002 ****Converg  +1.18e+000 6  ++ P\r\n",
      " +9.13e-003   14 8.67e+001 +5.9034905e+002 ****Converg  +9.98e-001 6  ++ P\r\n",
      " +1.29e-003   15 1.73e+002 +5.9034888e+002 ****Converg  +1.26e+000 6  ++ P\r\n",
      " +2.55e-003   16 3.47e+002 +5.9025134e+002 ****Converg  +9.99e-001 6  ++ P\r\n",
      " +5.31e-004   17 6.93e+002 +5.9025132e+002 ****Converg  +1.26e+000 6  ++ P\r\n",
      " +9.56e-004   18 1.39e+003 +5.9021552e+002 ****Converg  +1.00e+000 6  ++ P\r\n",
      " +2.17e-004   19 2.77e+003 +5.9021551e+002 ****Converg  +1.26e+000 6  ++ P\r\n",
      " +3.57e-004   20 5.55e+003 +5.9020235e+002 ****Converg  +1.00e+000 6  ++ P\r\n",
      " +8.74e-005   21 1.11e+004 +5.9020235e+002 ****Converg  +1.26e+000 6  ++ P\r\n",
      " +1.32e-004   22 2.22e+004 +5.9019751e+002 ****Converg  +1.00e+000 6  ++ P\r\n",
      " +3.50e-005   23 4.44e+004 +5.9019751e+002 ****Converg  +1.26e+000 6  ++ P\r\n",
      " +4.86e-005   24 8.87e+004 +5.9019573e+002 ****Converg  +1.00e+000 6  ++ P\r\n",
      " +1.39e-005   25 1.77e+005 +5.9019573e+002 ****Converg  +1.26e+000 6  ++ P\r\n",
      " +1.79e-005   26 3.55e+005 +5.9019508e+002 ****Converg  +9.99e-001 6  ++ P\r\n",
      "\r\n",
      " Convergence reached...\r\n",
      "--> time interval [13:27:52,13:27:52]\r\n",
      " Run time: 00:00\r\n",
      " Final log likelihood=-590.195\r\n",
      " Be patient... BIOGEME is preparing the output files\r\n",
      "--> time interval [13:27:52,13:27:52]\r\n",
      " Run time for var/covar computation: 00:00\r\n",
      " BIOGEME Input files\r\n",
      " ===================\r\n",
      " Parameters:\t\t\tdefault.par\r\n",
      " Model specification:\t\tmodels/08JUL_TT_betas.mod\r\n",
      " Sample 1 :\t\t\t\tmodels-data/data_30junB.dat\r\n",
      " BIOGEME Output files\r\n",
      " ====================\r\n",
      " Estimation results:\t\tmodels/08JUL_TT_betas.rep\r\n",
      " Estimation results (HTML):\tmodels/08JUL_TT_betas.html\r\n",
      " Estimation results (Latex):\tmodels/08JUL_TT_betas.tex\r\n",
      " Estimation results (ALogit):\tmodels/08JUL_TT_betas.F12\r\n",
      " Result model spec. file:\tmodels/08JUL_TT_betas.res\r\n",
      " Sample statistics:\t\tmodels/08JUL_TT_betas.sta\r\n",
      " BIOGEME Debug files\r\n",
      " ===================\r\n",
      " Log file:\t\t\tmodels/08JUL_TT_betas.log\r\n",
      " Parameters debug:\t\tparameters.out\r\n",
      " Model debug:\t\t\tmodel.debug\r\n",
      " Model spec. file debug:\t\t__specFile.debug\r\n",
      " Model informations: Logit Model\r\n",
      " ==================\r\n",
      " The minimum argument of exp was -27.7802\r\n",
      "\r\n",
      " Run time for estimation:      00:00\r\n",
      " Total run time:               00:00\r\n"
     ]
    }
   ],
   "source": [
    "p = subprocess.Popen(['C:/Program Files (x86)/biogeme-2.4/biogeme-2.4/biogeme.exe', model_name,model_data], shell=True, stdout=subprocess.PIPE, stderr=subprocess.STDOUT)\n",
    "for line in p.stdout.readlines():\n",
    "    print (line),\n",
    "retval = p.wait()"
   ]
  },
  {
   "cell_type": "code",
   "execution_count": 4,
   "metadata": {
    "collapsed": false
   },
   "outputs": [
    {
     "name": "stdout",
     "output_type": "stream",
     "text": [
      "Found it.\n",
      "Changed to 100.\n"
     ]
    }
   ],
   "source": [
    "with open(model_name+'_res.mod','wb') as simmod:\n",
    "    with open(model_name+'.res','rb') as res:\n",
    "        searchlines = res.readlines()\n",
    "        foundit = False\n",
    "        for i, line in enumerate(searchlines):\n",
    "            if foundit==False:\n",
    "                if b'[SampleEnum]' in line:\n",
    "                    print('Found it.')\n",
    "                    foundit = True\n",
    "                simmod.write(line)\n",
    "            else:\n",
    "                if line.decode(\"utf-8\").find('0\\r\\n')==0:\n",
    "                    print('Changed to 100.')\n",
    "                    simmod.write(b'100\\r\\n')\n",
    "                    foundit==False\n",
    "                else:\n",
    "                    simmod.write(line)"
   ]
  },
  {
   "cell_type": "code",
   "execution_count": 5,
   "metadata": {
    "collapsed": false
   },
   "outputs": [
    {
     "name": "stdout",
     "output_type": "stream",
     "text": [
      "~~~~~~~~~~~~~~~~~~~~~~~~~~~~~~~~~~~~~~~~~~~~~~~~~~~~~~\r\n",
      "biogeme 2.4 [Sun Oct 25 23:01:47 WEST 2015]\r\n",
      "Michel Bierlaire, EPFL\r\n",
      "-- Compiled by biogeme@hotmail.com on MINGW32_NT-6.1\r\n",
      "See http://biogeme.epfl.ch\r\n",
      "                    !! CFSQP is available !!\r\n",
      "~~~~~~~~~~~~~~~~~~~~~~~~~~~~~~~~~~~~~~~~~~~~~~~~~~~~~~\r\n",
      "\t\"In every non-trivial program there is at least one bug.\"\r\n",
      "\r\n",
      "\r\n",
      "[13:28:03]patFileNames.cc:52  models/08JUL_TT_betas_res.par does not exist\r\n",
      "[13:28:03]patFileNames.cc:56  Trying default.par instead\r\n",
      "[13:28:03]patBiogeme.cc:134  Read default.par\r\n",
      "Warning:  Lower bound on mu set to 1e-005\r\n",
      "Warning:   Value defined by gevMinimumMu in default.par\r\n",
      " Opening file models-data/data_30junB.dat\r\n",
      " Data  file... line 500\tMemory: 59 Kb\r\n",
      " Total obs.:   837\r\n",
      " Total memory: 99.8398 Kb\r\n",
      " 59%\t[500/838] Est. term. time: 07/08/16 13:28:03 (in 00:00)\r\n",
      " BIOSIM Input file\r\n",
      " =================\r\n",
      " Model specification:\tmodels/08JUL_TT_betas_res.mod\r\n",
      " BIOSIM Output file\r\n",
      " ==================\r\n",
      " Sample enumeration:\tmodels/08JUL_TT_betas_res.enu\r\n"
     ]
    }
   ],
   "source": [
    "p = subprocess.Popen(['C:/Program Files (x86)/biogeme-2.4/biogeme-2.4/biosim.exe', model_name+'_res',model_data], shell=True, stdout=subprocess.PIPE, stderr=subprocess.STDOUT)\n",
    "for line in p.stdout.readlines():\n",
    "    print (line),\n",
    "retval = p.wait()"
   ]
  },
  {
   "cell_type": "code",
   "execution_count": 6,
   "metadata": {
    "collapsed": false
   },
   "outputs": [
    {
     "data": {
      "text/html": [
       "<div>\n",
       "<table border=\"1\" class=\"dataframe\">\n",
       "  <thead>\n",
       "    <tr style=\"text-align: right;\">\n",
       "      <th></th>\n",
       "      <th>Choice_Id</th>\n",
       "      <th>P_choice</th>\n",
       "      <th>V_A1_TAXI</th>\n",
       "      <th>V_A2_TRANSIT</th>\n",
       "      <th>V_A3_OTHER</th>\n",
       "      <th>V_A4_FREE</th>\n",
       "      <th>P_A1_TAXI</th>\n",
       "      <th>Residual_A1_TAXI</th>\n",
       "      <th>P_A2_TRANSIT</th>\n",
       "      <th>Residual_A2_TRANSIT</th>\n",
       "      <th>...</th>\n",
       "      <th>Simul91</th>\n",
       "      <th>Simul92</th>\n",
       "      <th>Simul93</th>\n",
       "      <th>Simul94</th>\n",
       "      <th>Simul95</th>\n",
       "      <th>Simul96</th>\n",
       "      <th>Simul97</th>\n",
       "      <th>Simul98</th>\n",
       "      <th>Simul99</th>\n",
       "      <th>Simul100</th>\n",
       "    </tr>\n",
       "  </thead>\n",
       "  <tbody>\n",
       "    <tr>\n",
       "      <th>0</th>\n",
       "      <td>1</td>\n",
       "      <td>0.580071</td>\n",
       "      <td>0.544131</td>\n",
       "      <td>-0.453196</td>\n",
       "      <td>-0.491334</td>\n",
       "      <td>-9999.99</td>\n",
       "      <td>0.580071</td>\n",
       "      <td>0.419928</td>\n",
       "      <td>0.213968</td>\n",
       "      <td>-0.213968</td>\n",
       "      <td>...</td>\n",
       "      <td>2</td>\n",
       "      <td>2</td>\n",
       "      <td>1</td>\n",
       "      <td>2</td>\n",
       "      <td>1</td>\n",
       "      <td>1</td>\n",
       "      <td>2</td>\n",
       "      <td>1</td>\n",
       "      <td>2</td>\n",
       "      <td>1</td>\n",
       "    </tr>\n",
       "    <tr>\n",
       "      <th>1</th>\n",
       "      <td>1</td>\n",
       "      <td>0.580071</td>\n",
       "      <td>0.544131</td>\n",
       "      <td>-0.453196</td>\n",
       "      <td>-0.491334</td>\n",
       "      <td>-9999.99</td>\n",
       "      <td>0.580071</td>\n",
       "      <td>0.419928</td>\n",
       "      <td>0.213968</td>\n",
       "      <td>-0.213968</td>\n",
       "      <td>...</td>\n",
       "      <td>1</td>\n",
       "      <td>1</td>\n",
       "      <td>1</td>\n",
       "      <td>1</td>\n",
       "      <td>1</td>\n",
       "      <td>1</td>\n",
       "      <td>1</td>\n",
       "      <td>1</td>\n",
       "      <td>3</td>\n",
       "      <td>3</td>\n",
       "    </tr>\n",
       "    <tr>\n",
       "      <th>2</th>\n",
       "      <td>1</td>\n",
       "      <td>0.580071</td>\n",
       "      <td>0.544131</td>\n",
       "      <td>-0.453196</td>\n",
       "      <td>-0.491334</td>\n",
       "      <td>-9999.99</td>\n",
       "      <td>0.580071</td>\n",
       "      <td>0.419928</td>\n",
       "      <td>0.213968</td>\n",
       "      <td>-0.213968</td>\n",
       "      <td>...</td>\n",
       "      <td>2</td>\n",
       "      <td>2</td>\n",
       "      <td>1</td>\n",
       "      <td>2</td>\n",
       "      <td>1</td>\n",
       "      <td>1</td>\n",
       "      <td>3</td>\n",
       "      <td>1</td>\n",
       "      <td>3</td>\n",
       "      <td>1</td>\n",
       "    </tr>\n",
       "    <tr>\n",
       "      <th>3</th>\n",
       "      <td>1</td>\n",
       "      <td>0.580071</td>\n",
       "      <td>0.544131</td>\n",
       "      <td>-0.453196</td>\n",
       "      <td>-0.491334</td>\n",
       "      <td>-9999.99</td>\n",
       "      <td>0.580071</td>\n",
       "      <td>0.419928</td>\n",
       "      <td>0.213968</td>\n",
       "      <td>-0.213968</td>\n",
       "      <td>...</td>\n",
       "      <td>1</td>\n",
       "      <td>1</td>\n",
       "      <td>1</td>\n",
       "      <td>1</td>\n",
       "      <td>2</td>\n",
       "      <td>1</td>\n",
       "      <td>3</td>\n",
       "      <td>2</td>\n",
       "      <td>2</td>\n",
       "      <td>3</td>\n",
       "    </tr>\n",
       "    <tr>\n",
       "      <th>4</th>\n",
       "      <td>1</td>\n",
       "      <td>0.580071</td>\n",
       "      <td>0.544131</td>\n",
       "      <td>-0.453196</td>\n",
       "      <td>-0.491334</td>\n",
       "      <td>-9999.99</td>\n",
       "      <td>0.580071</td>\n",
       "      <td>0.419928</td>\n",
       "      <td>0.213968</td>\n",
       "      <td>-0.213968</td>\n",
       "      <td>...</td>\n",
       "      <td>2</td>\n",
       "      <td>2</td>\n",
       "      <td>1</td>\n",
       "      <td>2</td>\n",
       "      <td>1</td>\n",
       "      <td>1</td>\n",
       "      <td>1</td>\n",
       "      <td>1</td>\n",
       "      <td>2</td>\n",
       "      <td>1</td>\n",
       "    </tr>\n",
       "  </tbody>\n",
       "</table>\n",
       "<p>5 rows × 115 columns</p>\n",
       "</div>"
      ],
      "text/plain": [
       "   Choice_Id  P_choice  V_A1_TAXI  V_A2_TRANSIT  V_A3_OTHER  V_A4_FREE  \\\n",
       "0          1  0.580071   0.544131     -0.453196   -0.491334   -9999.99   \n",
       "1          1  0.580071   0.544131     -0.453196   -0.491334   -9999.99   \n",
       "2          1  0.580071   0.544131     -0.453196   -0.491334   -9999.99   \n",
       "3          1  0.580071   0.544131     -0.453196   -0.491334   -9999.99   \n",
       "4          1  0.580071   0.544131     -0.453196   -0.491334   -9999.99   \n",
       "\n",
       "   P_A1_TAXI  Residual_A1_TAXI  P_A2_TRANSIT  Residual_A2_TRANSIT    ...     \\\n",
       "0   0.580071          0.419928      0.213968            -0.213968    ...      \n",
       "1   0.580071          0.419928      0.213968            -0.213968    ...      \n",
       "2   0.580071          0.419928      0.213968            -0.213968    ...      \n",
       "3   0.580071          0.419928      0.213968            -0.213968    ...      \n",
       "4   0.580071          0.419928      0.213968            -0.213968    ...      \n",
       "\n",
       "   Simul91  Simul92  Simul93  Simul94  Simul95  Simul96  Simul97  Simul98  \\\n",
       "0        2        2        1        2        1        1        2        1   \n",
       "1        1        1        1        1        1        1        1        1   \n",
       "2        2        2        1        2        1        1        3        1   \n",
       "3        1        1        1        1        2        1        3        2   \n",
       "4        2        2        1        2        1        1        1        1   \n",
       "\n",
       "   Simul99  Simul100  \n",
       "0        2         1  \n",
       "1        3         3  \n",
       "2        3         1  \n",
       "3        2         3  \n",
       "4        2         1  \n",
       "\n",
       "[5 rows x 115 columns]"
      ]
     },
     "execution_count": 6,
     "metadata": {},
     "output_type": "execute_result"
    }
   ],
   "source": [
    "simres = pd.read_csv(model_name+'_res.enu',sep='\\t')\n",
    "simres.head()"
   ]
  },
  {
   "cell_type": "code",
   "execution_count": 7,
   "metadata": {
    "collapsed": true
   },
   "outputs": [],
   "source": [
    "simul_start = list(simres.columns).index('Simul1')\n",
    "from collections import Counter\n",
    "def count_correct(row):\n",
    "    return list(row[simul_start:]).count(row.Choice_Id)\n",
    "def simul_mode(row):\n",
    "    return int(Counter(list(row[simul_start:])).most_common(1)[0][0])"
   ]
  },
  {
   "cell_type": "code",
   "execution_count": 8,
   "metadata": {
    "collapsed": false
   },
   "outputs": [],
   "source": [
    "simres['Accuracy'] = simres.apply(count_correct,axis=1)\n",
    "simres['Mode_Prediction'] = simres.apply(simul_mode,axis=1)"
   ]
  },
  {
   "cell_type": "code",
   "execution_count": 9,
   "metadata": {
    "collapsed": false
   },
   "outputs": [],
   "source": [
    "simres['ModeAccurate'] = simres['Choice_Id']==simres['Mode_Prediction']"
   ]
  },
  {
   "cell_type": "code",
   "execution_count": 10,
   "metadata": {
    "collapsed": false
   },
   "outputs": [
    {
     "data": {
      "text/plain": [
       "Choice_Id\n",
       "1    57.888571\n",
       "2    21.739496\n",
       "3    23.169014\n",
       "4    99.991189\n",
       "Name: Accuracy, dtype: float64"
      ]
     },
     "execution_count": 10,
     "metadata": {},
     "output_type": "execute_result"
    }
   ],
   "source": [
    "simres.groupby('Choice_Id')['Accuracy'].mean()"
   ]
  },
  {
   "cell_type": "code",
   "execution_count": 11,
   "metadata": {
    "collapsed": false
   },
   "outputs": [
    {
     "data": {
      "text/plain": [
       "Choice_Id\n",
       "1    0.982857\n",
       "2    0.084034\n",
       "3    0.000000\n",
       "4    1.000000\n",
       "Name: ModeAccurate, dtype: float64"
      ]
     },
     "execution_count": 11,
     "metadata": {},
     "output_type": "execute_result"
    }
   ],
   "source": [
    "simres.groupby('Choice_Id')['ModeAccurate'].mean()"
   ]
  },
  {
   "cell_type": "code",
   "execution_count": 14,
   "metadata": {
    "collapsed": false
   },
   "outputs": [
    {
     "data": {
      "text/plain": [
       "Choice_Id  Mode_Prediction\n",
       "1          1                  344\n",
       "           2                    6\n",
       "2          1                  109\n",
       "           2                   10\n",
       "3          1                  138\n",
       "           2                    4\n",
       "4          4                  227\n",
       "dtype: int64"
      ]
     },
     "execution_count": 14,
     "metadata": {},
     "output_type": "execute_result"
    }
   ],
   "source": [
    "simres.groupby(['Choice_Id','Mode_Prediction']).size()"
   ]
  },
  {
   "cell_type": "code",
   "execution_count": null,
   "metadata": {
    "collapsed": true
   },
   "outputs": [],
   "source": []
  }
 ],
 "metadata": {
  "kernelspec": {
   "display_name": "Python 2",
   "language": "python",
   "name": "python2"
  },
  "language_info": {
   "codemirror_mode": {
    "name": "ipython",
    "version": 2
   },
   "file_extension": ".py",
   "mimetype": "text/x-python",
   "name": "python",
   "nbconvert_exporter": "python",
   "pygments_lexer": "ipython2",
   "version": "2.7.11"
  }
 },
 "nbformat": 4,
 "nbformat_minor": 0
}
