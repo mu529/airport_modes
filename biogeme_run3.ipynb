{
 "cells": [
  {
   "cell_type": "code",
   "execution_count": 3,
   "metadata": {
    "collapsed": true
   },
   "outputs": [],
   "source": [
    "import subprocess\n",
    "import pandas as pd"
   ]
  },
  {
   "cell_type": "code",
   "execution_count": 4,
   "metadata": {
    "collapsed": true
   },
   "outputs": [],
   "source": [
    "model_name = 'models/27jun_b'\n",
    "model_data = 'models-data/data_27jun.dat'"
   ]
  },
  {
   "cell_type": "code",
   "execution_count": 5,
   "metadata": {
    "collapsed": false,
    "scrolled": false
   },
   "outputs": [
    {
     "name": "stdout",
     "output_type": "stream",
     "text": [
      "b'~~~~~~~~~~~~~~~~~~~~~~~~~~~~~~~~~~~~~~~~~~~~~~~~~~~~~~\\r\\n'\n",
      "b'biogeme 2.4 [Sun Oct 25 23:01:47 WEST 2015]\\r\\n'\n",
      "b'Michel Bierlaire, EPFL\\r\\n'\n",
      "b'-- Compiled by biogeme@hotmail.com on MINGW32_NT-6.1\\r\\n'\n",
      "b'See http://biogeme.epfl.ch\\r\\n'\n",
      "b'                    !! CFSQP is available !!\\r\\n'\n",
      "b'~~~~~~~~~~~~~~~~~~~~~~~~~~~~~~~~~~~~~~~~~~~~~~~~~~~~~~\\r\\n'\n",
      "b'\\t\"In every non-trivial program there is at least one bug.\"\\r\\n'\n",
      "b'\\r\\n'\n",
      "b'\\r\\n'\n",
      "b'[13:05:09]patFileNames.cc:52  models/27jun_b.par does not exist\\r\\n'\n",
      "b'[13:05:09]patFileNames.cc:56  Trying default.par instead\\r\\n'\n",
      "b'[13:05:09]patBiogeme.cc:134  Read default.par\\r\\n'\n",
      "b' Opening file models-data/data_27jun.dat\\r\\n'\n",
      "b' Data  file... line 500\\tMemory: 67 Kb\\r\\n'\n",
      "b' Data  file... line 1000\\tMemory: 134 Kb\\r\\n'\n",
      "b' Data  file... line 1500\\tMemory: 201 Kb\\r\\n'\n",
      "b' Total obs.:   1595\\r\\n'\n",
      "b' Total memory: 215.086 Kb\\r\\n'\n",
      "b' Run time for data processing: 00:00\\r\\n'\n",
      "b' Init loglike=-1899.53\\r\\n'\n",
      "b'     gmax Iter   radius        f(x)     Status       rhok nFree\\r\\n'\n",
      "b' +5.26e-001    1 1.00e+000 +1.8995277e+003 ****OutTrReg +1.01e+000 6  ++ P\\r\\n'\n",
      "b' +5.26e-001    2 2.00e+000 +1.3903916e+003 ****Converg  +1.16e+000 6  ++ P\\r\\n'\n",
      "b' +5.26e-001    3 4.00e+000 +1.2002262e+003 ****Converg  +1.23e+000 6  ++ P\\r\\n'\n",
      "b' +3.38e-001    4 8.00e+000 +1.1560811e+003 ****Converg  -1.58e+000 6  -  P\\r\\n'\n",
      "b' +3.38e-001    5 8.39e-001 +1.1560811e+003 ****OutTrReg +8.59e-001 6  +  P\\r\\n'\n",
      "b' +5.26e-001    6 8.39e-001 +1.1292227e+003 ****Converg  +1.07e+000 6  ++ P\\r\\n'\n",
      "b' +1.10e-001    7 1.68e+000 +1.1269782e+003 ****Converg  +1.09e+000 6  ++ P\\r\\n'\n",
      "b' +1.73e-001    8 3.35e+000 +1.1233374e+003 ****Converg  +7.77e-001 6  +  P\\r\\n'\n",
      "b' +3.45e-001    9 3.35e+000 +1.1208353e+003 ****Converg  +1.04e+000 6  ++ P\\r\\n'\n",
      "b' +6.97e-002   10 6.71e+000 +1.1183696e+003 ****Converg  +1.22e+000 6  ++ P\\r\\n'\n",
      "b' +9.47e-002   11 1.34e+001 +1.1047588e+003 ****Converg  +1.00e+000 6  ++ P\\r\\n'\n",
      "b' +8.00e-003   12 2.68e+001 +1.1047355e+003 ****Converg  +1.14e+000 6  ++ P\\r\\n'\n",
      "b' +1.70e-002   13 5.37e+001 +1.1021572e+003 ****Converg  +1.01e+000 6  ++ P\\r\\n'\n",
      "b' +3.29e-003   14 1.07e+002 +1.1021177e+003 ****Converg  +1.24e+000 6  ++ P\\r\\n'\n",
      "b' +7.47e-003   15 2.15e+002 +1.1015783e+003 ****Converg  +1.00e+000 6  ++ P\\r\\n'\n",
      "b' +1.34e-003   16 4.29e+002 +1.1015748e+003 ****Converg  +1.26e+000 6  ++ P\\r\\n'\n",
      "b' +2.10e-003   17 8.59e+002 +1.1013914e+003 ****Converg  +1.00e+000 6  ++ P\\r\\n'\n",
      "b' +5.43e-004   18 1.72e+003 +1.1013908e+003 ****Converg  +1.26e+000 6  ++ P\\r\\n'\n",
      "b' +7.34e-004   19 3.43e+003 +1.1013247e+003 ****Converg  +1.00e+000 6  ++ P\\r\\n'\n",
      "b' +2.19e-004   20 6.87e+003 +1.1013246e+003 ****Converg  +1.26e+000 6  ++ P\\r\\n'\n",
      "b' +2.64e-004   21 1.37e+004 +1.1013005e+003 ****Converg  +1.00e+000 6  ++ P\\r\\n'\n",
      "b' +8.79e-005   22 2.75e+004 +1.1013005e+003 ****Converg  +1.26e+000 6  ++ P\\r\\n'\n",
      "b' +9.62e-005   23 5.50e+004 +1.1012917e+003 ****Converg  +1.00e+000 6  ++ P\\r\\n'\n",
      "b' +3.50e-005   24 1.10e+005 +1.1012917e+003 ****Converg  +1.26e+000 6  ++ P\\r\\n'\n",
      "b' +3.53e-005   25 2.20e+005 +1.1012884e+003 ****Converg  +1.00e+000 6  ++ P\\r\\n'\n",
      "b' +1.39e-005   26 4.40e+005 +1.1012884e+003 ****Converg  +1.26e+000 6  ++ P\\r\\n'\n",
      "b' +1.30e-005   27 8.79e+005 +1.1012872e+003 ****Converg  +1.00e+000 6  ++ P\\r\\n'\n",
      "b'\\r\\n'\n",
      "b' Convergence reached...\\r\\n'\n",
      "b'--> time interval [13:05:09,13:05:10]\\r\\n'\n",
      "b' Run time: 00:01\\r\\n'\n",
      "b' Final log likelihood=-1101.29\\r\\n'\n",
      "b' Be patient... BIOGEME is preparing the output files\\r\\n'\n",
      "b'--> time interval [13:05:10,13:05:10]\\r\\n'\n",
      "b' Run time for var/covar computation: 00:00\\r\\n'\n",
      "b' BIOGEME Input files\\r\\n'\n",
      "b' ===================\\r\\n'\n",
      "b' Parameters:\\t\\t\\tdefault.par\\r\\n'\n",
      "b' Model specification:\\t\\tmodels/27jun_b.mod\\r\\n'\n",
      "b' Sample 1 :\\t\\t\\t\\tmodels-data/data_27jun.dat\\r\\n'\n",
      "b' BIOGEME Output files\\r\\n'\n",
      "b' ====================\\r\\n'\n",
      "b' Estimation results:\\t\\tmodels/27jun_b.rep\\r\\n'\n",
      "b' Estimation results (HTML):\\tmodels/27jun_b.html\\r\\n'\n",
      "b' Estimation results (Latex):\\tmodels/27jun_b.tex\\r\\n'\n",
      "b' Estimation results (ALogit):\\tmodels/27jun_b.F12\\r\\n'\n",
      "b' Result model spec. file:\\tmodels/27jun_b.res\\r\\n'\n",
      "b' Sample statistics:\\t\\tmodels/27jun_b.sta\\r\\n'\n",
      "b' BIOGEME Debug files\\r\\n'\n",
      "b' ===================\\r\\n'\n",
      "b' Log file:\\t\\t\\tmodels/27jun_b.log\\r\\n'\n",
      "b' Parameters debug:\\t\\tparameters.out\\r\\n'\n",
      "b' Model debug:\\t\\t\\tmodel.debug\\r\\n'\n",
      "b' Model spec. file debug:\\t\\t__specFile.debug\\r\\n'\n",
      "b' Model informations: Logit Model\\r\\n'\n",
      "b' ==================\\r\\n'\n",
      "b' The minimum argument of exp was -19.3847\\r\\n'\n",
      "b'\\r\\n'\n",
      "b' Run time for estimation:      00:01\\r\\n'\n",
      "b' Total run time:               00:01\\r\\n'\n"
     ]
    }
   ],
   "source": [
    "p = subprocess.Popen(['C:/Program Files (x86)/biogeme-2.4/biogeme-2.4/biogeme.exe', model_name,model_data], shell=True, stdout=subprocess.PIPE, stderr=subprocess.STDOUT)\n",
    "for line in p.stdout.readlines():\n",
    "    print (line),\n",
    "retval = p.wait()"
   ]
  },
  {
   "cell_type": "code",
   "execution_count": 6,
   "metadata": {
    "collapsed": false
   },
   "outputs": [
    {
     "name": "stdout",
     "output_type": "stream",
     "text": [
      "Found it.\n",
      "Changed to 100.\n"
     ]
    }
   ],
   "source": [
    "with open(model_name+'_res.mod','wb') as simmod:\n",
    "    with open(model_name+'.res','rb') as res:\n",
    "        searchlines = res.readlines()\n",
    "        foundit = False\n",
    "        for i, line in enumerate(searchlines):\n",
    "            if foundit==False:\n",
    "                if b'[SampleEnum]' in line:\n",
    "                    print('Found it.')\n",
    "                    foundit = True\n",
    "                simmod.write(line)\n",
    "            else:\n",
    "                if line.decode(\"utf-8\").find('0\\r\\n')==0:\n",
    "                    print('Changed to 100.')\n",
    "                    simmod.write(b'100\\r\\n')\n",
    "                    foundit==False\n",
    "                else:\n",
    "                    simmod.write(line)"
   ]
  },
  {
   "cell_type": "code",
   "execution_count": 7,
   "metadata": {
    "collapsed": false
   },
   "outputs": [
    {
     "name": "stdout",
     "output_type": "stream",
     "text": [
      "b'~~~~~~~~~~~~~~~~~~~~~~~~~~~~~~~~~~~~~~~~~~~~~~~~~~~~~~\\r\\n'\n",
      "b'biogeme 2.4 [Sun Oct 25 23:01:47 WEST 2015]\\r\\n'\n",
      "b'Michel Bierlaire, EPFL\\r\\n'\n",
      "b'-- Compiled by biogeme@hotmail.com on MINGW32_NT-6.1\\r\\n'\n",
      "b'See http://biogeme.epfl.ch\\r\\n'\n",
      "b'                    !! CFSQP is available !!\\r\\n'\n",
      "b'~~~~~~~~~~~~~~~~~~~~~~~~~~~~~~~~~~~~~~~~~~~~~~~~~~~~~~\\r\\n'\n",
      "b'\\t\"In every non-trivial program there is at least one bug.\"\\r\\n'\n",
      "b'\\r\\n'\n",
      "b'\\r\\n'\n",
      "b'[13:05:26]patFileNames.cc:52  models/27jun_b_res.par does not exist\\r\\n'\n",
      "b'[13:05:26]patFileNames.cc:56  Trying default.par instead\\r\\n'\n",
      "b'[13:05:26]patBiogeme.cc:134  Read default.par\\r\\n'\n",
      "b'Warning:  Lower bound on mu set to 1e-005\\r\\n'\n",
      "b'Warning:   Value defined by gevMinimumMu in default.par\\r\\n'\n",
      "b' Opening file models-data/data_27jun.dat\\r\\n'\n",
      "b' Data  file... line 500\\tMemory: 67 Kb\\r\\n'\n",
      "b' Data  file... line 1000\\tMemory: 134 Kb\\r\\n'\n",
      "b' Data  file... line 1500\\tMemory: 201 Kb\\r\\n'\n",
      "b' Total obs.:   1595\\r\\n'\n",
      "b' Total memory: 215.086 Kb\\r\\n'\n",
      "b' 31%\\t[500/1596] Est. term. time: 06/27/16 13:05:26 (in 00:00)\\r\\n'\n",
      "b' 62%\\t[1000/1596] Est. term. time: 06/27/16 13:05:26 (in 00:00)\\r\\n'\n",
      "b' 93%\\t[1500/1596] Est. term. time: 06/27/16 13:05:26 (in 00:00)\\r\\n'\n",
      "b' BIOSIM Input file\\r\\n'\n",
      "b' =================\\r\\n'\n",
      "b' Model specification:\\tmodels/27jun_b_res.mod\\r\\n'\n",
      "b' BIOSIM Output file\\r\\n'\n",
      "b' ==================\\r\\n'\n",
      "b' Sample enumeration:\\tmodels/27jun_b_res.enu\\r\\n'\n"
     ]
    }
   ],
   "source": [
    "p = subprocess.Popen(['C:/Program Files (x86)/biogeme-2.4/biogeme-2.4/biosim.exe', model_name+'_res',model_data], shell=True, stdout=subprocess.PIPE, stderr=subprocess.STDOUT)\n",
    "for line in p.stdout.readlines():\n",
    "    print (line),\n",
    "retval = p.wait()"
   ]
  },
  {
   "cell_type": "code",
   "execution_count": 9,
   "metadata": {
    "collapsed": false
   },
   "outputs": [
    {
     "data": {
      "text/html": [
       "<div>\n",
       "<table border=\"1\" class=\"dataframe\">\n",
       "  <thead>\n",
       "    <tr style=\"text-align: right;\">\n",
       "      <th></th>\n",
       "      <th>Choice_Id</th>\n",
       "      <th>P_choice</th>\n",
       "      <th>V_A1_TAXI</th>\n",
       "      <th>V_A2_TRANSIT</th>\n",
       "      <th>V_A3_OTHER</th>\n",
       "      <th>V_A4_FREE</th>\n",
       "      <th>P_A1_TAXI</th>\n",
       "      <th>Residual_A1_TAXI</th>\n",
       "      <th>P_A2_TRANSIT</th>\n",
       "      <th>Residual_A2_TRANSIT</th>\n",
       "      <th>...</th>\n",
       "      <th>Simul91</th>\n",
       "      <th>Simul92</th>\n",
       "      <th>Simul93</th>\n",
       "      <th>Simul94</th>\n",
       "      <th>Simul95</th>\n",
       "      <th>Simul96</th>\n",
       "      <th>Simul97</th>\n",
       "      <th>Simul98</th>\n",
       "      <th>Simul99</th>\n",
       "      <th>Simul100</th>\n",
       "    </tr>\n",
       "  </thead>\n",
       "  <tbody>\n",
       "    <tr>\n",
       "      <th>0</th>\n",
       "      <td>1</td>\n",
       "      <td>0.554583</td>\n",
       "      <td>0.949644</td>\n",
       "      <td>-0.05838</td>\n",
       "      <td>0.124602</td>\n",
       "      <td>-9999.99</td>\n",
       "      <td>0.554583</td>\n",
       "      <td>0.445417</td>\n",
       "      <td>0.202389</td>\n",
       "      <td>-0.202389</td>\n",
       "      <td>...</td>\n",
       "      <td>2</td>\n",
       "      <td>2</td>\n",
       "      <td>1</td>\n",
       "      <td>3</td>\n",
       "      <td>1</td>\n",
       "      <td>1</td>\n",
       "      <td>2</td>\n",
       "      <td>1</td>\n",
       "      <td>3</td>\n",
       "      <td>1</td>\n",
       "    </tr>\n",
       "    <tr>\n",
       "      <th>1</th>\n",
       "      <td>1</td>\n",
       "      <td>0.554583</td>\n",
       "      <td>0.949644</td>\n",
       "      <td>-0.05838</td>\n",
       "      <td>0.124602</td>\n",
       "      <td>-9999.99</td>\n",
       "      <td>0.554583</td>\n",
       "      <td>0.445417</td>\n",
       "      <td>0.202389</td>\n",
       "      <td>-0.202389</td>\n",
       "      <td>...</td>\n",
       "      <td>1</td>\n",
       "      <td>1</td>\n",
       "      <td>1</td>\n",
       "      <td>1</td>\n",
       "      <td>1</td>\n",
       "      <td>1</td>\n",
       "      <td>1</td>\n",
       "      <td>1</td>\n",
       "      <td>3</td>\n",
       "      <td>3</td>\n",
       "    </tr>\n",
       "    <tr>\n",
       "      <th>2</th>\n",
       "      <td>1</td>\n",
       "      <td>0.554583</td>\n",
       "      <td>0.949644</td>\n",
       "      <td>-0.05838</td>\n",
       "      <td>0.124602</td>\n",
       "      <td>-9999.99</td>\n",
       "      <td>0.554583</td>\n",
       "      <td>0.445417</td>\n",
       "      <td>0.202389</td>\n",
       "      <td>-0.202389</td>\n",
       "      <td>...</td>\n",
       "      <td>3</td>\n",
       "      <td>3</td>\n",
       "      <td>1</td>\n",
       "      <td>2</td>\n",
       "      <td>1</td>\n",
       "      <td>2</td>\n",
       "      <td>3</td>\n",
       "      <td>1</td>\n",
       "      <td>3</td>\n",
       "      <td>1</td>\n",
       "    </tr>\n",
       "    <tr>\n",
       "      <th>3</th>\n",
       "      <td>1</td>\n",
       "      <td>0.554583</td>\n",
       "      <td>0.949644</td>\n",
       "      <td>-0.05838</td>\n",
       "      <td>0.124602</td>\n",
       "      <td>-9999.99</td>\n",
       "      <td>0.554583</td>\n",
       "      <td>0.445417</td>\n",
       "      <td>0.202389</td>\n",
       "      <td>-0.202389</td>\n",
       "      <td>...</td>\n",
       "      <td>1</td>\n",
       "      <td>1</td>\n",
       "      <td>2</td>\n",
       "      <td>1</td>\n",
       "      <td>2</td>\n",
       "      <td>2</td>\n",
       "      <td>3</td>\n",
       "      <td>2</td>\n",
       "      <td>2</td>\n",
       "      <td>3</td>\n",
       "    </tr>\n",
       "    <tr>\n",
       "      <th>4</th>\n",
       "      <td>1</td>\n",
       "      <td>0.554583</td>\n",
       "      <td>0.949644</td>\n",
       "      <td>-0.05838</td>\n",
       "      <td>0.124602</td>\n",
       "      <td>-9999.99</td>\n",
       "      <td>0.554583</td>\n",
       "      <td>0.445417</td>\n",
       "      <td>0.202389</td>\n",
       "      <td>-0.202389</td>\n",
       "      <td>...</td>\n",
       "      <td>2</td>\n",
       "      <td>2</td>\n",
       "      <td>1</td>\n",
       "      <td>2</td>\n",
       "      <td>1</td>\n",
       "      <td>1</td>\n",
       "      <td>1</td>\n",
       "      <td>1</td>\n",
       "      <td>2</td>\n",
       "      <td>1</td>\n",
       "    </tr>\n",
       "  </tbody>\n",
       "</table>\n",
       "<p>5 rows × 115 columns</p>\n",
       "</div>"
      ],
      "text/plain": [
       "   Choice_Id  P_choice  V_A1_TAXI  V_A2_TRANSIT  V_A3_OTHER  V_A4_FREE  \\\n",
       "0          1  0.554583   0.949644      -0.05838    0.124602   -9999.99   \n",
       "1          1  0.554583   0.949644      -0.05838    0.124602   -9999.99   \n",
       "2          1  0.554583   0.949644      -0.05838    0.124602   -9999.99   \n",
       "3          1  0.554583   0.949644      -0.05838    0.124602   -9999.99   \n",
       "4          1  0.554583   0.949644      -0.05838    0.124602   -9999.99   \n",
       "\n",
       "   P_A1_TAXI  Residual_A1_TAXI  P_A2_TRANSIT  Residual_A2_TRANSIT    ...     \\\n",
       "0   0.554583          0.445417      0.202389            -0.202389    ...      \n",
       "1   0.554583          0.445417      0.202389            -0.202389    ...      \n",
       "2   0.554583          0.445417      0.202389            -0.202389    ...      \n",
       "3   0.554583          0.445417      0.202389            -0.202389    ...      \n",
       "4   0.554583          0.445417      0.202389            -0.202389    ...      \n",
       "\n",
       "   Simul91  Simul92  Simul93  Simul94  Simul95  Simul96  Simul97  Simul98  \\\n",
       "0        2        2        1        3        1        1        2        1   \n",
       "1        1        1        1        1        1        1        1        1   \n",
       "2        3        3        1        2        1        2        3        1   \n",
       "3        1        1        2        1        2        2        3        2   \n",
       "4        2        2        1        2        1        1        1        1   \n",
       "\n",
       "   Simul99  Simul100  \n",
       "0        3         1  \n",
       "1        3         3  \n",
       "2        3         1  \n",
       "3        2         3  \n",
       "4        2         1  \n",
       "\n",
       "[5 rows x 115 columns]"
      ]
     },
     "execution_count": 9,
     "metadata": {},
     "output_type": "execute_result"
    }
   ],
   "source": [
    "simres = pd.read_csv(model_name+'_res.enu',sep='\\t')\n",
    "simres.head()"
   ]
  },
  {
   "cell_type": "code",
   "execution_count": 10,
   "metadata": {
    "collapsed": true
   },
   "outputs": [],
   "source": [
    "simul_start = list(simres.columns).index('Simul1')\n",
    "def count_correct(row):\n",
    "    return list(row[simul_start:]).count(row.Choice_Id)"
   ]
  },
  {
   "cell_type": "code",
   "execution_count": 11,
   "metadata": {
    "collapsed": false
   },
   "outputs": [],
   "source": [
    "simres['Accuracy'] = simres.apply(count_correct,axis=1)"
   ]
  },
  {
   "cell_type": "code",
   "execution_count": 12,
   "metadata": {
    "collapsed": false
   },
   "outputs": [
    {
     "data": {
      "text/plain": [
       "Choice_Id\n",
       "1    53.043478\n",
       "2    21.572650\n",
       "3    25.946237\n",
       "4    99.996063\n",
       "Name: Accuracy, dtype: float64"
      ]
     },
     "execution_count": 12,
     "metadata": {},
     "output_type": "execute_result"
    }
   ],
   "source": [
    "simres.groupby('Choice_Id')['Accuracy'].mean()"
   ]
  },
  {
   "cell_type": "code",
   "execution_count": null,
   "metadata": {
    "collapsed": true
   },
   "outputs": [],
   "source": []
  }
 ],
 "metadata": {
  "kernelspec": {
   "display_name": "Python 3",
   "language": "python",
   "name": "python3"
  },
  "language_info": {
   "codemirror_mode": {
    "name": "ipython",
    "version": 3
   },
   "file_extension": ".py",
   "mimetype": "text/x-python",
   "name": "python",
   "nbconvert_exporter": "python",
   "pygments_lexer": "ipython3",
   "version": "3.4.4"
  }
 },
 "nbformat": 4,
 "nbformat_minor": 0
}
