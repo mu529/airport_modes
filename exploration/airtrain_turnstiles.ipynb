{
 "cells": [
  {
   "cell_type": "code",
   "execution_count": 2,
   "metadata": {
    "collapsed": true
   },
   "outputs": [],
   "source": [
    "import pandas as pd\n",
    "import os"
   ]
  },
  {
   "cell_type": "markdown",
   "metadata": {},
   "source": [
    "booth_ids = ['R510','R511','R512','R513','R514','R515','N311','N312','N314','N315','N316','N316A','N317']\n",
    "# R514 is the Astoria Blvd station; the others are other local stops in Astoria\n",
    "\n",
    "os.chdir('data/ts/')\n",
    "turnstile = pd.DataFrame()\n",
    "\n",
    "for f in os.listdir():\n",
    "    tsimport = pd.read_csv(f, header=None)\n",
    "    for i in range(1,9):\n",
    "        print(i)\n",
    "    #   turnstile = turnstile.append(tsimport.loc[:,['C/A','UNIT','SCP','DATE'+str(i),'TIME'+str(i),'DESC'+str(i),'ENTRIES'+str(i),'EXITS'+str(i)]], ignore_index=True)\n",
    "        turnstile = turnstile.append(tsimport.loc[:,[0,1,2,5*i-2,5*i-1,5*i,5*i+1,5*i+2]].rename(columns={5*i-2:3,5*i-1:4,5*i:5,5*i+1:6,5*i+2:7}))\n",
    "    \n",
    "fields = open('C:/Users/murbanek/CUSP/ADS/LGA/data/metadata/ts_Field_Description_pre-10-18-2014.txt', 'r')\n",
    "fields.readline()\n",
    "fields.readline()\n",
    "turnstile.columns = fields.readline().split(',')[0:8]\n",
    "fields.close()\n",
    "\n",
    "turnstile['DATETIME'] = pd.to_datetime(turnstile['DATE1'] + ' ' + turnstile['TIME1'], errors='coerce', infer_datetime_format='True')\n",
    "del turnstile['DATE1']\n",
    "del turnstile['TIME1']\n",
    "del turnstile['DESC1']\n",
    "turnstile = turnstile.sort(columns=['UNIT','C/A','SCP','DATETIME']).reset_index(drop=True)\n",
    "# turnstile = turnstile.set_index(['C/A','UNIT','SCP'])\n",
    "turnstile['ENTRIES'] = turnstile.groupby(['C/A','UNIT','SCP'])['ENTRIES1'].diff()\n",
    "turnstile['EXITS'] = turnstile.groupby(['C/A','UNIT','SCP'])['EXITS1'].diff()\n",
    "turnstile['ELAPSED'] = turnstile.groupby(['C/A','UNIT','SCP'])['DATETIME'].diff().astype('timedelta64[m]')\n",
    "os.chdir('..')\n",
    "turnstile[turnstile['C/A'].isin(booth_ids)].to_csv('turnstile4.csv')"
   ]
  },
  {
   "cell_type": "code",
   "execution_count": 3,
   "metadata": {
    "collapsed": false
   },
   "outputs": [],
   "source": [
    "faresfile = pd.read_csv('fares_140913.csv', header=2)\n",
    "# R535, R536, R537 are the AirTrain stations\n",
    "# also R414 is the non-AirTrain howard beach control area\n",
    "airtrainfares = faresfile[faresfile['REMOTE']=='R535']\n",
    "airtrainfares = airtrainfares.append(faresfile[faresfile['REMOTE']=='R536'])\n",
    "airtrainfares = airtrainfares.append(faresfile[faresfile['REMOTE']=='R537'])\n",
    "airtrainfares = airtrainfares.append(faresfile[faresfile['REMOTE']=='R414'])"
   ]
  },
  {
   "cell_type": "code",
   "execution_count": 4,
   "metadata": {
    "collapsed": false
   },
   "outputs": [],
   "source": [
    "faresfile = pd.read_csv('fares_140920.csv', header=2)\n",
    "airtrainfares = airtrainfares.append(faresfile[faresfile['REMOTE']=='R535'])\n",
    "airtrainfares = airtrainfares.append(faresfile[faresfile['REMOTE']=='R536'])\n",
    "airtrainfares = airtrainfares.append(faresfile[faresfile['REMOTE']=='R537'])\n",
    "airtrainfares = airtrainfares.append(faresfile[faresfile['REMOTE']=='R414'])"
   ]
  },
  {
   "cell_type": "code",
   "execution_count": 5,
   "metadata": {
    "collapsed": true
   },
   "outputs": [],
   "source": [
    "faresfile = pd.read_csv('fares_140927.csv', header=2)\n",
    "airtrainfares = airtrainfares.append(faresfile[faresfile['REMOTE']=='R535'])\n",
    "airtrainfares = airtrainfares.append(faresfile[faresfile['REMOTE']=='R536'])\n",
    "airtrainfares = airtrainfares.append(faresfile[faresfile['REMOTE']=='R537'])\n",
    "airtrainfares = airtrainfares.append(faresfile[faresfile['REMOTE']=='R414'])"
   ]
  },
  {
   "cell_type": "code",
   "execution_count": 6,
   "metadata": {
    "collapsed": true
   },
   "outputs": [],
   "source": [
    "faresfile = pd.read_csv('fares_141004.csv', header=2)\n",
    "airtrainfares = airtrainfares.append(faresfile[faresfile['REMOTE']=='R535'])\n",
    "airtrainfares = airtrainfares.append(faresfile[faresfile['REMOTE']=='R536'])\n",
    "airtrainfares = airtrainfares.append(faresfile[faresfile['REMOTE']=='R537'])\n",
    "airtrainfares = airtrainfares.append(faresfile[faresfile['REMOTE']=='R414'])"
   ]
  },
  {
   "cell_type": "code",
   "execution_count": 10,
   "metadata": {
    "collapsed": false
   },
   "outputs": [
    {
     "data": {
      "text/html": [
       "<div>\n",
       "<table border=\"1\" class=\"dataframe\">\n",
       "  <thead>\n",
       "    <tr style=\"text-align: right;\">\n",
       "      <th></th>\n",
       "      <th>FF</th>\n",
       "      <th>SEN/DIS</th>\n",
       "      <th>7-D AFAS UNL</th>\n",
       "      <th>30-D AFAS/RMF UNL</th>\n",
       "      <th>JOINT RR TKT</th>\n",
       "      <th>7-D UNL</th>\n",
       "      <th>30-D UNL</th>\n",
       "      <th>14-D RFM UNL</th>\n",
       "      <th>1-D UNL</th>\n",
       "      <th>14-D UNL</th>\n",
       "      <th>...</th>\n",
       "      <th>RR UNL NO TRADE</th>\n",
       "      <th>TCMC ANNUAL MC</th>\n",
       "      <th>MR EZPAY EXP</th>\n",
       "      <th>MR EZPAY UNL</th>\n",
       "      <th>PATH 2-T</th>\n",
       "      <th>AIRTRAIN FF</th>\n",
       "      <th>AIRTRAIN 30-D</th>\n",
       "      <th>AIRTRAIN 10-T</th>\n",
       "      <th>AIRTRAIN MTHLY</th>\n",
       "      <th>STUDENTS</th>\n",
       "    </tr>\n",
       "    <tr>\n",
       "      <th>STATION</th>\n",
       "      <th></th>\n",
       "      <th></th>\n",
       "      <th></th>\n",
       "      <th></th>\n",
       "      <th></th>\n",
       "      <th></th>\n",
       "      <th></th>\n",
       "      <th></th>\n",
       "      <th></th>\n",
       "      <th></th>\n",
       "      <th></th>\n",
       "      <th></th>\n",
       "      <th></th>\n",
       "      <th></th>\n",
       "      <th></th>\n",
       "      <th></th>\n",
       "      <th></th>\n",
       "      <th></th>\n",
       "      <th></th>\n",
       "      <th></th>\n",
       "      <th></th>\n",
       "    </tr>\n",
       "  </thead>\n",
       "  <tbody>\n",
       "    <tr>\n",
       "      <th>AIRTRAIN @ HOWARD BEACH</th>\n",
       "      <td>63303</td>\n",
       "      <td>575</td>\n",
       "      <td>0</td>\n",
       "      <td>0</td>\n",
       "      <td>15</td>\n",
       "      <td>0</td>\n",
       "      <td>0</td>\n",
       "      <td>0</td>\n",
       "      <td>0</td>\n",
       "      <td>0</td>\n",
       "      <td>...</td>\n",
       "      <td>0</td>\n",
       "      <td>0</td>\n",
       "      <td>587</td>\n",
       "      <td>0</td>\n",
       "      <td>0</td>\n",
       "      <td>81752</td>\n",
       "      <td>25930</td>\n",
       "      <td>5136</td>\n",
       "      <td>62</td>\n",
       "      <td>0</td>\n",
       "    </tr>\n",
       "    <tr>\n",
       "      <th>AIRTRAIN JAMAICA CENTER 1</th>\n",
       "      <td>125534</td>\n",
       "      <td>816</td>\n",
       "      <td>0</td>\n",
       "      <td>0</td>\n",
       "      <td>356</td>\n",
       "      <td>0</td>\n",
       "      <td>4</td>\n",
       "      <td>0</td>\n",
       "      <td>0</td>\n",
       "      <td>0</td>\n",
       "      <td>...</td>\n",
       "      <td>0</td>\n",
       "      <td>0</td>\n",
       "      <td>1868</td>\n",
       "      <td>0</td>\n",
       "      <td>0</td>\n",
       "      <td>188270</td>\n",
       "      <td>79161</td>\n",
       "      <td>20402</td>\n",
       "      <td>3577</td>\n",
       "      <td>0</td>\n",
       "    </tr>\n",
       "    <tr>\n",
       "      <th>HOWARD BEACH-159TH AVE</th>\n",
       "      <td>22069</td>\n",
       "      <td>1185</td>\n",
       "      <td>54</td>\n",
       "      <td>173</td>\n",
       "      <td>4</td>\n",
       "      <td>15599</td>\n",
       "      <td>11029</td>\n",
       "      <td>0</td>\n",
       "      <td>0</td>\n",
       "      <td>0</td>\n",
       "      <td>...</td>\n",
       "      <td>6</td>\n",
       "      <td>662</td>\n",
       "      <td>336</td>\n",
       "      <td>89</td>\n",
       "      <td>0</td>\n",
       "      <td>8346</td>\n",
       "      <td>0</td>\n",
       "      <td>0</td>\n",
       "      <td>0</td>\n",
       "      <td>615</td>\n",
       "    </tr>\n",
       "  </tbody>\n",
       "</table>\n",
       "<p>3 rows × 23 columns</p>\n",
       "</div>"
      ],
      "text/plain": [
       "                                    FF  SEN/DIS   7-D AFAS UNL  \\\n",
       " STATION                                                         \n",
       "AIRTRAIN @ HOWARD BEACH          63303      575              0   \n",
       "AIRTRAIN JAMAICA CENTER 1       125534      816              0   \n",
       "HOWARD BEACH-159TH AVE           22069     1185             54   \n",
       "\n",
       "                                30-D AFAS/RMF UNL  JOINT RR TKT  7-D UNL  \\\n",
       " STATION                                                                   \n",
       "AIRTRAIN @ HOWARD BEACH                         0            15        0   \n",
       "AIRTRAIN JAMAICA CENTER 1                       0           356        0   \n",
       "HOWARD BEACH-159TH AVE                        173             4    15599   \n",
       "\n",
       "                                30-D UNL  14-D RFM UNL  1-D UNL  14-D UNL  \\\n",
       " STATION                                                                    \n",
       "AIRTRAIN @ HOWARD BEACH                0             0        0         0   \n",
       "AIRTRAIN JAMAICA CENTER 1              4             0        0         0   \n",
       "HOWARD BEACH-159TH AVE             11029             0        0         0   \n",
       "\n",
       "                                  ...     RR UNL NO TRADE  TCMC ANNUAL MC  \\\n",
       " STATION                          ...                                       \n",
       "AIRTRAIN @ HOWARD BEACH           ...                   0               0   \n",
       "AIRTRAIN JAMAICA CENTER 1         ...                   0               0   \n",
       "HOWARD BEACH-159TH AVE            ...                   6             662   \n",
       "\n",
       "                                MR EZPAY EXP  MR EZPAY UNL  PATH 2-T  \\\n",
       " STATION                                                               \n",
       "AIRTRAIN @ HOWARD BEACH                  587             0         0   \n",
       "AIRTRAIN JAMAICA CENTER 1               1868             0         0   \n",
       "HOWARD BEACH-159TH AVE                   336            89         0   \n",
       "\n",
       "                                AIRTRAIN FF  AIRTRAIN 30-D  AIRTRAIN 10-T  \\\n",
       " STATION                                                                    \n",
       "AIRTRAIN @ HOWARD BEACH               81752          25930           5136   \n",
       "AIRTRAIN JAMAICA CENTER 1            188270          79161          20402   \n",
       "HOWARD BEACH-159TH AVE                 8346              0              0   \n",
       "\n",
       "                                AIRTRAIN MTHLY  STUDENTS  \n",
       " STATION                                                  \n",
       "AIRTRAIN @ HOWARD BEACH                     62         0  \n",
       "AIRTRAIN JAMAICA CENTER 1                 3577         0  \n",
       "HOWARD BEACH-159TH AVE                       0       615  \n",
       "\n",
       "[3 rows x 23 columns]"
      ]
     },
     "execution_count": 10,
     "metadata": {},
     "output_type": "execute_result"
    }
   ],
   "source": [
    "airtrainfares.groupby(' STATION').sum()"
   ]
  },
  {
   "cell_type": "code",
   "execution_count": null,
   "metadata": {
    "collapsed": true
   },
   "outputs": [],
   "source": []
  }
 ],
 "metadata": {
  "kernelspec": {
   "display_name": "Python 2",
   "language": "python",
   "name": "python2"
  },
  "language_info": {
   "codemirror_mode": {
    "name": "ipython",
    "version": 2
   },
   "file_extension": ".py",
   "mimetype": "text/x-python",
   "name": "python",
   "nbconvert_exporter": "python",
   "pygments_lexer": "ipython2",
   "version": "2.7.11"
  }
 },
 "nbformat": 4,
 "nbformat_minor": 0
}
