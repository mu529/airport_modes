{
 "cells": [
  {
   "cell_type": "code",
   "execution_count": 1,
   "metadata": {
    "collapsed": true
   },
   "outputs": [],
   "source": [
    "import pandas as pd"
   ]
  },
  {
   "cell_type": "code",
   "execution_count": 2,
   "metadata": {
    "collapsed": false
   },
   "outputs": [],
   "source": [
    "df = pd.read_csv('2014 TxT CSS O-D Dep SPSS Database_NYU w vars.csv')"
   ]
  },
  {
   "cell_type": "code",
   "execution_count": 3,
   "metadata": {
    "collapsed": false
   },
   "outputs": [],
   "source": [
    "jfk_tot = df.query('AIRPORT==\"JFK\"').WEIGHT.sum()"
   ]
  },
  {
   "cell_type": "code",
   "execution_count": 4,
   "metadata": {
    "collapsed": false
   },
   "outputs": [],
   "source": [
    "jfk_splits = df.query('AIRPORT==\"JFK\"').groupby('MAINMODE')['WEIGHT'].sum()/jfk_tot"
   ]
  },
  {
   "cell_type": "code",
   "execution_count": 6,
   "metadata": {
    "collapsed": false
   },
   "outputs": [],
   "source": [
    "modegroups = {'A':'train',\n",
    "'E':'train',\n",
    "'J':'train',\n",
    "'Z':'train',\n",
    "'LIRR Connecting to JFK AirTrain':'train',\n",
    "'Other (NYC Subway, including Connection to JFK AirTrain)':'train',\n",
    "'Airlink New York':'van',\n",
    "'All County Express':'van',\n",
    "'Connecticut Limousine':'van',\n",
    "\"Dave's Best Limousine\":'van',\n",
    "'ETS Airport Shuttle':'van',\n",
    "'Other (Shared-Ride Van/Service)':'van',\n",
    "'Prime Time Shuttle of Connecticut':'van',\n",
    "'State Shuttle':'van',\n",
    "'SuperShuttle from Long Island':'van',\n",
    "'SuperShuttle from Manhattan':'van',\n",
    "'Limo/Executive Car/Town Car Service':'limo',\n",
    "'Chartered/Tour Bus':'bus',\n",
    "'NYC Airporter Bus from JFK/LaGuardia Airports':'bus',\n",
    "'NYC Airporter Bus from Manhattan':'bus',\n",
    "'Public/City Bus (that is, a local bus)':'bus',\n",
    "'Transbridge Bus':'bus',\n",
    "'Taxi':'taxi',\n",
    "# these categories are still not matched\n",
    "    'Air Park':'local_van',\n",
    "    'Dollar Airport Parking':'local_van',\n",
    "    'Hilton Hotel':'local_van',\n",
    "    'Holiday Inn FSP':'local_van', \n",
    "    'Hotel/Motel Shuttle/Van':'local_van',\n",
    "    'JFK Marriott Hotel':'local_van',\n",
    "    'National Airport Parking':'local_van',\n",
    "    'Other (Off-Airport Parking Shuttle/Van)':'local_van',\n",
    "    'Park Plus':'local_van',\n",
    "    'Sky Park/Central Parking':'local_van',\n",
    "    'The Parking Spot JFK/LGA':'local_van',\n",
    "    'U-Save':'local_van',\n",
    "    'Vista Airport Parking':'local_van',\n",
    "    'Drove Your Own Car':'private',\n",
    "    'Passenger in Car Parked at Airport':'private',\n",
    "    'Passenger in Car and Dropped Off at Airport':'private',\n",
    "    'Avis':'rental',\n",
    "    'Budget':'rental',\n",
    "    'Dollar':'rental',\n",
    "    'Enterprise':'rental',\n",
    "    'Hertz':'rental',\n",
    "    'National':'rental',\n",
    "    'Other (Drove Rental Car)':'rental'}"
   ]
  },
  {
   "cell_type": "code",
   "execution_count": 7,
   "metadata": {
    "collapsed": false
   },
   "outputs": [
    {
     "data": {
      "text/html": [
       "<div>\n",
       "<table border=\"1\" class=\"dataframe\">\n",
       "  <thead>\n",
       "    <tr style=\"text-align: right;\">\n",
       "      <th></th>\n",
       "      <th>WEIGHT</th>\n",
       "    </tr>\n",
       "    <tr>\n",
       "      <th>0</th>\n",
       "      <th></th>\n",
       "    </tr>\n",
       "  </thead>\n",
       "  <tbody>\n",
       "    <tr>\n",
       "      <th>bus</th>\n",
       "      <td>0.052655</td>\n",
       "    </tr>\n",
       "    <tr>\n",
       "      <th>limo</th>\n",
       "      <td>0.124610</td>\n",
       "    </tr>\n",
       "    <tr>\n",
       "      <th>local_van</th>\n",
       "      <td>0.030200</td>\n",
       "    </tr>\n",
       "    <tr>\n",
       "      <th>private</th>\n",
       "      <td>0.309572</td>\n",
       "    </tr>\n",
       "    <tr>\n",
       "      <th>rental</th>\n",
       "      <td>0.026468</td>\n",
       "    </tr>\n",
       "    <tr>\n",
       "      <th>taxi</th>\n",
       "      <td>0.285860</td>\n",
       "    </tr>\n",
       "    <tr>\n",
       "      <th>train</th>\n",
       "      <td>0.112113</td>\n",
       "    </tr>\n",
       "    <tr>\n",
       "      <th>van</th>\n",
       "      <td>0.052120</td>\n",
       "    </tr>\n",
       "  </tbody>\n",
       "</table>\n",
       "</div>"
      ],
      "text/plain": [
       "             WEIGHT\n",
       "0                  \n",
       "bus        0.052655\n",
       "limo       0.124610\n",
       "local_van  0.030200\n",
       "private    0.309572\n",
       "rental     0.026468\n",
       "taxi       0.285860\n",
       "train      0.112113\n",
       "van        0.052120"
      ]
     },
     "execution_count": 7,
     "metadata": {},
     "output_type": "execute_result"
    }
   ],
   "source": [
    "pd.DataFrame.from_dict(modegroups,orient='index').join(jfk_splits).groupby(0).sum()"
   ]
  },
  {
   "cell_type": "code",
   "execution_count": null,
   "metadata": {
    "collapsed": true
   },
   "outputs": [],
   "source": []
  }
 ],
 "metadata": {
  "kernelspec": {
   "display_name": "Python 3",
   "language": "python",
   "name": "python3"
  },
  "language_info": {
   "codemirror_mode": {
    "name": "ipython",
    "version": 3
   },
   "file_extension": ".py",
   "mimetype": "text/x-python",
   "name": "python",
   "nbconvert_exporter": "python",
   "pygments_lexer": "ipython3",
   "version": "3.4.4"
  }
 },
 "nbformat": 4,
 "nbformat_minor": 0
}
