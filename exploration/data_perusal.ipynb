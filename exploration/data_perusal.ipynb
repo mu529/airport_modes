{
 "cells": [
  {
   "cell_type": "code",
   "execution_count": 1,
   "metadata": {
    "collapsed": true
   },
   "outputs": [],
   "source": [
    "import pandas as pd"
   ]
  },
  {
   "cell_type": "code",
   "execution_count": 2,
   "metadata": {
    "collapsed": false
   },
   "outputs": [],
   "source": [
    "# load the CSV file exported from SPSS, and calculate modal split percentage for JFK passengers.\n",
    "df = pd.read_csv('2014 TxT CSS O-D Dep SPSS Database_NYU w vars.csv')\n",
    "jfk_tot = df.query('AIRPORT==\"JFK\"').WEIGHT.sum()\n",
    "jfk_splits = df.query('AIRPORT==\"JFK\"').groupby('MAINMODE')['WEIGHT'].sum()/jfk_tot"
   ]
  },
  {
   "cell_type": "code",
   "execution_count": 3,
   "metadata": {
    "collapsed": false
   },
   "outputs": [],
   "source": [
    "# label each value of MAINMODE with a category\n",
    "modegroups = {'A':'train',\n",
    "'E':'train',\n",
    "'J':'train',\n",
    "'Z':'train',\n",
    "'LIRR Connecting to JFK AirTrain':'train',\n",
    "'Other (NYC Subway, including Connection to JFK AirTrain)':'train',\n",
    "'Airlink New York':'van',\n",
    "'All County Express':'van',\n",
    "'Connecticut Limousine':'van',\n",
    "\"Dave's Best Limousine\":'van',\n",
    "'ETS Airport Shuttle':'van',\n",
    "'Other (Shared-Ride Van/Service)':'van',\n",
    "'Prime Time Shuttle of Connecticut':'van',\n",
    "'State Shuttle':'van',\n",
    "'SuperShuttle from Long Island':'van',\n",
    "'SuperShuttle from Manhattan':'van',\n",
    "'Limo/Executive Car/Town Car Service':'limo',\n",
    "'Chartered/Tour Bus':'bus',\n",
    "'NYC Airporter Bus from JFK/LaGuardia Airports':'bus',\n",
    "'NYC Airporter Bus from Manhattan':'bus',\n",
    "'Public/City Bus (that is, a local bus)':'bus',\n",
    "'Transbridge Bus':'bus',\n",
    "'Taxi':'taxi',\n",
    "'Air Park':'local_van',\n",
    "'Dollar Airport Parking':'local_van',\n",
    "'Hilton Hotel':'local_van',\n",
    "'Holiday Inn FSP':'local_van', \n",
    "'Hotel/Motel Shuttle/Van':'local_van',\n",
    "'JFK Marriott Hotel':'local_van',\n",
    "'National Airport Parking':'local_van',\n",
    "'Other (Off-Airport Parking Shuttle/Van)':'local_van',\n",
    "'Park Plus':'local_van',\n",
    "'Sky Park/Central Parking':'local_van',\n",
    "'The Parking Spot JFK/LGA':'local_van',\n",
    "'U-Save':'local_van',\n",
    "'Vista Airport Parking':'local_van',\n",
    "'Drove Your Own Car':'private',\n",
    "'Passenger in Car Parked at Airport':'private',\n",
    "'Passenger in Car and Dropped Off at Airport':'private',\n",
    "'Avis':'rental',\n",
    "'Budget':'rental',\n",
    "'Dollar':'rental',\n",
    "'Enterprise':'rental',\n",
    "'Hertz':'rental',\n",
    "'National':'rental',\n",
    "'Other (Drove Rental Car)':'rental'}"
   ]
  },
  {
   "cell_type": "code",
   "execution_count": 4,
   "metadata": {
    "collapsed": false
   },
   "outputs": [
    {
     "data": {
      "text/html": [
       "<div>\n",
       "<table border=\"1\" class=\"dataframe\">\n",
       "  <thead>\n",
       "    <tr style=\"text-align: right;\">\n",
       "      <th></th>\n",
       "      <th>WEIGHT</th>\n",
       "    </tr>\n",
       "    <tr>\n",
       "      <th>ModeGroup</th>\n",
       "      <th></th>\n",
       "    </tr>\n",
       "  </thead>\n",
       "  <tbody>\n",
       "    <tr>\n",
       "      <th>bus</th>\n",
       "      <td>0.052655</td>\n",
       "    </tr>\n",
       "    <tr>\n",
       "      <th>limo</th>\n",
       "      <td>0.124610</td>\n",
       "    </tr>\n",
       "    <tr>\n",
       "      <th>local_van</th>\n",
       "      <td>0.030200</td>\n",
       "    </tr>\n",
       "    <tr>\n",
       "      <th>private</th>\n",
       "      <td>0.309572</td>\n",
       "    </tr>\n",
       "    <tr>\n",
       "      <th>rental</th>\n",
       "      <td>0.026468</td>\n",
       "    </tr>\n",
       "    <tr>\n",
       "      <th>taxi</th>\n",
       "      <td>0.285860</td>\n",
       "    </tr>\n",
       "    <tr>\n",
       "      <th>train</th>\n",
       "      <td>0.112113</td>\n",
       "    </tr>\n",
       "    <tr>\n",
       "      <th>van</th>\n",
       "      <td>0.052120</td>\n",
       "    </tr>\n",
       "  </tbody>\n",
       "</table>\n",
       "</div>"
      ],
      "text/plain": [
       "             WEIGHT\n",
       "ModeGroup          \n",
       "bus        0.052655\n",
       "limo       0.124610\n",
       "local_van  0.030200\n",
       "private    0.309572\n",
       "rental     0.026468\n",
       "taxi       0.285860\n",
       "train      0.112113\n",
       "van        0.052120"
      ]
     },
     "execution_count": 4,
     "metadata": {},
     "output_type": "execute_result"
    }
   ],
   "source": [
    "# add groupings\n",
    "grouped_df = pd.DataFrame.from_dict(modegroups,orient='index').rename(columns={0:'ModeGroup'})\n",
    "# summarize the mode-split percentages by mode-group\n",
    "grouped_df.join(jfk_splits).groupby('ModeGroup').sum()"
   ]
  },
  {
   "cell_type": "code",
   "execution_count": 5,
   "metadata": {
    "collapsed": false
   },
   "outputs": [
    {
     "data": {
      "text/plain": [
       "DepCheckinWaittime\n",
       "                      12868.353\n",
       "1-4 mins.             11002.083\n",
       "10-14 mins.            5429.572\n",
       "15-19 mins.            2771.467\n",
       "20-29 mins.            1741.629\n",
       "30-45 mins.             944.949\n",
       "5-9 mins.             11050.100\n",
       "< 1 minute             2480.515\n",
       "More than 45 mins.      741.019\n",
       "Name: WEIGHT, dtype: float64"
      ]
     },
     "execution_count": 5,
     "metadata": {},
     "output_type": "execute_result"
    }
   ],
   "source": [
    "df.groupby('DepCheckinWaittime')['WEIGHT'].sum()"
   ]
  },
  {
   "cell_type": "code",
   "execution_count": 6,
   "metadata": {
    "collapsed": false
   },
   "outputs": [
    {
     "data": {
      "text/plain": [
       "Index(['TripOriginOD', 'TripOriginLocationOD', 'TOManhattan', 'TONYC', 'TONY',\n",
       "       'TONJ', 'TOCT', 'TOPA', 'TOOtherUS', 'TOTotalUS', 'TOZip', 'TOTownCity',\n",
       "       'TOLocalAirport', 'VisitorVsResident', 'NightsVisited', 'NightsAway',\n",
       "       'ResidentialRegion', 'PrimaryResidentialLocation', 'ResManhattan',\n",
       "       'ResNYC', 'ResNY', 'ResNJ', 'ResCT', 'ResPA', 'ResOtherUS',\n",
       "       'ResTotalUS', 'ResOutsideUS', 'ResZip', 'ResTownCity', 'Android',\n",
       "       'BlackBerry', 'WindowsBasedOS'],\n",
       "      dtype='object')"
      ]
     },
     "execution_count": 6,
     "metadata": {},
     "output_type": "execute_result"
    }
   ],
   "source": [
    "df.columns[58:90]"
   ]
  },
  {
   "cell_type": "code",
   "execution_count": 18,
   "metadata": {
    "collapsed": false
   },
   "outputs": [
    {
     "name": "stdout",
     "output_type": "stream",
     "text": [
      "Average number of records per zip code, when reported: \n",
      "2.2879377431906613\n",
      "Show the list of zips, truncated...\n"
     ]
    },
    {
     "data": {
      "text/plain": [
       "TOZip\n",
       "10001    12\n",
       "10002     5\n",
       "10003     9\n",
       "10005     4\n",
       "10006     1\n",
       "10007     1\n",
       "10009     3\n",
       "1001      1\n",
       "10010     4\n",
       "10011     9\n",
       "10012     6\n",
       "10013     3\n",
       "10014     2\n",
       "10015     1\n",
       "10016     7\n",
       "10017     9\n",
       "10018     2\n",
       "10019     9\n",
       "10021     5\n",
       "10022     6\n",
       "10023     8\n",
       "10024     3\n",
       "10025     3\n",
       "10026     4\n",
       "10027    10\n",
       "10028     5\n",
       "10029     4\n",
       "1003      1\n",
       "10031     4\n",
       "10032     1\n",
       "         ..\n",
       "11778     1\n",
       "11779     1\n",
       "11780     1\n",
       "11783     2\n",
       "11790     5\n",
       "11791     1\n",
       "11793     1\n",
       "11801     2\n",
       "11803     2\n",
       "11914     1\n",
       "11967     1\n",
       "12002     1\n",
       "12047     1\n",
       "12054     1\n",
       "12065     1\n",
       "12110     1\n",
       "12175     1\n",
       "12208     1\n",
       "12222     1\n",
       "1226      1\n",
       "12309     2\n",
       "12345     1\n",
       "12401     1\n",
       "12513     1\n",
       "12533     1\n",
       "12534     1\n",
       "12589     1\n",
       "12603     1\n",
       "12837     1\n",
       "12901     1\n",
       "dtype: int64"
      ]
     },
     "execution_count": 18,
     "metadata": {},
     "output_type": "execute_result"
    }
   ],
   "source": [
    "print ('Average number of records per zip code, when reported: ')\n",
    "print (df.query('AIRPORT==\"JFK\" & TOZip > \"10000\" & TOZip < \"13000\"').groupby('TOZip').size().mean())\n",
    "print ('Show the list of zips, truncated...')\n",
    "df.query('AIRPORT==\"JFK\" & TOZip > \"10000\" & TOZip < \"13000\"').groupby('TOZip').size()"
   ]
  },
  {
   "cell_type": "code",
   "execution_count": 19,
   "metadata": {
    "collapsed": false
   },
   "outputs": [
    {
     "name": "stdout",
     "output_type": "stream",
     "text": [
      "Median number of records per zip code, when reported\n"
     ]
    },
    {
     "data": {
      "text/plain": [
       "1.0"
      ]
     },
     "execution_count": 19,
     "metadata": {},
     "output_type": "execute_result"
    }
   ],
   "source": [
    "print ('Median number of records per zip code, when reported')\n",
    "df.query('AIRPORT==\"JFK\" & TOZip > \"10000\" & TOZip < \"13000\"').groupby('TOZip')['WEIGHT'].size().median()"
   ]
  },
  {
   "cell_type": "code",
   "execution_count": null,
   "metadata": {
    "collapsed": true
   },
   "outputs": [],
   "source": []
  }
 ],
 "metadata": {
  "kernelspec": {
   "display_name": "Python 3",
   "language": "python",
   "name": "python3"
  },
  "language_info": {
   "codemirror_mode": {
    "name": "ipython",
    "version": 3
   },
   "file_extension": ".py",
   "mimetype": "text/x-python",
   "name": "python",
   "nbconvert_exporter": "python",
   "pygments_lexer": "ipython3",
   "version": "3.4.4"
  }
 },
 "nbformat": 4,
 "nbformat_minor": 0
}
