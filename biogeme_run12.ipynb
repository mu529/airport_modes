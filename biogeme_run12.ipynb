{
 "cells": [
  {
   "cell_type": "code",
   "execution_count": 3,
   "metadata": {
    "collapsed": true
   },
   "outputs": [],
   "source": [
    "import subprocess\n",
    "import pandas as pd"
   ]
  },
  {
   "cell_type": "code",
   "execution_count": 41,
   "metadata": {
    "collapsed": true
   },
   "outputs": [],
   "source": [
    "model_name = 'models/26jul_E'\n",
    "model_data = 'models-data/data_26jul_1.dat'"
   ]
  },
  {
   "cell_type": "code",
   "execution_count": 42,
   "metadata": {
    "collapsed": false,
    "scrolled": false
   },
   "outputs": [
    {
     "name": "stdout",
     "output_type": "stream",
     "text": [
      "b'~~~~~~~~~~~~~~~~~~~~~~~~~~~~~~~~~~~~~~~~~~~~~~~~~~~~~~\\r\\n'\n",
      "b'biogeme 2.4 [Sun Oct 25 23:01:47 WEST 2015]\\r\\n'\n",
      "b'Michel Bierlaire, EPFL\\r\\n'\n",
      "b'-- Compiled by biogeme@hotmail.com on MINGW32_NT-6.1\\r\\n'\n",
      "b'See http://biogeme.epfl.ch\\r\\n'\n",
      "b'                    !! CFSQP is available !!\\r\\n'\n",
      "b'~~~~~~~~~~~~~~~~~~~~~~~~~~~~~~~~~~~~~~~~~~~~~~~~~~~~~~\\r\\n'\n",
      "b'\\t\"In every non-trivial program there is at least one bug.\"\\r\\n'\n",
      "b'\\r\\n'\n",
      "b'\\r\\n'\n",
      "b'[10:48:50]patFileNames.cc:52  models/26jul_E.par does not exist\\r\\n'\n",
      "b'[10:48:50]patFileNames.cc:56  Trying default.par instead\\r\\n'\n",
      "b'[10:48:50]patBiogeme.cc:134  Read default.par\\r\\n'\n",
      "b' Opening file models-data/data_26jul_1.dat\\r\\n'\n",
      "b' Data  file... line 500\\tMemory: 67 Kb\\r\\n'\n",
      "b' Total obs.:   837\\r\\n'\n",
      "b' Total memory: 112.934 Kb\\r\\n'\n",
      "b' Run time for data processing: 00:00\\r\\n'\n",
      "b' Init loglike=-985.941\\r\\n'\n",
      "b'     gmax Iter   radius        f(x)     Status       rhok nFree\\r\\n'\n",
      "b' +2.39e-001    1 1.00e+000 +9.8594093e+002 ****OutTrReg +9.77e-001 7  ++ P\\r\\n'\n",
      "b' +1.60e-001    2 2.00e+000 +7.7935342e+002 ****Converg  +1.14e+000 7  ++ P\\r\\n'\n",
      "b' +6.86e-002    3 4.00e+000 +6.1772168e+002 ****Converg  +1.23e+000 7  ++ P\\r\\n'\n",
      "b' +3.45e-002    4 8.00e+000 +5.9540490e+002 ****Converg  +1.26e+000 7  ++ P\\r\\n'\n",
      "b' +1.63e-002    5 1.60e+001 +5.8876011e+002 ****Converg  +1.26e+000 7  ++ P\\r\\n'\n",
      "b' +7.30e-003    6 3.20e+001 +5.8643690e+002 ****Converg  +1.26e+000 7  ++ P\\r\\n'\n",
      "b' +3.18e-003    7 6.40e+001 +5.8559611e+002 ****Converg  +1.26e+000 7  ++ P\\r\\n'\n",
      "b' +1.35e-003    8 1.28e+002 +5.8528862e+002 ****Converg  +1.26e+000 7  ++ P\\r\\n'\n",
      "b' +5.63e-004    9 2.56e+002 +5.8517574e+002 ****Converg  +1.26e+000 7  ++ P\\r\\n'\n",
      "b' +2.31e-004   10 5.12e+002 +5.8513425e+002 ****Converg  +1.26e+000 7  ++ P\\r\\n'\n",
      "b' +9.42e-005   11 1.02e+003 +5.8511899e+002 ****Converg  +1.26e+000 7  ++ P\\r\\n'\n",
      "b' +3.79e-005   12 2.05e+003 +5.8511337e+002 ****Converg  +1.26e+000 7  ++ P\\r\\n'\n",
      "b' +1.52e-005   13 4.10e+003 +5.8511131e+002 ****Converg  +1.26e+000 7  ++ P\\r\\n'\n",
      "b'\\r\\n'\n",
      "b' Convergence reached...\\r\\n'\n",
      "b'--> time interval [10:48:50,10:48:51]\\r\\n'\n",
      "b' Run time: 00:01\\r\\n'\n",
      "b' Final log likelihood=-585.111\\r\\n'\n",
      "b' Be patient... BIOGEME is preparing the output files\\r\\n'\n",
      "b'--> time interval [10:48:51,10:48:51]\\r\\n'\n",
      "b' Run time for var/covar computation: 00:00\\r\\n'\n",
      "b' BIOGEME Input files\\r\\n'\n",
      "b' ===================\\r\\n'\n",
      "b' Parameters:\\t\\t\\tdefault.par\\r\\n'\n",
      "b' Model specification:\\t\\tmodels/26jul_E.mod\\r\\n'\n",
      "b' Sample 1 :\\t\\t\\t\\tmodels-data/data_26jul_1.dat\\r\\n'\n",
      "b' BIOGEME Output files\\r\\n'\n",
      "b' ====================\\r\\n'\n",
      "b' Estimation results:\\t\\tmodels/26jul_E.rep\\r\\n'\n",
      "b' Estimation results (HTML):\\tmodels/26jul_E.html\\r\\n'\n",
      "b' Estimation results (Latex):\\tmodels/26jul_E.tex\\r\\n'\n",
      "b' Estimation results (ALogit):\\tmodels/26jul_E.F12\\r\\n'\n",
      "b' Result model spec. file:\\tmodels/26jul_E.res\\r\\n'\n",
      "b' Sample statistics:\\t\\tmodels/26jul_E.sta\\r\\n'\n",
      "b' BIOGEME Debug files\\r\\n'\n",
      "b' ===================\\r\\n'\n",
      "b' Log file:\\t\\t\\tmodels/26jul_E.log\\r\\n'\n",
      "b' Parameters debug:\\t\\tparameters.out\\r\\n'\n",
      "b' Model debug:\\t\\t\\tmodel.debug\\r\\n'\n",
      "b' Model spec. file debug:\\t\\t__specFile.debug\\r\\n'\n",
      "b' Model informations: Logit Model\\r\\n'\n",
      "b' ==================\\r\\n'\n",
      "b' The minimum argument of exp was -15.6475\\r\\n'\n",
      "b'\\r\\n'\n",
      "b' Run time for estimation:      00:01\\r\\n'\n",
      "b' Total run time:               00:01\\r\\n'\n"
     ]
    }
   ],
   "source": [
    "p = subprocess.Popen(['C:/Program Files (x86)/biogeme-2.4/biogeme-2.4/biogeme.exe', model_name,model_data], shell=True, stdout=subprocess.PIPE, stderr=subprocess.STDOUT)\n",
    "for line in p.stdout.readlines():\n",
    "    print (line),\n",
    "retval = p.wait()"
   ]
  },
  {
   "cell_type": "code",
   "execution_count": 43,
   "metadata": {
    "collapsed": false
   },
   "outputs": [
    {
     "name": "stdout",
     "output_type": "stream",
     "text": [
      "Found it.\n",
      "Changed to 100.\n"
     ]
    }
   ],
   "source": [
    "with open(model_name+'_res.mod','wb') as simmod:\n",
    "    with open(model_name+'.res','rb') as res:\n",
    "        searchlines = res.readlines()\n",
    "        foundit = False\n",
    "        for i, line in enumerate(searchlines):\n",
    "            if foundit==False:\n",
    "                if b'[SampleEnum]' in line:\n",
    "                    print('Found it.')\n",
    "                    foundit = True\n",
    "                simmod.write(line)\n",
    "            else:\n",
    "                if line.decode(\"utf-8\").find('0\\r\\n')==0:\n",
    "                    print('Changed to 100.')\n",
    "                    simmod.write(b'100\\r\\n')\n",
    "                    foundit==False\n",
    "                else:\n",
    "                    simmod.write(line)"
   ]
  },
  {
   "cell_type": "code",
   "execution_count": 44,
   "metadata": {
    "collapsed": false
   },
   "outputs": [
    {
     "name": "stdout",
     "output_type": "stream",
     "text": [
      "b'~~~~~~~~~~~~~~~~~~~~~~~~~~~~~~~~~~~~~~~~~~~~~~~~~~~~~~\\r\\n'\n",
      "b'biogeme 2.4 [Sun Oct 25 23:01:47 WEST 2015]\\r\\n'\n",
      "b'Michel Bierlaire, EPFL\\r\\n'\n",
      "b'-- Compiled by biogeme@hotmail.com on MINGW32_NT-6.1\\r\\n'\n",
      "b'See http://biogeme.epfl.ch\\r\\n'\n",
      "b'                    !! CFSQP is available !!\\r\\n'\n",
      "b'~~~~~~~~~~~~~~~~~~~~~~~~~~~~~~~~~~~~~~~~~~~~~~~~~~~~~~\\r\\n'\n",
      "b'\\t\"In every non-trivial program there is at least one bug.\"\\r\\n'\n",
      "b'\\r\\n'\n",
      "b'\\r\\n'\n",
      "b'[10:48:54]patFileNames.cc:52  models/26jul_E_res.par does not exist\\r\\n'\n",
      "b'[10:48:54]patFileNames.cc:56  Trying default.par instead\\r\\n'\n",
      "b'[10:48:54]patBiogeme.cc:134  Read default.par\\r\\n'\n",
      "b'Warning:  Lower bound on mu set to 1e-005\\r\\n'\n",
      "b'Warning:   Value defined by gevMinimumMu in default.par\\r\\n'\n",
      "b' Opening file models-data/data_26jul_1.dat\\r\\n'\n",
      "b' Data  file... line 500\\tMemory: 67 Kb\\r\\n'\n",
      "b' Total obs.:   837\\r\\n'\n",
      "b' Total memory: 112.934 Kb\\r\\n'\n",
      "b' 59%\\t[500/838] Est. term. time: 07/26/16 10:48:54 (in 00:00)\\r\\n'\n",
      "b' BIOSIM Input file\\r\\n'\n",
      "b' =================\\r\\n'\n",
      "b' Model specification:\\tmodels/26jul_E_res.mod\\r\\n'\n",
      "b' BIOSIM Output file\\r\\n'\n",
      "b' ==================\\r\\n'\n",
      "b' Sample enumeration:\\tmodels/26jul_E_res.enu\\r\\n'\n"
     ]
    }
   ],
   "source": [
    "p = subprocess.Popen(['C:/Program Files (x86)/biogeme-2.4/biogeme-2.4/biosim.exe', model_name+'_res',model_data], shell=True, stdout=subprocess.PIPE, stderr=subprocess.STDOUT)\n",
    "for line in p.stdout.readlines():\n",
    "    print (line),\n",
    "retval = p.wait()"
   ]
  },
  {
   "cell_type": "code",
   "execution_count": 45,
   "metadata": {
    "collapsed": false
   },
   "outputs": [
    {
     "data": {
      "text/html": [
       "<div>\n",
       "<table border=\"1\" class=\"dataframe\">\n",
       "  <thead>\n",
       "    <tr style=\"text-align: right;\">\n",
       "      <th></th>\n",
       "      <th>Choice_Id</th>\n",
       "      <th>P_choice</th>\n",
       "      <th>V_A1_TAXI</th>\n",
       "      <th>V_A2_TRANSIT</th>\n",
       "      <th>V_A3_OTHER</th>\n",
       "      <th>V_A4_FREE</th>\n",
       "      <th>P_A1_TAXI</th>\n",
       "      <th>Residual_A1_TAXI</th>\n",
       "      <th>P_A2_TRANSIT</th>\n",
       "      <th>Residual_A2_TRANSIT</th>\n",
       "      <th>...</th>\n",
       "      <th>Simul91</th>\n",
       "      <th>Simul92</th>\n",
       "      <th>Simul93</th>\n",
       "      <th>Simul94</th>\n",
       "      <th>Simul95</th>\n",
       "      <th>Simul96</th>\n",
       "      <th>Simul97</th>\n",
       "      <th>Simul98</th>\n",
       "      <th>Simul99</th>\n",
       "      <th>Simul100</th>\n",
       "    </tr>\n",
       "  </thead>\n",
       "  <tbody>\n",
       "    <tr>\n",
       "      <th>0</th>\n",
       "      <td>1</td>\n",
       "      <td>0.529882</td>\n",
       "      <td>-0.442943</td>\n",
       "      <td>-1.314230</td>\n",
       "      <td>-1.20052</td>\n",
       "      <td>-9999.99</td>\n",
       "      <td>0.529882</td>\n",
       "      <td>0.470118</td>\n",
       "      <td>0.221709</td>\n",
       "      <td>-0.221709</td>\n",
       "      <td>...</td>\n",
       "      <td>2</td>\n",
       "      <td>2</td>\n",
       "      <td>1</td>\n",
       "      <td>3</td>\n",
       "      <td>1</td>\n",
       "      <td>1</td>\n",
       "      <td>2</td>\n",
       "      <td>1</td>\n",
       "      <td>3</td>\n",
       "      <td>1</td>\n",
       "    </tr>\n",
       "    <tr>\n",
       "      <th>1</th>\n",
       "      <td>1</td>\n",
       "      <td>0.529882</td>\n",
       "      <td>-0.442943</td>\n",
       "      <td>-1.314230</td>\n",
       "      <td>-1.20052</td>\n",
       "      <td>-9999.99</td>\n",
       "      <td>0.529882</td>\n",
       "      <td>0.470118</td>\n",
       "      <td>0.221709</td>\n",
       "      <td>-0.221709</td>\n",
       "      <td>...</td>\n",
       "      <td>1</td>\n",
       "      <td>1</td>\n",
       "      <td>1</td>\n",
       "      <td>1</td>\n",
       "      <td>1</td>\n",
       "      <td>1</td>\n",
       "      <td>1</td>\n",
       "      <td>1</td>\n",
       "      <td>3</td>\n",
       "      <td>3</td>\n",
       "    </tr>\n",
       "    <tr>\n",
       "      <th>2</th>\n",
       "      <td>1</td>\n",
       "      <td>0.529882</td>\n",
       "      <td>-0.442943</td>\n",
       "      <td>-1.314230</td>\n",
       "      <td>-1.20052</td>\n",
       "      <td>-9999.99</td>\n",
       "      <td>0.529882</td>\n",
       "      <td>0.470118</td>\n",
       "      <td>0.221709</td>\n",
       "      <td>-0.221709</td>\n",
       "      <td>...</td>\n",
       "      <td>3</td>\n",
       "      <td>3</td>\n",
       "      <td>1</td>\n",
       "      <td>2</td>\n",
       "      <td>1</td>\n",
       "      <td>2</td>\n",
       "      <td>3</td>\n",
       "      <td>1</td>\n",
       "      <td>3</td>\n",
       "      <td>1</td>\n",
       "    </tr>\n",
       "    <tr>\n",
       "      <th>3</th>\n",
       "      <td>1</td>\n",
       "      <td>0.529882</td>\n",
       "      <td>-0.442943</td>\n",
       "      <td>-1.314230</td>\n",
       "      <td>-1.20052</td>\n",
       "      <td>-9999.99</td>\n",
       "      <td>0.529882</td>\n",
       "      <td>0.470118</td>\n",
       "      <td>0.221709</td>\n",
       "      <td>-0.221709</td>\n",
       "      <td>...</td>\n",
       "      <td>1</td>\n",
       "      <td>1</td>\n",
       "      <td>2</td>\n",
       "      <td>1</td>\n",
       "      <td>2</td>\n",
       "      <td>2</td>\n",
       "      <td>3</td>\n",
       "      <td>2</td>\n",
       "      <td>2</td>\n",
       "      <td>3</td>\n",
       "    </tr>\n",
       "    <tr>\n",
       "      <th>4</th>\n",
       "      <td>1</td>\n",
       "      <td>0.466793</td>\n",
       "      <td>-0.877370</td>\n",
       "      <td>-1.748657</td>\n",
       "      <td>-1.20052</td>\n",
       "      <td>-9999.99</td>\n",
       "      <td>0.466793</td>\n",
       "      <td>0.533207</td>\n",
       "      <td>0.195312</td>\n",
       "      <td>-0.195312</td>\n",
       "      <td>...</td>\n",
       "      <td>2</td>\n",
       "      <td>3</td>\n",
       "      <td>1</td>\n",
       "      <td>2</td>\n",
       "      <td>1</td>\n",
       "      <td>1</td>\n",
       "      <td>2</td>\n",
       "      <td>1</td>\n",
       "      <td>3</td>\n",
       "      <td>1</td>\n",
       "    </tr>\n",
       "  </tbody>\n",
       "</table>\n",
       "<p>5 rows × 115 columns</p>\n",
       "</div>"
      ],
      "text/plain": [
       "   Choice_Id  P_choice  V_A1_TAXI  V_A2_TRANSIT  V_A3_OTHER  V_A4_FREE  \\\n",
       "0          1  0.529882  -0.442943     -1.314230    -1.20052   -9999.99   \n",
       "1          1  0.529882  -0.442943     -1.314230    -1.20052   -9999.99   \n",
       "2          1  0.529882  -0.442943     -1.314230    -1.20052   -9999.99   \n",
       "3          1  0.529882  -0.442943     -1.314230    -1.20052   -9999.99   \n",
       "4          1  0.466793  -0.877370     -1.748657    -1.20052   -9999.99   \n",
       "\n",
       "   P_A1_TAXI  Residual_A1_TAXI  P_A2_TRANSIT  Residual_A2_TRANSIT    ...     \\\n",
       "0   0.529882          0.470118      0.221709            -0.221709    ...      \n",
       "1   0.529882          0.470118      0.221709            -0.221709    ...      \n",
       "2   0.529882          0.470118      0.221709            -0.221709    ...      \n",
       "3   0.529882          0.470118      0.221709            -0.221709    ...      \n",
       "4   0.466793          0.533207      0.195312            -0.195312    ...      \n",
       "\n",
       "   Simul91  Simul92  Simul93  Simul94  Simul95  Simul96  Simul97  Simul98  \\\n",
       "0        2        2        1        3        1        1        2        1   \n",
       "1        1        1        1        1        1        1        1        1   \n",
       "2        3        3        1        2        1        2        3        1   \n",
       "3        1        1        2        1        2        2        3        2   \n",
       "4        2        3        1        2        1        1        2        1   \n",
       "\n",
       "   Simul99  Simul100  \n",
       "0        3         1  \n",
       "1        3         3  \n",
       "2        3         1  \n",
       "3        2         3  \n",
       "4        3         1  \n",
       "\n",
       "[5 rows x 115 columns]"
      ]
     },
     "execution_count": 45,
     "metadata": {},
     "output_type": "execute_result"
    }
   ],
   "source": [
    "simres = pd.read_csv(model_name+'_res.enu',sep='\\t')\n",
    "simres.head()"
   ]
  },
  {
   "cell_type": "code",
   "execution_count": 46,
   "metadata": {
    "collapsed": true
   },
   "outputs": [],
   "source": [
    "simul_start = list(simres.columns).index('Simul1')\n",
    "from collections import Counter\n",
    "def count_correct(row):\n",
    "    return list(row[simul_start:]).count(row.Choice_Id)\n",
    "def simul_mode(row):\n",
    "    return int(Counter(list(row[simul_start:])).most_common(1)[0][0])"
   ]
  },
  {
   "cell_type": "code",
   "execution_count": 47,
   "metadata": {
    "collapsed": false
   },
   "outputs": [],
   "source": [
    "simres['Accuracy'] = simres.apply(count_correct,axis=1)\n",
    "simres['Mode_Prediction'] = simres.apply(simul_mode,axis=1)"
   ]
  },
  {
   "cell_type": "code",
   "execution_count": 48,
   "metadata": {
    "collapsed": false
   },
   "outputs": [],
   "source": [
    "simres['ModeAccurate'] = simres['Choice_Id']==simres['Mode_Prediction']"
   ]
  },
  {
   "cell_type": "code",
   "execution_count": 49,
   "metadata": {
    "collapsed": false
   },
   "outputs": [
    {
     "data": {
      "text/plain": [
       "Choice_Id\n",
       "1    58.708571\n",
       "2    21.050420\n",
       "3    24.492958\n",
       "4    99.991189\n",
       "Name: Accuracy, dtype: float64"
      ]
     },
     "execution_count": 49,
     "metadata": {},
     "output_type": "execute_result"
    }
   ],
   "source": [
    "simres.groupby('Choice_Id')['Accuracy'].mean()"
   ]
  },
  {
   "cell_type": "code",
   "execution_count": 50,
   "metadata": {
    "collapsed": false
   },
   "outputs": [
    {
     "data": {
      "text/plain": [
       "Choice_Id\n",
       "1    0.982857\n",
       "2    0.067227\n",
       "3    0.014085\n",
       "4    1.000000\n",
       "Name: ModeAccurate, dtype: float64"
      ]
     },
     "execution_count": 50,
     "metadata": {},
     "output_type": "execute_result"
    }
   ],
   "source": [
    "simres.groupby('Choice_Id')['ModeAccurate'].mean()"
   ]
  },
  {
   "cell_type": "code",
   "execution_count": 51,
   "metadata": {
    "collapsed": false
   },
   "outputs": [
    {
     "data": {
      "text/plain": [
       "Choice_Id  Mode_Prediction\n",
       "1          1                  344\n",
       "           2                    6\n",
       "2          1                  109\n",
       "           2                    8\n",
       "           3                    2\n",
       "3          1                  137\n",
       "           2                    3\n",
       "           3                    2\n",
       "4          4                  227\n",
       "dtype: int64"
      ]
     },
     "execution_count": 51,
     "metadata": {},
     "output_type": "execute_result"
    }
   ],
   "source": [
    "simres.groupby(['Choice_Id','Mode_Prediction']).size()"
   ]
  },
  {
   "cell_type": "code",
   "execution_count": null,
   "metadata": {
    "collapsed": true
   },
   "outputs": [],
   "source": []
  }
 ],
 "metadata": {
  "kernelspec": {
   "display_name": "Python 3",
   "language": "python",
   "name": "python3"
  },
  "language_info": {
   "codemirror_mode": {
    "name": "ipython",
    "version": 3
   },
   "file_extension": ".py",
   "mimetype": "text/x-python",
   "name": "python",
   "nbconvert_exporter": "python",
   "pygments_lexer": "ipython3",
   "version": "3.4.4"
  }
 },
 "nbformat": 4,
 "nbformat_minor": 0
}
