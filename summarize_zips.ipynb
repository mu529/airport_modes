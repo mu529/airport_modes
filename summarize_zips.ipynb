{
 "cells": [
  {
   "cell_type": "code",
   "execution_count": 1,
   "metadata": {
    "collapsed": true
   },
   "outputs": [],
   "source": [
    "import pandas as pd\n",
    "import numpy as np\n",
    "import geopandas as gpd\n",
    "from geopandas import GeoDataFrame, read_file\n",
    "# from geopandas.tools import sjoin\n",
    "from shapely.geometry import Point, mapping,shape\n",
    "import time\n",
    "from shapely import prepared\n",
    "import json"
   ]
  },
  {
   "cell_type": "code",
   "execution_count": 2,
   "metadata": {
    "collapsed": false
   },
   "outputs": [],
   "source": [
    "zipcodes = gpd.GeoDataFrame.from_file('ZIP_CODE_040114/ZIP_CODE_040114.shp')"
   ]
  },
  {
   "cell_type": "code",
   "execution_count": 3,
   "metadata": {
    "collapsed": false
   },
   "outputs": [],
   "source": [
    "zipcodes = zipcodes.to_crs(epsg=4269)"
   ]
  },
  {
   "cell_type": "code",
   "execution_count": 4,
   "metadata": {
    "collapsed": false
   },
   "outputs": [],
   "source": [
    "zipcodes = zipcodes[['ZIPCODE','geometry']]\n",
    "zipcodes.ZIPCODE = zipcodes.ZIPCODE.astype(int)\n",
    "# zipcodes.rename(columns={'ZIPCODE':'ZIP_CODE'},inplace=True)"
   ]
  },
  {
   "cell_type": "code",
   "execution_count": 5,
   "metadata": {
    "collapsed": true
   },
   "outputs": [],
   "source": [
    "filelist = ['2009.csv','2010.csv','2011.csv','2012.csv','2013.csv','2014.csv']\n",
    "qstr = 'dropoff_latitude > 40.64067 & dropoff_latitude < 40.65138 & dropoff_longitude < -73.776284 & dropoff_longitude > -73.79469'\n",
    "chunksize = 1000000"
   ]
  },
  {
   "cell_type": "code",
   "execution_count": 6,
   "metadata": {
    "collapsed": false
   },
   "outputs": [
    {
     "name": "stderr",
     "output_type": "stream",
     "text": [
      "/opt/rh/anaconda/root/lib/python2.7/site-packages/pandas/io/parsers.py:1170: DtypeWarning: Columns (8) have mixed types. Specify dtype option on import or set low_memory=False.\n",
      "  data = self._reader.read(nrows)\n"
     ]
    }
   ],
   "source": [
    "iter_csv = pd.read_csv(filelist[5], iterator=True, chunksize=chunksize)\n",
    "for chunk in iter_csv:\n",
    "    all_jfk = pd.concat([chunk.query(qstr) for chunk in iter_csv])"
   ]
  },
  {
   "cell_type": "code",
   "execution_count": 7,
   "metadata": {
    "collapsed": false
   },
   "outputs": [],
   "source": [
    "spring_jfk = pd.concat([all_jfk[all_jfk['pickup_datetime'].str[5:7] == mm] for mm in ['04','05','06']])\n",
    "spring_jfk.reset_index(drop=True,inplace=True)\n",
    "spring_jfk['duration'] = np.divide(pd.to_datetime(spring_jfk['dropoff_datetime']) - pd.to_datetime(spring_jfk['pickup_datetime']),np.timedelta64(1,'s'))\n",
    "spring_jfk['total_ex_tip'] = spring_jfk['total_amount'] - spring_jfk['tip_amount']\n",
    "spring_jfk['zipcode'] = ''"
   ]
  },
  {
   "cell_type": "code",
   "execution_count": 16,
   "metadata": {
    "collapsed": false
   },
   "outputs": [
    {
     "name": "stdout",
     "output_type": "stream",
     "text": [
      "Average tip percentage for all trips to JFK (when tip is reported):\n",
      "0.189558109134\n"
     ]
    }
   ],
   "source": [
    "print 'Average tip percentage for all trips to JFK (when tip is reported):'\n",
    "jfk_tiprate = spring_jfk.query('tip_amount > 0')['tip_amount'].sum() / spring_jfk.query('tip_amount > 0')['total_ex_tip'].sum()\n",
    "print jfk_tiprate"
   ]
  },
  {
   "cell_type": "code",
   "execution_count": 9,
   "metadata": {
    "collapsed": false
   },
   "outputs": [],
   "source": [
    "# jfk = pd.read_pickle('JFKTLC')\n",
    "# xc = jfk['rate_code'][64:210]\n",
    "# yc = jfk['store_and_fwd_flag'][64:210]\n",
    "xc = spring_jfk['pickup_longitude']\n",
    "yc = spring_jfk['pickup_latitude']"
   ]
  },
  {
   "cell_type": "code",
   "execution_count": 10,
   "metadata": {
    "collapsed": false
   },
   "outputs": [],
   "source": [
    "pts = gpd.GeoSeries([Point(x, y) for x, y in zip(xc, yc)])"
   ]
  },
  {
   "cell_type": "code",
   "execution_count": 11,
   "metadata": {
    "collapsed": false
   },
   "outputs": [],
   "source": [
    "rides_by_zip = {}\n",
    "for i in zipcodes.index:\n",
    "    rides_by_zip[zipcodes.loc[i].ZIPCODE] = pts.loc[pts.intersects(zipcodes.loc[i].geometry)]"
   ]
  },
  {
   "cell_type": "code",
   "execution_count": 12,
   "metadata": {
    "collapsed": false
   },
   "outputs": [],
   "source": [
    "zip_centroids = {}\n",
    "for i in zipcodes.index:\n",
    "    zip_centroids[zipcodes.loc[i].ZIPCODE] = (yc.iloc[rides_by_zip[zipcodes.loc[i].ZIPCODE].index].mean(),\n",
    "                                             xc.iloc[rides_by_zip[zipcodes.loc[i].ZIPCODE].index].mean())"
   ]
  },
  {
   "cell_type": "code",
   "execution_count": 13,
   "metadata": {
    "collapsed": true
   },
   "outputs": [],
   "source": [
    "with open('JFK2014.json', 'w') as f:\n",
    "    f.write(json.dumps(zip_centroids))"
   ]
  },
  {
   "cell_type": "code",
   "execution_count": 14,
   "metadata": {
    "collapsed": false
   },
   "outputs": [],
   "source": [
    "for k, v in rides_by_zip.iteritems():\n",
    "    spring_jfk.loc[v.index,'zipcode'] = k"
   ]
  },
  {
   "cell_type": "code",
   "execution_count": 35,
   "metadata": {
    "collapsed": false
   },
   "outputs": [],
   "source": [
    "rides_summary = spring_jfk.groupby('zipcode')[['pickup_longitude','pickup_latitude','trip_distance','duration','total_ex_tip']].mean()"
   ]
  },
  {
   "cell_type": "code",
   "execution_count": 36,
   "metadata": {
    "collapsed": true
   },
   "outputs": [],
   "source": [
    "rides_summary['total_w_inferred_tip'] = rides_summary['total_ex_tip'] * (1 + jfk_tiprate)"
   ]
  },
  {
   "cell_type": "code",
   "execution_count": 37,
   "metadata": {
    "collapsed": true
   },
   "outputs": [],
   "source": [
    "rides_summary.columns = ['taxi_mean_' + col for col in rides_summary.columns]"
   ]
  },
  {
   "cell_type": "code",
   "execution_count": 38,
   "metadata": {
    "collapsed": false
   },
   "outputs": [],
   "source": [
    "rides_summary['taxi_N'] = spring_jfk.groupby('zipcode').size()"
   ]
  },
  {
   "cell_type": "code",
   "execution_count": 40,
   "metadata": {
    "collapsed": false
   },
   "outputs": [],
   "source": [
    "rides_summary.to_pickle('rides_summary.pkl')"
   ]
  },
  {
   "cell_type": "code",
   "execution_count": 20,
   "metadata": {
    "collapsed": true
   },
   "outputs": [],
   "source": [
    "rides_summary = zipcodes.merge(rides_summary,how='left',left_on='ZIPCODE',right_index=True,copy=False)"
   ]
  },
  {
   "cell_type": "code",
   "execution_count": 23,
   "metadata": {
    "collapsed": false
   },
   "outputs": [],
   "source": [
    "with open('taxi_by_zip2.geojson', 'w') as f:\n",
    "    f.write(rides_summary.to_json())"
   ]
  },
  {
   "cell_type": "code",
   "execution_count": 22,
   "metadata": {
    "collapsed": false
   },
   "outputs": [
    {
     "data": {
      "text/html": [
       "<div style=\"max-height:1000px;max-width:1500px;overflow:auto;\">\n",
       "<table border=\"1\" class=\"dataframe\">\n",
       "  <thead>\n",
       "    <tr style=\"text-align: right;\">\n",
       "      <th></th>\n",
       "      <th>ZIPCODE</th>\n",
       "      <th>geometry</th>\n",
       "      <th>taxi_mean_pickup_longitude</th>\n",
       "      <th>taxi_mean_pickup_latitude</th>\n",
       "      <th>taxi_mean_trip_distance</th>\n",
       "      <th>taxi_mean_duration</th>\n",
       "      <th>taxi_mean_total_ex_tip</th>\n",
       "      <th>taxi_mean_total_w_inferred_tip</th>\n",
       "      <th>taxi_N</th>\n",
       "    </tr>\n",
       "  </thead>\n",
       "  <tbody>\n",
       "    <tr>\n",
       "      <th>0</th>\n",
       "      <td>11436</td>\n",
       "      <td>POLYGON ((-73.80584847647387 40.68290932647581...</td>\n",
       "      <td>-73.799750</td>\n",
       "      <td>40.672203</td>\n",
       "      <td>6.209521</td>\n",
       "      <td>1073.532934</td>\n",
       "      <td>37.845030</td>\n",
       "      <td>45.018862</td>\n",
       "      <td>167</td>\n",
       "    </tr>\n",
       "    <tr>\n",
       "      <th>1</th>\n",
       "      <td>11213</td>\n",
       "      <td>POLYGON ((-73.9373976313981 40.67972958928415,...</td>\n",
       "      <td>-73.938687</td>\n",
       "      <td>40.671567</td>\n",
       "      <td>11.214773</td>\n",
       "      <td>1689.840909</td>\n",
       "      <td>36.670341</td>\n",
       "      <td>43.621501</td>\n",
       "      <td>88</td>\n",
       "    </tr>\n",
       "    <tr>\n",
       "      <th>2</th>\n",
       "      <td>11212</td>\n",
       "      <td>POLYGON ((-73.90294132545434 40.67083977593342...</td>\n",
       "      <td>-73.924923</td>\n",
       "      <td>40.662739</td>\n",
       "      <td>10.470000</td>\n",
       "      <td>1551.333333</td>\n",
       "      <td>33.666667</td>\n",
       "      <td>40.048456</td>\n",
       "      <td>3</td>\n",
       "    </tr>\n",
       "    <tr>\n",
       "      <th>3</th>\n",
       "      <td>11225</td>\n",
       "      <td>POLYGON ((-73.9579731604348 40.67065695900899,...</td>\n",
       "      <td>-73.957204</td>\n",
       "      <td>40.663907</td>\n",
       "      <td>12.469444</td>\n",
       "      <td>1938.825397</td>\n",
       "      <td>39.567222</td>\n",
       "      <td>47.067510</td>\n",
       "      <td>126</td>\n",
       "    </tr>\n",
       "    <tr>\n",
       "      <th>4</th>\n",
       "      <td>11218</td>\n",
       "      <td>POLYGON ((-73.97208109564257 40.65059658730944...</td>\n",
       "      <td>-73.973293</td>\n",
       "      <td>40.644013</td>\n",
       "      <td>18.017865</td>\n",
       "      <td>2329.438202</td>\n",
       "      <td>53.896067</td>\n",
       "      <td>64.112504</td>\n",
       "      <td>89</td>\n",
       "    </tr>\n",
       "    <tr>\n",
       "      <th>5</th>\n",
       "      <td>11226</td>\n",
       "      <td>POLYGON ((-73.96190027968616 40.65487064534704...</td>\n",
       "      <td>-73.959839</td>\n",
       "      <td>40.649368</td>\n",
       "      <td>14.603404</td>\n",
       "      <td>2015.085106</td>\n",
       "      <td>44.471277</td>\n",
       "      <td>52.901168</td>\n",
       "      <td>94</td>\n",
       "    </tr>\n",
       "    <tr>\n",
       "      <th>6</th>\n",
       "      <td>11219</td>\n",
       "      <td>POLYGON ((-73.98905871487801 40.64411892873606...</td>\n",
       "      <td>-73.995452</td>\n",
       "      <td>40.638534</td>\n",
       "      <td>21.403750</td>\n",
       "      <td>2527.875000</td>\n",
       "      <td>60.750000</td>\n",
       "      <td>72.265655</td>\n",
       "      <td>8</td>\n",
       "    </tr>\n",
       "    <tr>\n",
       "      <th>7</th>\n",
       "      <td>11210</td>\n",
       "      <td>POLYGON ((-73.95839960027369 40.63632662549418...</td>\n",
       "      <td>-73.947000</td>\n",
       "      <td>40.632150</td>\n",
       "      <td>14.010000</td>\n",
       "      <td>1566.111111</td>\n",
       "      <td>41.601667</td>\n",
       "      <td>49.487600</td>\n",
       "      <td>18</td>\n",
       "    </tr>\n",
       "    <tr>\n",
       "      <th>8</th>\n",
       "      <td>11230</td>\n",
       "      <td>POLYGON ((-73.96451268730161 40.63668725315803...</td>\n",
       "      <td>-73.965577</td>\n",
       "      <td>40.626661</td>\n",
       "      <td>16.177778</td>\n",
       "      <td>2068.000000</td>\n",
       "      <td>48.577556</td>\n",
       "      <td>57.785825</td>\n",
       "      <td>45</td>\n",
       "    </tr>\n",
       "    <tr>\n",
       "      <th>9</th>\n",
       "      <td>11204</td>\n",
       "      <td>POLYGON ((-73.98108387453885 40.63528985595042...</td>\n",
       "      <td>-73.983573</td>\n",
       "      <td>40.615104</td>\n",
       "      <td>18.461250</td>\n",
       "      <td>1973.625000</td>\n",
       "      <td>52.416250</td>\n",
       "      <td>62.352175</td>\n",
       "      <td>8</td>\n",
       "    </tr>\n",
       "    <tr>\n",
       "      <th>10</th>\n",
       "      <td>10471</td>\n",
       "      <td>POLYGON ((-73.8819190019982 40.9066656554095, ...</td>\n",
       "      <td>-73.893568</td>\n",
       "      <td>40.888448</td>\n",
       "      <td>22.645000</td>\n",
       "      <td>2338.500000</td>\n",
       "      <td>67.330000</td>\n",
       "      <td>80.092947</td>\n",
       "      <td>2</td>\n",
       "    </tr>\n",
       "    <tr>\n",
       "      <th>11</th>\n",
       "      <td>10470</td>\n",
       "      <td>POLYGON ((-73.87790261636151 40.90555190509067...</td>\n",
       "      <td>NaN</td>\n",
       "      <td>NaN</td>\n",
       "      <td>NaN</td>\n",
       "      <td>NaN</td>\n",
       "      <td>NaN</td>\n",
       "      <td>NaN</td>\n",
       "      <td>NaN</td>\n",
       "    </tr>\n",
       "    <tr>\n",
       "      <th>12</th>\n",
       "      <td>10466</td>\n",
       "      <td>POLYGON ((-73.84463568238039 40.90475077822727...</td>\n",
       "      <td>NaN</td>\n",
       "      <td>NaN</td>\n",
       "      <td>NaN</td>\n",
       "      <td>NaN</td>\n",
       "      <td>NaN</td>\n",
       "      <td>NaN</td>\n",
       "      <td>NaN</td>\n",
       "    </tr>\n",
       "    <tr>\n",
       "      <th>13</th>\n",
       "      <td>10467</td>\n",
       "      <td>POLYGON ((-73.88010836796934 40.8951952111195,...</td>\n",
       "      <td>-73.872921</td>\n",
       "      <td>40.881280</td>\n",
       "      <td>22.230000</td>\n",
       "      <td>1967.333333</td>\n",
       "      <td>65.496667</td>\n",
       "      <td>77.912091</td>\n",
       "      <td>3</td>\n",
       "    </tr>\n",
       "    <tr>\n",
       "      <th>14</th>\n",
       "      <td>10463</td>\n",
       "      <td>POLYGON ((-73.92064636495626 40.88723726008408...</td>\n",
       "      <td>-73.909032</td>\n",
       "      <td>40.874285</td>\n",
       "      <td>20.680000</td>\n",
       "      <td>1770.500000</td>\n",
       "      <td>55.165000</td>\n",
       "      <td>65.621973</td>\n",
       "      <td>2</td>\n",
       "    </tr>\n",
       "    <tr>\n",
       "      <th>15</th>\n",
       "      <td>10475</td>\n",
       "      <td>POLYGON ((-73.82722404306936 40.89092964712402...</td>\n",
       "      <td>NaN</td>\n",
       "      <td>NaN</td>\n",
       "      <td>NaN</td>\n",
       "      <td>NaN</td>\n",
       "      <td>NaN</td>\n",
       "      <td>NaN</td>\n",
       "      <td>NaN</td>\n",
       "    </tr>\n",
       "    <tr>\n",
       "      <th>16</th>\n",
       "      <td>10464</td>\n",
       "      <td>POLYGON ((-73.81538709355002 40.88939419913768...</td>\n",
       "      <td>NaN</td>\n",
       "      <td>NaN</td>\n",
       "      <td>NaN</td>\n",
       "      <td>NaN</td>\n",
       "      <td>NaN</td>\n",
       "      <td>NaN</td>\n",
       "      <td>NaN</td>\n",
       "    </tr>\n",
       "    <tr>\n",
       "      <th>17</th>\n",
       "      <td>10469</td>\n",
       "      <td>POLYGON ((-73.85588386083404 40.8838614090685,...</td>\n",
       "      <td>-73.843720</td>\n",
       "      <td>40.869829</td>\n",
       "      <td>22.065000</td>\n",
       "      <td>2298.250000</td>\n",
       "      <td>65.455000</td>\n",
       "      <td>77.862526</td>\n",
       "      <td>4</td>\n",
       "    </tr>\n",
       "    <tr>\n",
       "      <th>18</th>\n",
       "      <td>10468</td>\n",
       "      <td>POLYGON ((-73.88701149926716 40.88247162430557...</td>\n",
       "      <td>-73.902531</td>\n",
       "      <td>40.864284</td>\n",
       "      <td>20.895000</td>\n",
       "      <td>1992.000000</td>\n",
       "      <td>57.830000</td>\n",
       "      <td>68.792145</td>\n",
       "      <td>2</td>\n",
       "    </tr>\n",
       "    <tr>\n",
       "      <th>19</th>\n",
       "      <td>10463</td>\n",
       "      <td>POLYGON ((-73.91544105058506 40.87559063044691...</td>\n",
       "      <td>-73.909032</td>\n",
       "      <td>40.874285</td>\n",
       "      <td>20.680000</td>\n",
       "      <td>1770.500000</td>\n",
       "      <td>55.165000</td>\n",
       "      <td>65.621973</td>\n",
       "      <td>2</td>\n",
       "    </tr>\n",
       "  </tbody>\n",
       "</table>\n",
       "</div>"
      ],
      "text/plain": [
       "    ZIPCODE                                           geometry  \\\n",
       "0     11436  POLYGON ((-73.80584847647387 40.68290932647581...   \n",
       "1     11213  POLYGON ((-73.9373976313981 40.67972958928415,...   \n",
       "2     11212  POLYGON ((-73.90294132545434 40.67083977593342...   \n",
       "3     11225  POLYGON ((-73.9579731604348 40.67065695900899,...   \n",
       "4     11218  POLYGON ((-73.97208109564257 40.65059658730944...   \n",
       "5     11226  POLYGON ((-73.96190027968616 40.65487064534704...   \n",
       "6     11219  POLYGON ((-73.98905871487801 40.64411892873606...   \n",
       "7     11210  POLYGON ((-73.95839960027369 40.63632662549418...   \n",
       "8     11230  POLYGON ((-73.96451268730161 40.63668725315803...   \n",
       "9     11204  POLYGON ((-73.98108387453885 40.63528985595042...   \n",
       "10    10471  POLYGON ((-73.8819190019982 40.9066656554095, ...   \n",
       "11    10470  POLYGON ((-73.87790261636151 40.90555190509067...   \n",
       "12    10466  POLYGON ((-73.84463568238039 40.90475077822727...   \n",
       "13    10467  POLYGON ((-73.88010836796934 40.8951952111195,...   \n",
       "14    10463  POLYGON ((-73.92064636495626 40.88723726008408...   \n",
       "15    10475  POLYGON ((-73.82722404306936 40.89092964712402...   \n",
       "16    10464  POLYGON ((-73.81538709355002 40.88939419913768...   \n",
       "17    10469  POLYGON ((-73.85588386083404 40.8838614090685,...   \n",
       "18    10468  POLYGON ((-73.88701149926716 40.88247162430557...   \n",
       "19    10463  POLYGON ((-73.91544105058506 40.87559063044691...   \n",
       "\n",
       "    taxi_mean_pickup_longitude  taxi_mean_pickup_latitude  \\\n",
       "0                   -73.799750                  40.672203   \n",
       "1                   -73.938687                  40.671567   \n",
       "2                   -73.924923                  40.662739   \n",
       "3                   -73.957204                  40.663907   \n",
       "4                   -73.973293                  40.644013   \n",
       "5                   -73.959839                  40.649368   \n",
       "6                   -73.995452                  40.638534   \n",
       "7                   -73.947000                  40.632150   \n",
       "8                   -73.965577                  40.626661   \n",
       "9                   -73.983573                  40.615104   \n",
       "10                  -73.893568                  40.888448   \n",
       "11                         NaN                        NaN   \n",
       "12                         NaN                        NaN   \n",
       "13                  -73.872921                  40.881280   \n",
       "14                  -73.909032                  40.874285   \n",
       "15                         NaN                        NaN   \n",
       "16                         NaN                        NaN   \n",
       "17                  -73.843720                  40.869829   \n",
       "18                  -73.902531                  40.864284   \n",
       "19                  -73.909032                  40.874285   \n",
       "\n",
       "    taxi_mean_trip_distance  taxi_mean_duration  taxi_mean_total_ex_tip  \\\n",
       "0                  6.209521         1073.532934               37.845030   \n",
       "1                 11.214773         1689.840909               36.670341   \n",
       "2                 10.470000         1551.333333               33.666667   \n",
       "3                 12.469444         1938.825397               39.567222   \n",
       "4                 18.017865         2329.438202               53.896067   \n",
       "5                 14.603404         2015.085106               44.471277   \n",
       "6                 21.403750         2527.875000               60.750000   \n",
       "7                 14.010000         1566.111111               41.601667   \n",
       "8                 16.177778         2068.000000               48.577556   \n",
       "9                 18.461250         1973.625000               52.416250   \n",
       "10                22.645000         2338.500000               67.330000   \n",
       "11                      NaN                 NaN                     NaN   \n",
       "12                      NaN                 NaN                     NaN   \n",
       "13                22.230000         1967.333333               65.496667   \n",
       "14                20.680000         1770.500000               55.165000   \n",
       "15                      NaN                 NaN                     NaN   \n",
       "16                      NaN                 NaN                     NaN   \n",
       "17                22.065000         2298.250000               65.455000   \n",
       "18                20.895000         1992.000000               57.830000   \n",
       "19                20.680000         1770.500000               55.165000   \n",
       "\n",
       "    taxi_mean_total_w_inferred_tip  taxi_N  \n",
       "0                        45.018862     167  \n",
       "1                        43.621501      88  \n",
       "2                        40.048456       3  \n",
       "3                        47.067510     126  \n",
       "4                        64.112504      89  \n",
       "5                        52.901168      94  \n",
       "6                        72.265655       8  \n",
       "7                        49.487600      18  \n",
       "8                        57.785825      45  \n",
       "9                        62.352175       8  \n",
       "10                       80.092947       2  \n",
       "11                             NaN     NaN  \n",
       "12                             NaN     NaN  \n",
       "13                       77.912091       3  \n",
       "14                       65.621973       2  \n",
       "15                             NaN     NaN  \n",
       "16                             NaN     NaN  \n",
       "17                       77.862526       4  \n",
       "18                       68.792145       2  \n",
       "19                       65.621973       2  "
      ]
     },
     "execution_count": 22,
     "metadata": {},
     "output_type": "execute_result"
    }
   ],
   "source": [
    "rides_summary.head(20)"
   ]
  },
  {
   "cell_type": "code",
   "execution_count": 32,
   "metadata": {
    "collapsed": false
   },
   "outputs": [
    {
     "data": {
      "text/html": [
       "<div style=\"max-height:1000px;max-width:1500px;overflow:auto;\">\n",
       "<table border=\"1\" class=\"dataframe\">\n",
       "  <thead>\n",
       "    <tr style=\"text-align: right;\">\n",
       "      <th></th>\n",
       "      <th>vendor_id</th>\n",
       "      <th>pickup_datetime</th>\n",
       "      <th>dropoff_datetime</th>\n",
       "      <th>passenger_count</th>\n",
       "      <th>trip_distance</th>\n",
       "      <th>pickup_longitude</th>\n",
       "      <th>pickup_latitude</th>\n",
       "      <th>rate_code</th>\n",
       "      <th>store_and_fwd_flag</th>\n",
       "      <th>dropoff_longitude</th>\n",
       "      <th>...</th>\n",
       "      <th>payment_type</th>\n",
       "      <th>fare_amount</th>\n",
       "      <th>surcharge</th>\n",
       "      <th>mta_tax</th>\n",
       "      <th>tip_amount</th>\n",
       "      <th>tolls_amount</th>\n",
       "      <th>total_amount</th>\n",
       "      <th>duration</th>\n",
       "      <th>total_ex_tip</th>\n",
       "      <th>zipcode</th>\n",
       "    </tr>\n",
       "  </thead>\n",
       "  <tbody>\n",
       "    <tr>\n",
       "      <th>130150</th>\n",
       "      <td>CMT</td>\n",
       "      <td>2014-05-26 05:05:02</td>\n",
       "      <td>2014-05-26 05:27:13</td>\n",
       "      <td>2</td>\n",
       "      <td>17</td>\n",
       "      <td>-74.089603</td>\n",
       "      <td>40.608111</td>\n",
       "      <td>2</td>\n",
       "      <td>N</td>\n",
       "      <td>-73.782927</td>\n",
       "      <td>...</td>\n",
       "      <td>CRD</td>\n",
       "      <td>52</td>\n",
       "      <td>0</td>\n",
       "      <td>0.5</td>\n",
       "      <td>3</td>\n",
       "      <td>5.33</td>\n",
       "      <td>60.83</td>\n",
       "      <td>1331</td>\n",
       "      <td>57.83</td>\n",
       "      <td>10304</td>\n",
       "    </tr>\n",
       "  </tbody>\n",
       "</table>\n",
       "<p>1 rows × 21 columns</p>\n",
       "</div>"
      ],
      "text/plain": [
       "       vendor_id      pickup_datetime     dropoff_datetime  passenger_count  \\\n",
       "130150       CMT  2014-05-26 05:05:02  2014-05-26 05:27:13                2   \n",
       "\n",
       "        trip_distance  pickup_longitude  pickup_latitude  rate_code  \\\n",
       "130150             17        -74.089603        40.608111          2   \n",
       "\n",
       "       store_and_fwd_flag  dropoff_longitude   ...     payment_type  \\\n",
       "130150                  N         -73.782927   ...              CRD   \n",
       "\n",
       "       fare_amount  surcharge  mta_tax  tip_amount  tolls_amount  \\\n",
       "130150          52          0      0.5           3          5.33   \n",
       "\n",
       "        total_amount  duration  total_ex_tip  zipcode  \n",
       "130150         60.83      1331         57.83    10304  \n",
       "\n",
       "[1 rows x 21 columns]"
      ]
     },
     "execution_count": 32,
     "metadata": {},
     "output_type": "execute_result"
    }
   ],
   "source": [
    "spring_jfk.query('zipcode == 10304')"
   ]
  },
  {
   "cell_type": "code",
   "execution_count": 34,
   "metadata": {
    "collapsed": false
   },
   "outputs": [
    {
     "data": {
      "text/html": [
       "<div style=\"max-height:1000px;max-width:1500px;overflow:auto;\">\n",
       "<table border=\"1\" class=\"dataframe\">\n",
       "  <thead>\n",
       "    <tr style=\"text-align: right;\">\n",
       "      <th></th>\n",
       "      <th>ZIPCODE</th>\n",
       "      <th>geometry</th>\n",
       "      <th>taxi_mean_pickup_longitude</th>\n",
       "      <th>taxi_mean_pickup_latitude</th>\n",
       "      <th>taxi_mean_trip_distance</th>\n",
       "      <th>taxi_mean_duration</th>\n",
       "      <th>taxi_mean_total_ex_tip</th>\n",
       "      <th>taxi_mean_total_w_inferred_tip</th>\n",
       "      <th>taxi_N</th>\n",
       "    </tr>\n",
       "  </thead>\n",
       "  <tbody>\n",
       "    <tr>\n",
       "      <th>0</th>\n",
       "      <td>11436</td>\n",
       "      <td>POLYGON ((-73.80584847647387 40.68290932647581...</td>\n",
       "      <td>-73.799750</td>\n",
       "      <td>40.672203</td>\n",
       "      <td>6.209521</td>\n",
       "      <td>1073.532934</td>\n",
       "      <td>37.845030</td>\n",
       "      <td>45.018862</td>\n",
       "      <td>167</td>\n",
       "    </tr>\n",
       "    <tr>\n",
       "      <th>1</th>\n",
       "      <td>11213</td>\n",
       "      <td>POLYGON ((-73.9373976313981 40.67972958928415,...</td>\n",
       "      <td>-73.938687</td>\n",
       "      <td>40.671567</td>\n",
       "      <td>11.214773</td>\n",
       "      <td>1689.840909</td>\n",
       "      <td>36.670341</td>\n",
       "      <td>43.621501</td>\n",
       "      <td>88</td>\n",
       "    </tr>\n",
       "    <tr>\n",
       "      <th>2</th>\n",
       "      <td>11212</td>\n",
       "      <td>POLYGON ((-73.90294132545434 40.67083977593342...</td>\n",
       "      <td>-73.924923</td>\n",
       "      <td>40.662739</td>\n",
       "      <td>10.470000</td>\n",
       "      <td>1551.333333</td>\n",
       "      <td>33.666667</td>\n",
       "      <td>40.048456</td>\n",
       "      <td>3</td>\n",
       "    </tr>\n",
       "    <tr>\n",
       "      <th>3</th>\n",
       "      <td>11225</td>\n",
       "      <td>POLYGON ((-73.9579731604348 40.67065695900899,...</td>\n",
       "      <td>-73.957204</td>\n",
       "      <td>40.663907</td>\n",
       "      <td>12.469444</td>\n",
       "      <td>1938.825397</td>\n",
       "      <td>39.567222</td>\n",
       "      <td>47.067510</td>\n",
       "      <td>126</td>\n",
       "    </tr>\n",
       "    <tr>\n",
       "      <th>4</th>\n",
       "      <td>11218</td>\n",
       "      <td>POLYGON ((-73.97208109564257 40.65059658730944...</td>\n",
       "      <td>-73.973293</td>\n",
       "      <td>40.644013</td>\n",
       "      <td>18.017865</td>\n",
       "      <td>2329.438202</td>\n",
       "      <td>53.896067</td>\n",
       "      <td>64.112504</td>\n",
       "      <td>89</td>\n",
       "    </tr>\n",
       "  </tbody>\n",
       "</table>\n",
       "</div>"
      ],
      "text/plain": [
       "   ZIPCODE                                           geometry  \\\n",
       "0    11436  POLYGON ((-73.80584847647387 40.68290932647581...   \n",
       "1    11213  POLYGON ((-73.9373976313981 40.67972958928415,...   \n",
       "2    11212  POLYGON ((-73.90294132545434 40.67083977593342...   \n",
       "3    11225  POLYGON ((-73.9579731604348 40.67065695900899,...   \n",
       "4    11218  POLYGON ((-73.97208109564257 40.65059658730944...   \n",
       "\n",
       "   taxi_mean_pickup_longitude  taxi_mean_pickup_latitude  \\\n",
       "0                  -73.799750                  40.672203   \n",
       "1                  -73.938687                  40.671567   \n",
       "2                  -73.924923                  40.662739   \n",
       "3                  -73.957204                  40.663907   \n",
       "4                  -73.973293                  40.644013   \n",
       "\n",
       "   taxi_mean_trip_distance  taxi_mean_duration  taxi_mean_total_ex_tip  \\\n",
       "0                 6.209521         1073.532934               37.845030   \n",
       "1                11.214773         1689.840909               36.670341   \n",
       "2                10.470000         1551.333333               33.666667   \n",
       "3                12.469444         1938.825397               39.567222   \n",
       "4                18.017865         2329.438202               53.896067   \n",
       "\n",
       "   taxi_mean_total_w_inferred_tip  taxi_N  \n",
       "0                       45.018862     167  \n",
       "1                       43.621501      88  \n",
       "2                       40.048456       3  \n",
       "3                       47.067510     126  \n",
       "4                       64.112504      89  "
      ]
     },
     "execution_count": 34,
     "metadata": {},
     "output_type": "execute_result"
    }
   ],
   "source": [
    "rides_summary.head()"
   ]
  },
  {
   "cell_type": "code",
   "execution_count": null,
   "metadata": {
    "collapsed": true
   },
   "outputs": [],
   "source": []
  }
 ],
 "metadata": {
  "kernelspec": {
   "display_name": "Python 2",
   "language": "python",
   "name": "python2"
  },
  "language_info": {
   "codemirror_mode": {
    "name": "ipython",
    "version": 2
   },
   "file_extension": ".py",
   "mimetype": "text/x-python",
   "name": "python",
   "nbconvert_exporter": "python",
   "pygments_lexer": "ipython2",
   "version": "2.7.11"
  }
 },
 "nbformat": 4,
 "nbformat_minor": 0
}
