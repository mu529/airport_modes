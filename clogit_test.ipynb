{
 "cells": [
  {
   "cell_type": "markdown",
   "metadata": {},
   "source": [
    "# pyLogit Example\n",
    "### Rigged to use some JFK survey data\n",
    "The purpose of this notebook is to demonstrate they key functionalities of pyLogit:\n",
    "<ol>\n",
    "    <li> Converting data between 'wide' and 'long' formats. </li>\n",
    "    <li> Estimating conditional logit models. </li>\n",
    "</ol>\n",
    "\n",
    "Note: the original model used to demonstrate this code had each individual responding to multiple choice situations. Thus the choice observations were not truly independent of all other choice observations (they are correlated accross choices made by the same individual). However, for the purposes of that example, the effect of repeat-observations on the typical i.i.d. assumptions were ignored.\n",
    "\n",
    "<b>Note: two bionomial random attributes were added to eat survey response</b>"
   ]
  },
  {
   "cell_type": "code",
   "execution_count": 32,
   "metadata": {
    "collapsed": false
   },
   "outputs": [],
   "source": [
    "import os\n",
    "from collections import OrderedDict    # For recording the model specification \n",
    "\n",
    "import pandas as pd                    # For file input/output\n",
    "import numpy as np                     # For vectorized math operations\n",
    "\n",
    "import pylogit as pl                   # For MNL model estimation and\n",
    "                                       # conversion from wide to long format"
   ]
  },
  {
   "cell_type": "markdown",
   "metadata": {},
   "source": [
    "## Load and filter the raw Swiss Metro data"
   ]
  },
  {
   "cell_type": "code",
   "execution_count": 33,
   "metadata": {
    "collapsed": false
   },
   "outputs": [],
   "source": [
    "wide_jfk = pd.read_csv('joined_jfk_responses.csv')\n",
    "wide_jfk['transit_cost'] = 7.75\n",
    "wide_jfk['random_attribute1'] = np.random.binomial(1,.5,len(wide_jfk))\n",
    "wide_jfk['random_attribute2'] = np.random.binomial(2,.5,len(wide_jfk))\n",
    "wide_jfk['taxi_av'] = 1\n",
    "wide_jfk['transit_av'] = 1"
   ]
  },
  {
   "cell_type": "code",
   "execution_count": 34,
   "metadata": {
    "collapsed": true
   },
   "outputs": [],
   "source": [
    "wide_jfk['ModeCode'] = -1\n",
    "mode_dict = {'other':0,'taxi':1,'transit':2}\n",
    "for index, row in wide_jfk.iterrows():\n",
    "    wide_jfk.loc[index,'ModeCode'] = mode_dict[row['ModeGroup']]"
   ]
  },
  {
   "cell_type": "code",
   "execution_count": 35,
   "metadata": {
    "collapsed": true
   },
   "outputs": [],
   "source": [
    "include_criteria = (wide_jfk.ModeCode.isin([1, 2]))\n",
    "\n",
    "# Note that the .copy() ensures that any later changes are made \n",
    "# to a copy of the data and not to the original data\n",
    "\n",
    "wide_jfk = wide_jfk.loc[include_criteria].copy()"
   ]
  },
  {
   "cell_type": "code",
   "execution_count": 36,
   "metadata": {
    "collapsed": false
   },
   "outputs": [],
   "source": [
    "# simple_jfk = wide_jfk[['random_attribute1','random_attribute2','taxi_mean_duration','taxi_mean_total_w_inferred_tip','transit_duration','transit_cost','taxi_av','transit_av','ModeCode']].copy()\n",
    "simple_jfk = wide_jfk[['taxi_mean_duration','taxi_mean_total_w_inferred_tip','transit_duration','taxi_av','transit_av','ModeCode']].copy()"
   ]
  },
  {
   "cell_type": "code",
   "execution_count": 37,
   "metadata": {
    "collapsed": false
   },
   "outputs": [
    {
     "data": {
      "text/html": [
       "<div>\n",
       "<table border=\"1\" class=\"dataframe\">\n",
       "  <thead>\n",
       "    <tr style=\"text-align: right;\">\n",
       "      <th></th>\n",
       "      <th>57</th>\n",
       "      <th>58</th>\n",
       "      <th>59</th>\n",
       "      <th>60</th>\n",
       "      <th>61</th>\n",
       "    </tr>\n",
       "  </thead>\n",
       "  <tbody>\n",
       "    <tr>\n",
       "      <th>taxi_mean_duration</th>\n",
       "      <td>47.879023</td>\n",
       "      <td>47.879023</td>\n",
       "      <td>47.879023</td>\n",
       "      <td>47.879023</td>\n",
       "      <td>28.719048</td>\n",
       "    </tr>\n",
       "    <tr>\n",
       "      <th>taxi_mean_total_w_inferred_tip</th>\n",
       "      <td>66.695924</td>\n",
       "      <td>66.695924</td>\n",
       "      <td>66.695924</td>\n",
       "      <td>66.695924</td>\n",
       "      <td>46.052326</td>\n",
       "    </tr>\n",
       "    <tr>\n",
       "      <th>transit_duration</th>\n",
       "      <td>58.083333</td>\n",
       "      <td>58.083333</td>\n",
       "      <td>58.083333</td>\n",
       "      <td>58.083333</td>\n",
       "      <td>64.050000</td>\n",
       "    </tr>\n",
       "    <tr>\n",
       "      <th>taxi_av</th>\n",
       "      <td>1.000000</td>\n",
       "      <td>1.000000</td>\n",
       "      <td>1.000000</td>\n",
       "      <td>1.000000</td>\n",
       "      <td>1.000000</td>\n",
       "    </tr>\n",
       "    <tr>\n",
       "      <th>transit_av</th>\n",
       "      <td>1.000000</td>\n",
       "      <td>1.000000</td>\n",
       "      <td>1.000000</td>\n",
       "      <td>1.000000</td>\n",
       "      <td>1.000000</td>\n",
       "    </tr>\n",
       "    <tr>\n",
       "      <th>ModeCode</th>\n",
       "      <td>1.000000</td>\n",
       "      <td>1.000000</td>\n",
       "      <td>1.000000</td>\n",
       "      <td>1.000000</td>\n",
       "      <td>1.000000</td>\n",
       "    </tr>\n",
       "  </tbody>\n",
       "</table>\n",
       "</div>"
      ],
      "text/plain": [
       "                                       57         58         59         60  \\\n",
       "taxi_mean_duration              47.879023  47.879023  47.879023  47.879023   \n",
       "taxi_mean_total_w_inferred_tip  66.695924  66.695924  66.695924  66.695924   \n",
       "transit_duration                58.083333  58.083333  58.083333  58.083333   \n",
       "taxi_av                          1.000000   1.000000   1.000000   1.000000   \n",
       "transit_av                       1.000000   1.000000   1.000000   1.000000   \n",
       "ModeCode                         1.000000   1.000000   1.000000   1.000000   \n",
       "\n",
       "                                       61  \n",
       "taxi_mean_duration              28.719048  \n",
       "taxi_mean_total_w_inferred_tip  46.052326  \n",
       "transit_duration                64.050000  \n",
       "taxi_av                          1.000000  \n",
       "transit_av                       1.000000  \n",
       "ModeCode                         1.000000  "
      ]
     },
     "execution_count": 37,
     "metadata": {},
     "output_type": "execute_result"
    }
   ],
   "source": [
    "# Look at the first 5 rows of the data\n",
    "simple_jfk.head().T"
   ]
  },
  {
   "cell_type": "markdown",
   "metadata": {},
   "source": [
    "## Convert the Swissmetro data to \"Long Format\""
   ]
  },
  {
   "cell_type": "markdown",
   "metadata": {},
   "source": [
    "pyLogit only estimates models using data that is in \"long\" format. \n",
    "\n",
    "Long format has 1 row per individual per available alternative, and wide format has 1 row per individual or observation. Long format is useful because it permits one to directly use matrix dot products to calculate the index, $V_{ij} = x_{ij} \\beta$, for each individual $\\left(i \\right)$ for each alternative $\\left(j \\right)$. In applications where one creates one's own dataset, the dataset can usually be created in long format from the very beginning. However, in situations where a dataset is provided to you in wide format (as in the case of the Swiss Metro dataset), it will be necesssary to convert the data from wide format to long format.\n",
    "\n",
    "To convert the raw swiss metro data to long format, we need to specify:\n",
    "<ol>\n",
    "    <li>the variables or columns that are specific to a given individual, regardless of what alternative is being considered (note: every row is being treated as a separate observation, even though each individual gave multiple responses in this stated preference survey)</li>\n",
    "    <li>the variables that vary across some or all alternatives, for a given individual (e.g. travel time)</li>\n",
    "    <li>the availability variables</li>\n",
    "    <li>the <u>unique</u> observation id column. (Note this dataset has an observation id column, but for the purposes of this example we don't want to consider the repeated observations of each person as being related. We therefore want a identifying column that gives an id to every response of every individual instead of to every individual).</li>\n",
    "    <li>the choice column</li>\n",
    "</ol>\n",
    "<br>The cells below will identify these various columns, give them names in the long-format data, and perform the necessary conversion. \n",
    "\n"
   ]
  },
  {
   "cell_type": "code",
   "execution_count": 38,
   "metadata": {
    "collapsed": false
   },
   "outputs": [
    {
     "data": {
      "text/plain": [
       "Index([u'taxi_mean_duration', u'taxi_mean_total_w_inferred_tip',\n",
       "       u'transit_duration', u'taxi_av', u'transit_av', u'ModeCode'],\n",
       "      dtype='object')"
      ]
     },
     "execution_count": 38,
     "metadata": {},
     "output_type": "execute_result"
    }
   ],
   "source": [
    "# Look at the columns of the swiss metro dataset\n",
    "simple_jfk.columns"
   ]
  },
  {
   "cell_type": "code",
   "execution_count": 39,
   "metadata": {
    "collapsed": false
   },
   "outputs": [],
   "source": [
    "# Create the list of individual specific variables\n",
    "ind_variables = simple_jfk.columns.tolist()[:2]\n",
    "\n",
    "# Specify the variables that vary across individuals and some or all alternatives\n",
    "# The keys are the column names that will be used in the long format dataframe.\n",
    "# The values are dictionaries whose key-value pairs are the alternative id and\n",
    "# the column name of the corresponding column that encodes that variable for\n",
    "# the given alternative. Examples below.\n",
    "alt_varying_variables = {u'travel_time': dict([(1, 'taxi_mean_duration'),\n",
    "                                               (2, 'transit_duration')]),\n",
    "                          u'travel_cost': dict([(1, 'taxi_mean_total_w_inferred_tip')])\n",
    "                          }\n",
    "\n",
    "# Specify the availability variables\n",
    "# Note that the keys of the dictionary are the alternative id's.\n",
    "# The values are the columns denoting the availability for the\n",
    "# given mode in the dataset.\n",
    "availability_variables = {1: 'taxi_av',\n",
    "                          2: 'transit_av'}\n",
    "\n",
    "##########\n",
    "# Determine the columns for: alternative ids, the observation ids and the choice\n",
    "##########\n",
    "# The 'custom_alt_id' is the name of a column to be created in the long-format data\n",
    "# It will identify the alternative associated with each row.\n",
    "custom_alt_id = \"mode_id\"\n",
    "\n",
    "# Create a custom id column that ignores the fact that this is a \n",
    "# panel/repeated-observations dataset. Note the +1 ensures the id's start at one.\n",
    "obs_id_column = \"custom_id\"\n",
    "simple_jfk[obs_id_column] = np.arange(simple_jfk.shape[0],\n",
    "                                            dtype=int) + 1\n",
    "\n",
    "\n",
    "# Create a variable recording the choice column\n",
    "choice_column = \"ModeCode\""
   ]
  },
  {
   "cell_type": "code",
   "execution_count": 40,
   "metadata": {
    "collapsed": false
   },
   "outputs": [
    {
     "data": {
      "text/html": [
       "<div>\n",
       "<table border=\"1\" class=\"dataframe\">\n",
       "  <thead>\n",
       "    <tr style=\"text-align: right;\">\n",
       "      <th></th>\n",
       "      <th>0</th>\n",
       "      <th>1</th>\n",
       "      <th>2</th>\n",
       "      <th>3</th>\n",
       "      <th>4</th>\n",
       "    </tr>\n",
       "  </thead>\n",
       "  <tbody>\n",
       "    <tr>\n",
       "      <th>custom_id</th>\n",
       "      <td>1.000000</td>\n",
       "      <td>1.000000</td>\n",
       "      <td>2.000000</td>\n",
       "      <td>2.000000</td>\n",
       "      <td>3.000000</td>\n",
       "    </tr>\n",
       "    <tr>\n",
       "      <th>mode_id</th>\n",
       "      <td>1.000000</td>\n",
       "      <td>2.000000</td>\n",
       "      <td>1.000000</td>\n",
       "      <td>2.000000</td>\n",
       "      <td>1.000000</td>\n",
       "    </tr>\n",
       "    <tr>\n",
       "      <th>ModeCode</th>\n",
       "      <td>1.000000</td>\n",
       "      <td>0.000000</td>\n",
       "      <td>1.000000</td>\n",
       "      <td>0.000000</td>\n",
       "      <td>1.000000</td>\n",
       "    </tr>\n",
       "    <tr>\n",
       "      <th>taxi_mean_duration</th>\n",
       "      <td>47.879023</td>\n",
       "      <td>47.879023</td>\n",
       "      <td>47.879023</td>\n",
       "      <td>47.879023</td>\n",
       "      <td>47.879023</td>\n",
       "    </tr>\n",
       "    <tr>\n",
       "      <th>taxi_mean_total_w_inferred_tip</th>\n",
       "      <td>66.695924</td>\n",
       "      <td>66.695924</td>\n",
       "      <td>66.695924</td>\n",
       "      <td>66.695924</td>\n",
       "      <td>66.695924</td>\n",
       "    </tr>\n",
       "    <tr>\n",
       "      <th>travel_time</th>\n",
       "      <td>47.879023</td>\n",
       "      <td>58.083333</td>\n",
       "      <td>47.879023</td>\n",
       "      <td>58.083333</td>\n",
       "      <td>47.879023</td>\n",
       "    </tr>\n",
       "    <tr>\n",
       "      <th>travel_cost</th>\n",
       "      <td>66.695924</td>\n",
       "      <td>0.000000</td>\n",
       "      <td>66.695924</td>\n",
       "      <td>0.000000</td>\n",
       "      <td>66.695924</td>\n",
       "    </tr>\n",
       "  </tbody>\n",
       "</table>\n",
       "</div>"
      ],
      "text/plain": [
       "                                        0          1          2          3  \\\n",
       "custom_id                        1.000000   1.000000   2.000000   2.000000   \n",
       "mode_id                          1.000000   2.000000   1.000000   2.000000   \n",
       "ModeCode                         1.000000   0.000000   1.000000   0.000000   \n",
       "taxi_mean_duration              47.879023  47.879023  47.879023  47.879023   \n",
       "taxi_mean_total_w_inferred_tip  66.695924  66.695924  66.695924  66.695924   \n",
       "travel_time                     47.879023  58.083333  47.879023  58.083333   \n",
       "travel_cost                     66.695924   0.000000  66.695924   0.000000   \n",
       "\n",
       "                                        4  \n",
       "custom_id                        3.000000  \n",
       "mode_id                          1.000000  \n",
       "ModeCode                         1.000000  \n",
       "taxi_mean_duration              47.879023  \n",
       "taxi_mean_total_w_inferred_tip  66.695924  \n",
       "travel_time                     47.879023  \n",
       "travel_cost                     66.695924  "
      ]
     },
     "execution_count": 40,
     "metadata": {},
     "output_type": "execute_result"
    }
   ],
   "source": [
    "# Perform the conversion to long-format\n",
    "long_jfk = pl.convert_wide_to_long(simple_jfk, \n",
    "                                           ind_variables, \n",
    "                                           alt_varying_variables, \n",
    "                                           availability_variables, \n",
    "                                           obs_id_column, \n",
    "                                           choice_column,\n",
    "                                           new_alt_id_name=custom_alt_id)\n",
    "# Look at the resulting long-format dataframe\n",
    "long_jfk.head().T"
   ]
  },
  {
   "cell_type": "markdown",
   "metadata": {},
   "source": [
    "## Perform desired variable creations and transformations\n",
    "Before estimating a model, one needs to pre-compute all of the variables that one wants to use. This is different from the functionality of other packages such as mlogit or statsmodels that use formula strings to create new variables \"on-the-fly.\" This is also somewhat different from Python Biogeme where new variables can be defined in the script but not actually created by the user before model estimation. pyLogit does not perform variable creation. It only estimates models using variables that already exist.\n",
    "\n",
    "Below, we pre-compute the variables needed for this example's model:\n",
    "<ol>\n",
    "    <li> Travel time in hours instead of minutes. </li>\n",
    "    <li> Travel cost in units of 0.01 CHF (swiss franks) instead of CHF, for ease of numeric optimization. </li>\n",
    "    <li> Travel cost interacted with a variable that identifies individuals who own a season pass (and therefore have no marginal cost of traveling on the trip) or whose employer will pay for their commute/business trip. </li>\n",
    "    <li> A dummy variable for traveling with a single piece of luggage. </li>\n",
    "    <li> A dummy variable for traveling with multiple pieces of luggage. </li>\n",
    "    <li> A dummy variable denoting whether an individual is traveling first class. </li>\n",
    "    <li> A dummy variable indicating whether an individual took their survey on-board a train (since it is a-priori expected that these individuals are already willing to take a train or train-like service such as Swissmetro).</li>\n",
    "</ol>"
   ]
  },
  {
   "cell_type": "code",
   "execution_count": 41,
   "metadata": {
    "collapsed": true
   },
   "outputs": [],
   "source": [
    "##########\n",
    "# Create scaled variables so the estimated coefficients are of similar magnitudes\n",
    "##########\n",
    "# Scale the travel time column by 60 to convert raw units (minutes) to hours\n",
    "long_jfk[\"travel_time_hrs\"] = long_jfk[\"travel_time\"] / 60.0\n",
    "\n",
    "# Scale the travel cost by 100 so estimated coefficients are of similar magnitude\n",
    "# and acccount for ownership of a season pass\n",
    "long_jfk[\"travel_cost_hundreth\"] = (long_jfk[\"travel_cost\"] / 100.0)"
   ]
  },
  {
   "cell_type": "markdown",
   "metadata": {},
   "source": [
    "## Create the model specification\n",
    "The model specification being used in this example is the following:\n",
    "$$\n",
    "\\begin{aligned}\n",
    "V_{i, \\textrm{Train}} &= \\textrm{ASC Train} + \\\\\n",
    "&\\quad \\beta _{ \\textrm{tt_transit} } \\textrm{Travel Time} _{ \\textrm{Train}} * \\frac{1}{60} + \\\\\n",
    "&\\quad \\beta _{ \\textrm{tc_train} } \\textrm{Travel Cost}_{\\textrm{Train}} * \\left( GA == 0 \\right) * 0.01 + \\\\\n",
    "&\\quad \\beta _{ \\textrm{headway_train} } \\textrm{Headway} _{\\textrm{Train}} * \\frac{1}{60} + \\\\\n",
    "&\\quad \\beta _{ \\textrm{survey} } \\left( \\textrm{Train Survey} == 1 \\right) \\\\\n",
    "\\\\\n",
    "V_{i, \\textrm{Swissmetro}} &= \\textrm{ASC Swissmetro} + \\\\\n",
    "&\\quad \\beta _{ \\textrm{tt_transit} } \\textrm{Travel Time} _{ \\textrm{Swissmetro}} * \\frac{1}{60} + \\\\\n",
    "&\\quad \\beta _{ \\textrm{tc_sm} } \\textrm{Travel Cost}_{\\textrm{Swissmetro}} * \\left( GA == 0 \\right) * 0.01 + \\\\\n",
    "&\\quad \\beta _{ \\textrm{headway_sm} } \\textrm{Heaway} _{\\textrm{Swissmetro}} * \\frac{1}{60} + \\\\\n",
    "&\\quad \\beta _{ \\textrm{seat} } \\left( \\textrm{Seat Configuration} == 1 \\right) \\\\\n",
    "&\\quad \\beta _{ \\textrm{survey} } \\left( \\textrm{Train Survey} == 1 \\right) \\\\\n",
    "&\\quad \\beta _{ \\textrm{first_class} } \\left( \\textrm{First Class} == 0 \\right) \\\\\n",
    "\\\\\n",
    "V_{i, \\textrm{Car}} &= \\beta _{ \\textrm{tt_car} } \\textrm{Travel Time} _{ \\textrm{Car}} * \\frac{1}{60} + \\\\\n",
    "&\\quad \\beta _{ \\textrm{tc_car}} \\textrm{Travel Cost}_{\\textrm{Car}} * 0.01 + \\\\\n",
    "&\\quad \\beta _{\\textrm{luggage}=1} \\left( \\textrm{Luggage} == 1 \\right) + \\\\\n",
    "&\\quad \\beta _{\\textrm{luggage}>1} \\left( \\textrm{Luggage} > 1 \\right)\n",
    "\\end{aligned}\n",
    "$$\n",
    "\n",
    "Note that packages such as mlogit and statsmodels do not, by default, handle coefficients that vary over some alternatives but not all, such as the travel time coefficient that is specified as being the same for \"Train\" and \"Swissmetro\" but different for \"Car.\""
   ]
  },
  {
   "cell_type": "code",
   "execution_count": 42,
   "metadata": {
    "collapsed": true
   },
   "outputs": [],
   "source": [
    "# NOTE: - Specification and variable names must be ordered dictionaries.\n",
    "#       - Keys should be variables within the long format dataframe.\n",
    "#         The sole exception to this is the \"intercept\" key.\n",
    "#       - For the specification dictionary, the values should be lists\n",
    "#         of integers or or lists of lists of integers. Within a list, \n",
    "#         or within the inner-most list, the integers should be the \n",
    "#         alternative ID's of the alternative whose utility specification \n",
    "#         the explanatory variable is entering. Lists of lists denote \n",
    "#         alternatives that will share a common coefficient for the variable\n",
    "#         in question.\n",
    "\n",
    "basic_specification = OrderedDict()\n",
    "basic_names = OrderedDict()\n",
    "\n",
    "basic_specification[\"intercept\"] = [1]\n",
    "basic_names[\"intercept\"] = ['ASC taxi']\n",
    "\n",
    "basic_specification[\"travel_time_hrs\"] = [1]\n",
    "basic_names[\"travel_time_hrs\"] = ['Travel Time, units:hrs (taxi)']\n",
    "\n",
    "basic_specification[\"travel_cost_hundreth\"] = [1]\n",
    "basic_names[\"travel_cost_hundreth\"] = ['Travel Cost taxi']"
   ]
  },
  {
   "cell_type": "markdown",
   "metadata": {},
   "source": [
    "# Estimate the conditional logit model"
   ]
  },
  {
   "cell_type": "code",
   "execution_count": 43,
   "metadata": {
    "collapsed": false
   },
   "outputs": [
    {
     "name": "stdout",
     "output_type": "stream",
     "text": [
      "Log-likelihood at zero: -126.8459\n",
      "Initial Log-likelihood: -126.8459\n",
      "Estimation Time: 0.01 seconds.\n",
      "Final log-likelihood: -106.3632\n"
     ]
    },
    {
     "data": {
      "text/html": [
       "<table class=\"simpletable\">\n",
       "<caption>Multinomial Logit Model Regression Results</caption>\n",
       "<tr>\n",
       "  <th>Dep. Variable:</th>        <td>ModeCode</td>         <th>  No. Observations:  </th>    <td>183</td>  \n",
       "</tr>\n",
       "<tr>\n",
       "  <th>Model:</th>         <td>Multinomial Logit Model</td> <th>  Df Residuals:      </th>    <td>180</td>  \n",
       "</tr>\n",
       "<tr>\n",
       "  <th>Method:</th>                  <td>MLE</td>           <th>  Df Model:          </th>     <td>3</td>   \n",
       "</tr>\n",
       "<tr>\n",
       "  <th>Date:</th>             <td>Fri, 13 May 2016</td>     <th>  Pseudo R-squ.:     </th>   <td>0.161</td> \n",
       "</tr>\n",
       "<tr>\n",
       "  <th>Time:</th>                 <td>08:57:41</td>         <th>  Pseudo R-bar-squ.: </th>   <td>0.138</td> \n",
       "</tr>\n",
       "<tr>\n",
       "  <th>converged:</th>              <td>True</td>           <th>  Log-Likelihood:    </th> <td>-106.363</td>\n",
       "</tr>\n",
       "<tr>\n",
       "  <th> </th>                         <td> </td>            <th>  LL-Null:           </th> <td>-126.846</td>\n",
       "</tr>\n",
       "</table>\n",
       "<table class=\"simpletable\">\n",
       "<tr>\n",
       "                <td></td>                   <th>coef</th>     <th>std err</th>      <th>z</th>      <th>P>|z|</th> <th>[95.0% Conf. Int.]</th> \n",
       "</tr>\n",
       "<tr>\n",
       "  <th>ASC taxi</th>                      <td>    2.5019</td> <td>    0.989</td> <td>    2.529</td> <td> 0.011</td> <td>    0.563     4.441</td>\n",
       "</tr>\n",
       "<tr>\n",
       "  <th>Travel Time, units:hrs (taxi)</th> <td>    3.1544</td> <td>    1.787</td> <td>    1.765</td> <td> 0.078</td> <td>   -0.348     6.656</td>\n",
       "</tr>\n",
       "<tr>\n",
       "  <th>Travel Cost taxi</th>              <td>   -5.6693</td> <td>    2.419</td> <td>   -2.344</td> <td> 0.019</td> <td>  -10.411    -0.928</td>\n",
       "</tr>\n",
       "</table>"
      ],
      "text/plain": [
       "<class 'statsmodels.iolib.summary.Summary'>\n",
       "\"\"\"\n",
       "                     Multinomial Logit Model Regression Results                    \n",
       "===================================================================================\n",
       "Dep. Variable:                    ModeCode   No. Observations:                  183\n",
       "Model:             Multinomial Logit Model   Df Residuals:                      180\n",
       "Method:                                MLE   Df Model:                            3\n",
       "Date:                     Fri, 13 May 2016   Pseudo R-squ.:                   0.161\n",
       "Time:                             08:57:41   Pseudo R-bar-squ.:               0.138\n",
       "converged:                            True   Log-Likelihood:               -106.363\n",
       "                                             LL-Null:                      -126.846\n",
       "=================================================================================================\n",
       "                                    coef    std err          z      P>|z|      [95.0% Conf. Int.]\n",
       "-------------------------------------------------------------------------------------------------\n",
       "ASC taxi                          2.5019      0.989      2.529      0.011         0.563     4.441\n",
       "Travel Time, units:hrs (taxi)     3.1544      1.787      1.765      0.078        -0.348     6.656\n",
       "Travel Cost taxi                 -5.6693      2.419     -2.344      0.019       -10.411    -0.928\n",
       "=================================================================================================\n",
       "\"\"\""
      ]
     },
     "execution_count": 43,
     "metadata": {},
     "output_type": "execute_result"
    }
   ],
   "source": [
    "# Estimate the multinomial logit model (MNL)\n",
    "jfk_mnl = pl.create_choice_model(data=long_jfk,\n",
    "                                        alt_id_col=custom_alt_id,\n",
    "                                        obs_id_col=obs_id_column,\n",
    "                                        choice_col=choice_column,\n",
    "                                        specification=basic_specification,\n",
    "                                        model_type=\"MNL\",\n",
    "                                        names=basic_names)\n",
    "\n",
    "# Specify the initial values and method for the optimization.\n",
    "jfk_mnl.fit_mle(np.zeros(3))\n",
    "\n",
    "# Look at the estimation results\n",
    "jfk_mnl.get_statsmodels_summary()"
   ]
  },
  {
   "cell_type": "markdown",
   "metadata": {},
   "source": [
    "## View results without using statsmodels summary table"
   ]
  },
  {
   "cell_type": "markdown",
   "metadata": {},
   "source": [
    "You can view all of the results simply by using print_summaries(). This will simply print the various summary dataframes."
   ]
  },
  {
   "cell_type": "code",
   "execution_count": 44,
   "metadata": {
    "collapsed": false
   },
   "outputs": [
    {
     "name": "stdout",
     "output_type": "stream",
     "text": [
      "\n",
      "\n",
      "Number of Parameters                                          3\n",
      "Number of Observations                                      183\n",
      "Null Log-Likelihood                                    -126.846\n",
      "Fitted Log-Likelihood                                  -106.363\n",
      "Rho-Squared                                            0.161477\n",
      "Rho-Bar-Squared                                        0.137826\n",
      "Estimation Message        Optimization terminated successfully.\n",
      "dtype: object\n",
      "==============================\n",
      "                               parameters   std_err   t_stats  p_values  \\\n",
      "ASC taxi                         2.501880  0.989322  2.528883  0.011443   \n",
      "Travel Time, units:hrs (taxi)    3.154375  1.786828  1.765350  0.077505   \n",
      "Travel Cost taxi                -5.669328  2.419085 -2.343584  0.019099   \n",
      "\n",
      "                               robust_std_err  robust_t_stats  robust_p_values  \n",
      "ASC taxi                             0.944201        2.649731         0.008056  \n",
      "Travel Time, units:hrs (taxi)        1.816686        1.736335         0.082505  \n",
      "Travel Cost taxi                     2.447641       -2.316241         0.020545  \n"
     ]
    }
   ],
   "source": [
    "# Look at other all results at the same time\n",
    "jfk_mnl.print_summaries()"
   ]
  },
  {
   "cell_type": "code",
   "execution_count": 45,
   "metadata": {
    "collapsed": false
   },
   "outputs": [
    {
     "data": {
      "text/plain": [
       "Number of Parameters                                          3\n",
       "Number of Observations                                      183\n",
       "Null Log-Likelihood                                    -126.846\n",
       "Fitted Log-Likelihood                                  -106.363\n",
       "Rho-Squared                                            0.161477\n",
       "Rho-Bar-Squared                                        0.137826\n",
       "Estimation Message        Optimization terminated successfully.\n",
       "dtype: object"
      ]
     },
     "execution_count": 45,
     "metadata": {},
     "output_type": "execute_result"
    }
   ],
   "source": [
    "# Look at the general and goodness of fit statistics\n",
    "jfk_mnl.fit_summary"
   ]
  },
  {
   "cell_type": "code",
   "execution_count": 46,
   "metadata": {
    "collapsed": false
   },
   "outputs": [
    {
     "data": {
      "text/html": [
       "<div>\n",
       "<table border=\"1\" class=\"dataframe\">\n",
       "  <thead>\n",
       "    <tr style=\"text-align: right;\">\n",
       "      <th></th>\n",
       "      <th>parameters</th>\n",
       "      <th>std_err</th>\n",
       "      <th>t_stats</th>\n",
       "      <th>p_values</th>\n",
       "      <th>robust_std_err</th>\n",
       "      <th>robust_t_stats</th>\n",
       "      <th>robust_p_values</th>\n",
       "    </tr>\n",
       "  </thead>\n",
       "  <tbody>\n",
       "    <tr>\n",
       "      <th>ASC taxi</th>\n",
       "      <td>2.502</td>\n",
       "      <td>0.989</td>\n",
       "      <td>2.529</td>\n",
       "      <td>0.011</td>\n",
       "      <td>0.944</td>\n",
       "      <td>2.650</td>\n",
       "      <td>0.008</td>\n",
       "    </tr>\n",
       "    <tr>\n",
       "      <th>Travel Time, units:hrs (taxi)</th>\n",
       "      <td>3.154</td>\n",
       "      <td>1.787</td>\n",
       "      <td>1.765</td>\n",
       "      <td>0.078</td>\n",
       "      <td>1.817</td>\n",
       "      <td>1.736</td>\n",
       "      <td>0.083</td>\n",
       "    </tr>\n",
       "    <tr>\n",
       "      <th>Travel Cost taxi</th>\n",
       "      <td>-5.669</td>\n",
       "      <td>2.419</td>\n",
       "      <td>-2.344</td>\n",
       "      <td>0.019</td>\n",
       "      <td>2.448</td>\n",
       "      <td>-2.316</td>\n",
       "      <td>0.021</td>\n",
       "    </tr>\n",
       "  </tbody>\n",
       "</table>\n",
       "</div>"
      ],
      "text/plain": [
       "                               parameters  std_err  t_stats  p_values  \\\n",
       "ASC taxi                            2.502    0.989    2.529     0.011   \n",
       "Travel Time, units:hrs (taxi)       3.154    1.787    1.765     0.078   \n",
       "Travel Cost taxi                   -5.669    2.419   -2.344     0.019   \n",
       "\n",
       "                               robust_std_err  robust_t_stats  robust_p_values  \n",
       "ASC taxi                                0.944           2.650            0.008  \n",
       "Travel Time, units:hrs (taxi)           1.817           1.736            0.083  \n",
       "Travel Cost taxi                        2.448          -2.316            0.021  "
      ]
     },
     "execution_count": 46,
     "metadata": {},
     "output_type": "execute_result"
    }
   ],
   "source": [
    "# Look at the parameter estimation results, and round the results for easy viewing\n",
    "np.round(jfk_mnl.summary, 3)"
   ]
  },
  {
   "cell_type": "code",
   "execution_count": null,
   "metadata": {
    "collapsed": true
   },
   "outputs": [],
   "source": []
  },
  {
   "cell_type": "code",
   "execution_count": null,
   "metadata": {
    "collapsed": true
   },
   "outputs": [],
   "source": []
  }
 ],
 "metadata": {
  "kernelspec": {
   "display_name": "Python 2",
   "language": "python",
   "name": "python2"
  },
  "language_info": {
   "codemirror_mode": {
    "name": "ipython",
    "version": 2
   },
   "file_extension": ".py",
   "mimetype": "text/x-python",
   "name": "python",
   "nbconvert_exporter": "python",
   "pygments_lexer": "ipython2",
   "version": "2.7.11"
  }
 },
 "nbformat": 4,
 "nbformat_minor": 0
}
