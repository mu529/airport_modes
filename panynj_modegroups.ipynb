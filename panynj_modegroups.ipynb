{
 "cells": [
  {
   "cell_type": "code",
   "execution_count": 56,
   "metadata": {
    "collapsed": true
   },
   "outputs": [],
   "source": [
    "import pandas as pd\n",
    "import numpy as np"
   ]
  },
  {
   "cell_type": "code",
   "execution_count": 64,
   "metadata": {
    "collapsed": false
   },
   "outputs": [],
   "source": [
    "# load the CSV file exported from SPSS, and calculate modal split percentage for JFK passengers.\n",
    "df = pd.read_csv('exploration/2014 TxT CSS O-D Dep SPSS Database_NYU w vars.csv')\n",
    "df= df.query('AIRPORT==\"JFK\"')\n",
    "# jfk_tot = df.query('AIRPORT==\"JFK\"').WEIGHT.sum()\n",
    "# jfk_splits = df.query('AIRPORT==\"JFK\"').groupby('MAINMODE')['WEIGHT'].sum()/jfk_tot"
   ]
  },
  {
   "cell_type": "markdown",
   "metadata": {
    "collapsed": false
   },
   "source": [
    "# label each value of MAINMODE with a category\n",
    "modegroups = {'A':'train',\n",
    "'E':'train',\n",
    "'J':'train',\n",
    "'Z':'train',\n",
    "'LIRR Connecting to JFK AirTrain':'train',\n",
    "'Other (NYC Subway, including Connection to JFK AirTrain)':'train',\n",
    "'Airlink New York':'van',\n",
    "'All County Express':'van',\n",
    "'Connecticut Limousine':'van',\n",
    "\"Dave's Best Limousine\":'van',\n",
    "'ETS Airport Shuttle':'van',\n",
    "'Other (Shared-Ride Van/Service)':'van',\n",
    "'Prime Time Shuttle of Connecticut':'van',\n",
    "'State Shuttle':'van',\n",
    "'SuperShuttle from Long Island':'van',\n",
    "'SuperShuttle from Manhattan':'van',\n",
    "'Limo/Executive Car/Town Car Service':'limo',\n",
    "'Chartered/Tour Bus':'bus',\n",
    "'NYC Airporter Bus from JFK/LaGuardia Airports':'bus',\n",
    "'NYC Airporter Bus from Manhattan':'bus',\n",
    "'Public/City Bus (that is, a local bus)':'bus',\n",
    "'Transbridge Bus':'bus',\n",
    "'Taxi':'taxi',\n",
    "'Air Park':'local_van',\n",
    "'Dollar Airport Parking':'local_van',\n",
    "'Hilton Hotel':'local_van',\n",
    "'Holiday Inn FSP':'local_van', \n",
    "'Hotel/Motel Shuttle/Van':'local_van',\n",
    "'JFK Marriott Hotel':'local_van',\n",
    "'National Airport Parking':'local_van',\n",
    "'Other (Off-Airport Parking Shuttle/Van)':'local_van',\n",
    "'Park Plus':'local_van',\n",
    "'Sky Park/Central Parking':'local_van',\n",
    "'The Parking Spot JFK/LGA':'local_van',\n",
    "'U-Save':'local_van',\n",
    "'Vista Airport Parking':'local_van',\n",
    "'Drove Your Own Car':'private',\n",
    "'Passenger in Car Parked at Airport':'private',\n",
    "'Passenger in Car and Dropped Off at Airport':'private',\n",
    "'Avis':'rental',\n",
    "'Budget':'rental',\n",
    "'Dollar':'rental',\n",
    "'Enterprise':'rental',\n",
    "'Hertz':'rental',\n",
    "'National':'rental',\n",
    "'Other (Drove Rental Car)':'rental'}"
   ]
  },
  {
   "cell_type": "code",
   "execution_count": 76,
   "metadata": {
    "collapsed": true
   },
   "outputs": [],
   "source": [
    "# label each value of MAINMODE with a category\n",
    "modegroups = {'A':'transit',\n",
    "'E':'transit',\n",
    "'J':'transit',\n",
    "'Z':'transit',\n",
    "'LIRR Connecting to JFK AirTrain':'transit',\n",
    "'Other (NYC Subway, including Connection to JFK AirTrain)':'transit',\n",
    "'Airlink New York':'other',\n",
    "'All County Express':'other',\n",
    "'Connecticut Limousine':'other',\n",
    "\"Dave's Best Limousine\":'other',\n",
    "'ETS Airport Shuttle':'other',\n",
    "'Other (Shared-Ride Van/Service)':'other',\n",
    "'Prime Time Shuttle of Connecticut':'other',\n",
    "'State Shuttle':'other',\n",
    "'SuperShuttle from Long Island':'other',\n",
    "'SuperShuttle from Manhattan':'other',\n",
    "'Limo/Executive Car/Town Car Service':'other',\n",
    "'Chartered/Tour Bus':'other',\n",
    "'NYC Airporter Bus from JFK/LaGuardia Airports':'other',\n",
    "'NYC Airporter Bus from Manhattan':'other',\n",
    "'Public/City Bus (that is, a local bus)':'transit',\n",
    "'Transbridge Bus':'other',\n",
    "'Taxi':'taxi',\n",
    "'Air Park':'other',\n",
    "'Dollar Airport Parking':'other',\n",
    "'Hilton Hotel':'other',\n",
    "'Holiday Inn FSP':'other', \n",
    "'Hotel/Motel Shuttle/Van':'other',\n",
    "'JFK Marriott Hotel':'other',\n",
    "'National Airport Parking':'other',\n",
    "'Other (Off-Airport Parking Shuttle/Van)':'other',\n",
    "'Park Plus':'other',\n",
    "'Sky Park/Central Parking':'other',\n",
    "'The Parking Spot JFK/LGA':'other',\n",
    "'U-Save':'other',\n",
    "'Vista Airport Parking':'other',\n",
    "'Drove Your Own Car':'other',\n",
    "'Passenger in Car Parked at Airport':'other',\n",
    "'Passenger in Car and Dropped Off at Airport':'other',\n",
    "'Avis':'other',\n",
    "'Budget':'other',\n",
    "'Dollar':'other',\n",
    "'Enterprise':'other',\n",
    "'Hertz':'other',\n",
    "'National':'other',\n",
    "'Other (Drove Rental Car)':'other'}"
   ]
  },
  {
   "cell_type": "code",
   "execution_count": 77,
   "metadata": {
    "collapsed": false
   },
   "outputs": [],
   "source": [
    "# add groupings\n",
    "# grouped_df = pd.DataFrame.from_dict(modegroups,orient='index').rename(columns={0:'ModeGroup'})\n",
    "# summarize the mode-split percentages by mode-group\n",
    "# grouped_df.join(jfk_splits).groupby('ModeGroup').sum()"
   ]
  },
  {
   "cell_type": "code",
   "execution_count": 78,
   "metadata": {
    "collapsed": true
   },
   "outputs": [],
   "source": [
    "zip_summary = pd.read_csv('zip_summary.csv')"
   ]
  },
  {
   "cell_type": "code",
   "execution_count": 79,
   "metadata": {
    "collapsed": false
   },
   "outputs": [],
   "source": [
    "survey_columns = df[['TOZip','MAINMODE','ODTravelTimeToAirport']]"
   ]
  },
  {
   "cell_type": "code",
   "execution_count": 80,
   "metadata": {
    "collapsed": false
   },
   "outputs": [
    {
     "name": "stderr",
     "output_type": "stream",
     "text": [
      "C:\\Anaconda3\\envs\\py27\\lib\\site-packages\\ipykernel\\__main__.py:1: SettingWithCopyWarning: \n",
      "A value is trying to be set on a copy of a slice from a DataFrame.\n",
      "Try using .loc[row_indexer,col_indexer] = value instead\n",
      "\n",
      "See the caveats in the documentation: http://pandas.pydata.org/pandas-docs/stable/indexing.html#indexing-view-versus-copy\n",
      "  if __name__ == '__main__':\n"
     ]
    }
   ],
   "source": [
    "survey_columns['zipcode'] = pd.to_numeric(survey_columns['TOZip'],errors='coerce')"
   ]
  },
  {
   "cell_type": "code",
   "execution_count": 81,
   "metadata": {
    "collapsed": false
   },
   "outputs": [],
   "source": [
    "joined = survey_columns.dropna(how='any',subset=['zipcode']).merge(zip_summary,on='zipcode',how='inner')"
   ]
  },
  {
   "cell_type": "code",
   "execution_count": 82,
   "metadata": {
    "collapsed": false
   },
   "outputs": [],
   "source": [
    "joined.drop(['TOZip','taxi_mean_pickup_longitude','taxi_mean_pickup_latitude','taxi_mean_trip_distance'],axis=1,inplace=True)"
   ]
  },
  {
   "cell_type": "code",
   "execution_count": 83,
   "metadata": {
    "collapsed": false
   },
   "outputs": [],
   "source": [
    "joined = joined.merge(pd.DataFrame.from_dict(modegroups,orient='index').rename(columns={0:'ModeGroup'}),left_on='MAINMODE',right_index=True)"
   ]
  },
  {
   "cell_type": "code",
   "execution_count": 84,
   "metadata": {
    "collapsed": false
   },
   "outputs": [],
   "source": [
    "joined['taxi_mean_duration'] = np.divide(joined['taxi_mean_duration'],60)\n",
    "joined['transit_duration'] = np.divide(joined['transit_duration'],60)"
   ]
  },
  {
   "cell_type": "code",
   "execution_count": 85,
   "metadata": {
    "collapsed": false
   },
   "outputs": [],
   "source": [
    "joined.to_csv('joined_jfk_responses.csv')"
   ]
  },
  {
   "cell_type": "code",
   "execution_count": 86,
   "metadata": {
    "collapsed": true
   },
   "outputs": [],
   "source": [
    "import statsmodels.api as st"
   ]
  },
  {
   "cell_type": "code",
   "execution_count": 88,
   "metadata": {
    "collapsed": false
   },
   "outputs": [],
   "source": [
    "joined['transit_fare'] = 7.75"
   ]
  },
  {
   "cell_type": "code",
   "execution_count": 100,
   "metadata": {
    "collapsed": true
   },
   "outputs": [],
   "source": [
    "y = joined.query('ModeGroup != \"other\"').dropna(how='any')['ModeGroup']\n",
    "x = joined.query('ModeGroup != \"other\"').dropna(how='any')[['taxi_mean_duration','taxi_mean_total_w_inferred_tip','transit_duration','transit_fare']]"
   ]
  },
  {
   "cell_type": "code",
   "execution_count": 101,
   "metadata": {
    "collapsed": false
   },
   "outputs": [
    {
     "name": "stdout",
     "output_type": "stream",
     "text": [
      "Optimization terminated successfully.\n",
      "         Current function value: 0.578382\n",
      "         Iterations 5\n"
     ]
    }
   ],
   "source": [
    "mdl = st.MNLogit(y, x)\n",
    "mdl_fit = mdl.fit()"
   ]
  },
  {
   "cell_type": "code",
   "execution_count": 102,
   "metadata": {
    "collapsed": false
   },
   "outputs": [
    {
     "name": "stdout",
     "output_type": "stream",
     "text": [
      "                          MNLogit Regression Results                          \n",
      "==============================================================================\n",
      "Dep. Variable:              ModeGroup   No. Observations:                  183\n",
      "Model:                        MNLogit   Df Residuals:                      179\n",
      "Method:                           MLE   Df Model:                            3\n",
      "Date:                Thu, 14 Apr 2016   Pseudo R-squ.:                 0.03091\n",
      "Time:                        10:56:42   Log-Likelihood:                -105.84\n",
      "converged:                       True   LL-Null:                       -109.22\n",
      "                                        LLR p-value:                   0.08020\n",
      "==================================================================================================\n",
      "             ModeGroup=transit       coef    std err          z      P>|z|      [95.0% Conf. Int.]\n",
      "--------------------------------------------------------------------------------------------------\n",
      "taxi_mean_duration                -0.0639      0.032     -2.010      0.044        -0.126    -0.002\n",
      "taxi_mean_total_w_inferred_tip     0.0724      0.029      2.486      0.013         0.015     0.130\n",
      "transit_duration                  -0.0138      0.014     -1.012      0.312        -0.041     0.013\n",
      "transit_fare                      -0.2734      0.138     -1.988      0.047        -0.543    -0.004\n",
      "==================================================================================================\n"
     ]
    }
   ],
   "source": [
    "print mdl_fit.summary()"
   ]
  },
  {
   "cell_type": "code",
   "execution_count": 103,
   "metadata": {
    "collapsed": false
   },
   "outputs": [
    {
     "name": "stdout",
     "output_type": "stream",
     "text": [
      "       MNLogit Marginal Effects      \n",
      "=====================================\n",
      "Dep. Variable:              ModeGroup\n",
      "Method:                          dydx\n",
      "At:                           overall\n",
      "==================================================================================================\n",
      "                ModeGroup=taxi      dy/dx    std err          z      P>|z|      [95.0% Conf. Int.]\n",
      "--------------------------------------------------------------------------------------------------\n",
      "taxi_mean_duration                 0.0125      0.006      2.087      0.037         0.001     0.024\n",
      "taxi_mean_total_w_inferred_tip    -0.0142      0.005     -2.626      0.009        -0.025    -0.004\n",
      "transit_duration                   0.0027      0.003      1.020      0.308        -0.002     0.008\n",
      "--------------------------------------------------------------------------------------------------\n",
      "             ModeGroup=transit      dy/dx    std err          z      P>|z|      [95.0% Conf. Int.]\n",
      "--------------------------------------------------------------------------------------------------\n",
      "taxi_mean_duration                -0.0125      0.006     -2.087      0.037        -0.024    -0.001\n",
      "taxi_mean_total_w_inferred_tip     0.0142      0.005      2.626      0.009         0.004     0.025\n",
      "transit_duration                  -0.0027      0.003     -1.020      0.308        -0.008     0.002\n",
      "==================================================================================================\n"
     ]
    }
   ],
   "source": [
    "mdl_margeff = mdl_fit.get_margeff()\n",
    "print mdl_margeff.summary()"
   ]
  },
  {
   "cell_type": "code",
   "execution_count": null,
   "metadata": {
    "collapsed": true
   },
   "outputs": [],
   "source": []
  }
 ],
 "metadata": {
  "kernelspec": {
   "display_name": "Python 3",
   "language": "python",
   "name": "python3"
  },
  "language_info": {
   "codemirror_mode": {
    "name": "ipython",
    "version": 3
   },
   "file_extension": ".py",
   "mimetype": "text/x-python",
   "name": "python",
   "nbconvert_exporter": "python",
   "pygments_lexer": "ipython3",
   "version": "3.4.4"
  }
 },
 "nbformat": 4,
 "nbformat_minor": 0
}
