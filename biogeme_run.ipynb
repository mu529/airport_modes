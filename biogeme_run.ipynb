{
 "cells": [
  {
   "cell_type": "code",
   "execution_count": 76,
   "metadata": {
    "collapsed": true
   },
   "outputs": [],
   "source": [
    "import subprocess\n",
    "import pandas as pd"
   ]
  },
  {
   "cell_type": "code",
   "execution_count": 29,
   "metadata": {
    "collapsed": true
   },
   "outputs": [],
   "source": [
    "model_name = 'models/26jun_4modes'\n",
    "model_data = 'models-data/data_26jun.dat'"
   ]
  },
  {
   "cell_type": "code",
   "execution_count": 47,
   "metadata": {
    "collapsed": false,
    "scrolled": false
   },
   "outputs": [
    {
     "name": "stdout",
     "output_type": "stream",
     "text": [
      "b'~~~~~~~~~~~~~~~~~~~~~~~~~~~~~~~~~~~~~~~~~~~~~~~~~~~~~~\\r\\n'\n",
      "b'biogeme 2.4 [Sun Oct 25 23:01:47 WEST 2015]\\r\\n'\n",
      "b'Michel Bierlaire, EPFL\\r\\n'\n",
      "b'-- Compiled by biogeme@hotmail.com on MINGW32_NT-6.1\\r\\n'\n",
      "b'See http://biogeme.epfl.ch\\r\\n'\n",
      "b'                    !! CFSQP is available !!\\r\\n'\n",
      "b'~~~~~~~~~~~~~~~~~~~~~~~~~~~~~~~~~~~~~~~~~~~~~~~~~~~~~~\\r\\n'\n",
      "b'\\t\"In every non-trivial program there is at least one bug.\"\\r\\n'\n",
      "b'\\r\\n'\n",
      "b'\\r\\n'\n",
      "b'[12:10:12]patFileNames.cc:52  models/26jun_4modes.par does not exist\\r\\n'\n",
      "b'[12:10:12]patFileNames.cc:56  Trying default.par instead\\r\\n'\n",
      "b'[12:10:12]patBiogeme.cc:134  Read default.par\\r\\n'\n",
      "b' Opening file models-data/data_26jun.dat\\r\\n'\n",
      "b' Data  file... line 500\\tMemory: 74 Kb\\r\\n'\n",
      "b' Data  file... line 1000\\tMemory: 150 Kb\\r\\n'\n",
      "b' Data  file... line 1500\\tMemory: 225 Kb\\r\\n'\n",
      "b' Total obs.:   1595\\r\\n'\n",
      "b' Total memory: 240.023 Kb\\r\\n'\n",
      "b' Run time for data processing: 00:00\\r\\n'\n",
      "b' Init loglike=-1899.53\\r\\n'\n",
      "b'     gmax Iter   radius        f(x)     Status       rhok nFree\\r\\n'\n",
      "b' +5.26e-001    1 1.00e+000 +1.8995277e+003 ****OutTrReg +9.72e-001 5  ++ P\\r\\n'\n",
      "b' +5.26e-001    2 2.00e+000 +1.3324701e+003 ****Converg  +1.18e+000 5  ++ P\\r\\n'\n",
      "b' +3.37e-001    3 4.00e+000 +1.1851781e+003 ****Converg  +1.22e+000 5  ++ P\\r\\n'\n",
      "b' +2.43e-001    4 8.00e+000 +1.1512728e+003 ****Converg  +1.10e+000 5  ++ P\\r\\n'\n",
      "b' +2.84e-001    5 1.60e+001 +1.1188304e+003 ****Converg  +1.01e+000 5  ++ P\\r\\n'\n",
      "b' +1.93e-002    6 3.20e+001 +1.1185747e+003 ****Converg  +1.06e+000 5  ++ P\\r\\n'\n",
      "b' +7.09e-002    7 6.40e+001 +1.1046331e+003 ****Converg  +1.12e+000 5  ++ P\\r\\n'\n",
      "b' +9.28e-003    8 1.28e+002 +1.1034478e+003 ****Converg  +9.97e-001 5  ++ P\\r\\n'\n",
      "b' +6.66e-003    9 2.56e+002 +1.1031162e+003 ****Converg  +1.25e+000 5  ++ P\\r\\n'\n",
      "b' +1.16e-002   10 5.12e+002 +1.1018240e+003 ****Converg  +1.01e+000 5  ++ P\\r\\n'\n",
      "b' +2.50e-003   11 1.02e+003 +1.1017859e+003 ****Converg  +1.23e+000 5  ++ P\\r\\n'\n",
      "b' +3.56e-003   12 2.05e+003 +1.1013762e+003 ****Converg  +1.00e+000 5  ++ P\\r\\n'\n",
      "b' +9.91e-004   13 4.10e+003 +1.1013706e+003 ****Converg  +1.25e+000 5  ++ P\\r\\n'\n",
      "b' +1.25e-003   14 8.19e+003 +1.1012361e+003 ****Converg  +1.00e+000 5  ++ P\\r\\n'\n",
      "b' +3.98e-004   15 1.64e+004 +1.1012354e+003 ****Converg  +1.26e+000 5  ++ P\\r\\n'\n",
      "b' +4.50e-004   16 3.28e+004 +1.1011881e+003 ****Converg  +1.00e+000 5  ++ P\\r\\n'\n",
      "b' +1.60e-004   17 6.55e+004 +1.1011880e+003 ****Converg  +1.26e+000 5  ++ P\\r\\n'\n",
      "b' +1.64e-004   18 1.31e+005 +1.1011709e+003 ****Converg  +1.00e+000 5  ++ P\\r\\n'\n",
      "b' +6.38e-005   19 2.62e+005 +1.1011709e+003 ****Converg  +1.26e+000 5  ++ P\\r\\n'\n",
      "b' +6.03e-005   20 5.24e+005 +1.1011647e+003 ****Converg  +1.00e+000 5  ++ P\\r\\n'\n",
      "b' +2.54e-005   21 1.05e+006 +1.1011647e+003 ****Converg  +1.26e+000 5  ++ P\\r\\n'\n",
      "b' +2.22e-005   22 2.10e+006 +1.1011624e+003 ****Converg  +1.00e+000 5  ++ P\\r\\n'\n",
      "b' +1.00e-005   23 4.19e+006 +1.1011624e+003 ****Converg  +1.26e+000 5  ++ P\\r\\n'\n",
      "b' +8.15e-006   24 8.39e+006 +1.1011615e+003 ****Converg  +1.00e+000 5  ++ P\\r\\n'\n",
      "b'\\r\\n'\n",
      "b' Convergence reached...\\r\\n'\n",
      "b'--> time interval [12:10:12,12:10:13]\\r\\n'\n",
      "b' Run time: 00:01\\r\\n'\n",
      "b' Final log likelihood=-1101.16\\r\\n'\n",
      "b' Be patient... BIOGEME is preparing the output files\\r\\n'\n",
      "b'--> time interval [12:10:13,12:10:13]\\r\\n'\n",
      "b' Run time for var/covar computation: 00:00\\r\\n'\n",
      "b' BIOGEME Input files\\r\\n'\n",
      "b' ===================\\r\\n'\n",
      "b' Parameters:\\t\\t\\tdefault.par\\r\\n'\n",
      "b' Model specification:\\t\\tmodels/26jun_4modes.mod\\r\\n'\n",
      "b' Sample 1 :\\t\\t\\t\\tmodels-data/data_26jun.dat\\r\\n'\n",
      "b' BIOGEME Output files\\r\\n'\n",
      "b' ====================\\r\\n'\n",
      "b' Estimation results:\\t\\tmodels/26jun_4modes.rep\\r\\n'\n",
      "b' Estimation results (HTML):\\tmodels/26jun_4modes.html\\r\\n'\n",
      "b' Estimation results (Latex):\\tmodels/26jun_4modes.tex\\r\\n'\n",
      "b' Estimation results (ALogit):\\tmodels/26jun_4modes.F12\\r\\n'\n",
      "b' Result model spec. file:\\tmodels/26jun_4modes.res\\r\\n'\n",
      "b' Sample statistics:\\t\\tmodels/26jun_4modes.sta\\r\\n'\n",
      "b' BIOGEME Debug files\\r\\n'\n",
      "b' ===================\\r\\n'\n",
      "b' Log file:\\t\\t\\tmodels/26jun_4modes.log\\r\\n'\n",
      "b' Parameters debug:\\t\\tparameters.out\\r\\n'\n",
      "b' Model debug:\\t\\t\\tmodel.debug\\r\\n'\n",
      "b' Model spec. file debug:\\t\\t__specFile.debug\\r\\n'\n",
      "b' Model informations: Logit Model\\r\\n'\n",
      "b' ==================\\r\\n'\n",
      "b' The minimum argument of exp was -15.5344\\r\\n'\n",
      "b'\\r\\n'\n",
      "b' Run time for estimation:      00:01\\r\\n'\n",
      "b' Total run time:               00:01\\r\\n'\n"
     ]
    }
   ],
   "source": [
    "p = subprocess.Popen(['C:/Program Files (x86)/biogeme-2.4/biogeme-2.4/biogeme.exe', model_name,model_data], shell=True, stdout=subprocess.PIPE, stderr=subprocess.STDOUT)\n",
    "for line in p.stdout.readlines():\n",
    "    print (line),\n",
    "retval = p.wait()"
   ]
  },
  {
   "cell_type": "code",
   "execution_count": 74,
   "metadata": {
    "collapsed": false
   },
   "outputs": [
    {
     "name": "stdout",
     "output_type": "stream",
     "text": [
      "Found it.\n",
      "Changed to 100.\n"
     ]
    }
   ],
   "source": [
    "with open(model_name+'_res.mod','wb') as simmod:\n",
    "    with open(model_name+'.res','rb') as res:\n",
    "        searchlines = res.readlines()\n",
    "        foundit = False\n",
    "        for i, line in enumerate(searchlines):\n",
    "            if foundit==False:\n",
    "                if b'[SampleEnum]' in line:\n",
    "                    print('Found it.')\n",
    "                    foundit = True\n",
    "                simmod.write(line)\n",
    "            else:\n",
    "                if line.decode(\"utf-8\").find('0\\r\\n')==0:\n",
    "                    print('Changed to 100.')\n",
    "                    simmod.write(b'100\\r\\n')\n",
    "                    foundit==False\n",
    "                else:\n",
    "                    simmod.write(line)"
   ]
  },
  {
   "cell_type": "code",
   "execution_count": 75,
   "metadata": {
    "collapsed": false
   },
   "outputs": [
    {
     "name": "stdout",
     "output_type": "stream",
     "text": [
      "b'~~~~~~~~~~~~~~~~~~~~~~~~~~~~~~~~~~~~~~~~~~~~~~~~~~~~~~\\r\\n'\n",
      "b'biogeme 2.4 [Sun Oct 25 23:01:47 WEST 2015]\\r\\n'\n",
      "b'Michel Bierlaire, EPFL\\r\\n'\n",
      "b'-- Compiled by biogeme@hotmail.com on MINGW32_NT-6.1\\r\\n'\n",
      "b'See http://biogeme.epfl.ch\\r\\n'\n",
      "b'                    !! CFSQP is available !!\\r\\n'\n",
      "b'~~~~~~~~~~~~~~~~~~~~~~~~~~~~~~~~~~~~~~~~~~~~~~~~~~~~~~\\r\\n'\n",
      "b'\\t\"In every non-trivial program there is at least one bug.\"\\r\\n'\n",
      "b'\\r\\n'\n",
      "b'\\r\\n'\n",
      "b'[11:59:00]patFileNames.cc:52  models/26jun_4modes_res.par does not exist\\r\\n'\n",
      "b'[11:59:00]patFileNames.cc:56  Trying default.par instead\\r\\n'\n",
      "b'[11:59:00]patBiogeme.cc:134  Read default.par\\r\\n'\n",
      "b'Warning:  Lower bound on mu set to 1e-005\\r\\n'\n",
      "b'Warning:   Value defined by gevMinimumMu in default.par\\r\\n'\n",
      "b' Opening file models-data/data_26jun.dat\\r\\n'\n",
      "b' Data  file... line 500\\tMemory: 74 Kb\\r\\n'\n",
      "b' Data  file... line 1000\\tMemory: 150 Kb\\r\\n'\n",
      "b' Data  file... line 1500\\tMemory: 225 Kb\\r\\n'\n",
      "b' Total obs.:   1595\\r\\n'\n",
      "b' Total memory: 240.023 Kb\\r\\n'\n",
      "b' 31%\\t[500/1596] Est. term. time: 06/27/16 11:59:00 (in 00:00)\\r\\n'\n",
      "b' 62%\\t[1000/1596] Est. term. time: 06/27/16 11:59:00 (in 00:00)\\r\\n'\n",
      "b' 93%\\t[1500/1596] Est. term. time: 06/27/16 11:59:00 (in 00:00)\\r\\n'\n",
      "b' BIOSIM Input file\\r\\n'\n",
      "b' =================\\r\\n'\n",
      "b' Model specification:\\tmodels/26jun_4modes_res.mod\\r\\n'\n",
      "b' BIOSIM Output file\\r\\n'\n",
      "b' ==================\\r\\n'\n",
      "b' Sample enumeration:\\tmodels/26jun_4modes_res.enu\\r\\n'\n"
     ]
    }
   ],
   "source": [
    "p = subprocess.Popen(['C:/Program Files (x86)/biogeme-2.4/biogeme-2.4/biosim.exe', model_name+'_res',model_data], shell=True, stdout=subprocess.PIPE, stderr=subprocess.STDOUT)\n",
    "for line in p.stdout.readlines():\n",
    "    print (line),\n",
    "retval = p.wait()"
   ]
  },
  {
   "cell_type": "code",
   "execution_count": 77,
   "metadata": {
    "collapsed": false
   },
   "outputs": [
    {
     "data": {
      "text/html": [
       "<div>\n",
       "<table border=\"1\" class=\"dataframe\">\n",
       "  <thead>\n",
       "    <tr style=\"text-align: right;\">\n",
       "      <th></th>\n",
       "      <th>Choice_Id</th>\n",
       "      <th>P_choice</th>\n",
       "      <th>V_A1_TAXI</th>\n",
       "      <th>V_A2_TRANSIT</th>\n",
       "      <th>V_A3_OTHER</th>\n",
       "      <th>V_A4_FREE</th>\n",
       "      <th>P_A1_TAXI</th>\n",
       "      <th>Residual_A1_TAXI</th>\n",
       "      <th>P_A2_TRANSIT</th>\n",
       "      <th>Residual_A2_TRANSIT</th>\n",
       "      <th>...</th>\n",
       "      <th>Simul91</th>\n",
       "      <th>Simul92</th>\n",
       "      <th>Simul93</th>\n",
       "      <th>Simul94</th>\n",
       "      <th>Simul95</th>\n",
       "      <th>Simul96</th>\n",
       "      <th>Simul97</th>\n",
       "      <th>Simul98</th>\n",
       "      <th>Simul99</th>\n",
       "      <th>Simul100</th>\n",
       "    </tr>\n",
       "  </thead>\n",
       "  <tbody>\n",
       "    <tr>\n",
       "      <th>0</th>\n",
       "      <td>1</td>\n",
       "      <td>0.542337</td>\n",
       "      <td>0.875659</td>\n",
       "      <td>-0.065145</td>\n",
       "      <td>0.085024</td>\n",
       "      <td>-9999.99</td>\n",
       "      <td>0.542337</td>\n",
       "      <td>0.457663</td>\n",
       "      <td>0.211682</td>\n",
       "      <td>-0.211682</td>\n",
       "      <td>...</td>\n",
       "      <td>2</td>\n",
       "      <td>2</td>\n",
       "      <td>1</td>\n",
       "      <td>3</td>\n",
       "      <td>1</td>\n",
       "      <td>1</td>\n",
       "      <td>2</td>\n",
       "      <td>1</td>\n",
       "      <td>3</td>\n",
       "      <td>1</td>\n",
       "    </tr>\n",
       "    <tr>\n",
       "      <th>1</th>\n",
       "      <td>1</td>\n",
       "      <td>0.542337</td>\n",
       "      <td>0.875659</td>\n",
       "      <td>-0.065145</td>\n",
       "      <td>0.085024</td>\n",
       "      <td>-9999.99</td>\n",
       "      <td>0.542337</td>\n",
       "      <td>0.457663</td>\n",
       "      <td>0.211682</td>\n",
       "      <td>-0.211682</td>\n",
       "      <td>...</td>\n",
       "      <td>1</td>\n",
       "      <td>1</td>\n",
       "      <td>1</td>\n",
       "      <td>1</td>\n",
       "      <td>1</td>\n",
       "      <td>1</td>\n",
       "      <td>1</td>\n",
       "      <td>1</td>\n",
       "      <td>3</td>\n",
       "      <td>3</td>\n",
       "    </tr>\n",
       "    <tr>\n",
       "      <th>2</th>\n",
       "      <td>1</td>\n",
       "      <td>0.542337</td>\n",
       "      <td>0.875659</td>\n",
       "      <td>-0.065145</td>\n",
       "      <td>0.085024</td>\n",
       "      <td>-9999.99</td>\n",
       "      <td>0.542337</td>\n",
       "      <td>0.457663</td>\n",
       "      <td>0.211682</td>\n",
       "      <td>-0.211682</td>\n",
       "      <td>...</td>\n",
       "      <td>3</td>\n",
       "      <td>3</td>\n",
       "      <td>1</td>\n",
       "      <td>2</td>\n",
       "      <td>1</td>\n",
       "      <td>2</td>\n",
       "      <td>3</td>\n",
       "      <td>1</td>\n",
       "      <td>3</td>\n",
       "      <td>1</td>\n",
       "    </tr>\n",
       "    <tr>\n",
       "      <th>3</th>\n",
       "      <td>1</td>\n",
       "      <td>0.542337</td>\n",
       "      <td>0.875659</td>\n",
       "      <td>-0.065145</td>\n",
       "      <td>0.085024</td>\n",
       "      <td>-9999.99</td>\n",
       "      <td>0.542337</td>\n",
       "      <td>0.457663</td>\n",
       "      <td>0.211682</td>\n",
       "      <td>-0.211682</td>\n",
       "      <td>...</td>\n",
       "      <td>1</td>\n",
       "      <td>1</td>\n",
       "      <td>2</td>\n",
       "      <td>1</td>\n",
       "      <td>2</td>\n",
       "      <td>2</td>\n",
       "      <td>3</td>\n",
       "      <td>2</td>\n",
       "      <td>2</td>\n",
       "      <td>3</td>\n",
       "    </tr>\n",
       "    <tr>\n",
       "      <th>4</th>\n",
       "      <td>1</td>\n",
       "      <td>0.542337</td>\n",
       "      <td>0.875659</td>\n",
       "      <td>-0.065145</td>\n",
       "      <td>0.085024</td>\n",
       "      <td>-9999.99</td>\n",
       "      <td>0.542337</td>\n",
       "      <td>0.457663</td>\n",
       "      <td>0.211682</td>\n",
       "      <td>-0.211682</td>\n",
       "      <td>...</td>\n",
       "      <td>2</td>\n",
       "      <td>2</td>\n",
       "      <td>1</td>\n",
       "      <td>2</td>\n",
       "      <td>1</td>\n",
       "      <td>1</td>\n",
       "      <td>1</td>\n",
       "      <td>1</td>\n",
       "      <td>2</td>\n",
       "      <td>1</td>\n",
       "    </tr>\n",
       "  </tbody>\n",
       "</table>\n",
       "<p>5 rows × 115 columns</p>\n",
       "</div>"
      ],
      "text/plain": [
       "   Choice_Id  P_choice  V_A1_TAXI  V_A2_TRANSIT  V_A3_OTHER  V_A4_FREE  \\\n",
       "0          1  0.542337   0.875659     -0.065145    0.085024   -9999.99   \n",
       "1          1  0.542337   0.875659     -0.065145    0.085024   -9999.99   \n",
       "2          1  0.542337   0.875659     -0.065145    0.085024   -9999.99   \n",
       "3          1  0.542337   0.875659     -0.065145    0.085024   -9999.99   \n",
       "4          1  0.542337   0.875659     -0.065145    0.085024   -9999.99   \n",
       "\n",
       "   P_A1_TAXI  Residual_A1_TAXI  P_A2_TRANSIT  Residual_A2_TRANSIT    ...     \\\n",
       "0   0.542337          0.457663      0.211682            -0.211682    ...      \n",
       "1   0.542337          0.457663      0.211682            -0.211682    ...      \n",
       "2   0.542337          0.457663      0.211682            -0.211682    ...      \n",
       "3   0.542337          0.457663      0.211682            -0.211682    ...      \n",
       "4   0.542337          0.457663      0.211682            -0.211682    ...      \n",
       "\n",
       "   Simul91  Simul92  Simul93  Simul94  Simul95  Simul96  Simul97  Simul98  \\\n",
       "0        2        2        1        3        1        1        2        1   \n",
       "1        1        1        1        1        1        1        1        1   \n",
       "2        3        3        1        2        1        2        3        1   \n",
       "3        1        1        2        1        2        2        3        2   \n",
       "4        2        2        1        2        1        1        1        1   \n",
       "\n",
       "   Simul99  Simul100  \n",
       "0        3         1  \n",
       "1        3         3  \n",
       "2        3         1  \n",
       "3        2         3  \n",
       "4        2         1  \n",
       "\n",
       "[5 rows x 115 columns]"
      ]
     },
     "execution_count": 77,
     "metadata": {},
     "output_type": "execute_result"
    }
   ],
   "source": [
    "simres = pd.read_csv(model_name+'_res.enu',sep='\\t')\n",
    "simres.head()"
   ]
  },
  {
   "cell_type": "code",
   "execution_count": 92,
   "metadata": {
    "collapsed": true
   },
   "outputs": [],
   "source": [
    "simul_start = list(simres.columns).index('Simul1')\n",
    "def count_correct(row):\n",
    "    return list(row[simul_start:]).count(row.Choice_Id)"
   ]
  },
  {
   "cell_type": "code",
   "execution_count": 99,
   "metadata": {
    "collapsed": false
   },
   "outputs": [],
   "source": [
    "simres['Accuracy'] = simres.apply(count_correct,axis=1)"
   ]
  },
  {
   "cell_type": "code",
   "execution_count": 100,
   "metadata": {
    "collapsed": false
   },
   "outputs": [
    {
     "data": {
      "text/plain": [
       "Choice_Id\n",
       "1    53.010435\n",
       "2    21.722222\n",
       "3    25.910394\n",
       "4    99.996063\n",
       "Name: Accuracy, dtype: float64"
      ]
     },
     "execution_count": 100,
     "metadata": {},
     "output_type": "execute_result"
    }
   ],
   "source": [
    "simres.groupby('Choice_Id')['Accuracy'].mean()"
   ]
  },
  {
   "cell_type": "code",
   "execution_count": null,
   "metadata": {
    "collapsed": true
   },
   "outputs": [],
   "source": []
  }
 ],
 "metadata": {
  "kernelspec": {
   "display_name": "Python 3",
   "language": "python",
   "name": "python3"
  },
  "language_info": {
   "codemirror_mode": {
    "name": "ipython",
    "version": 3
   },
   "file_extension": ".py",
   "mimetype": "text/x-python",
   "name": "python",
   "nbconvert_exporter": "python",
   "pygments_lexer": "ipython3",
   "version": "3.4.4"
  }
 },
 "nbformat": 4,
 "nbformat_minor": 0
}
