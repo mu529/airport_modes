{
 "cells": [
  {
   "cell_type": "code",
   "execution_count": 1,
   "metadata": {
    "collapsed": true
   },
   "outputs": [],
   "source": [
    "import pandas as pd\n",
    "import numpy as np\n",
    "import geopandas as gpd\n",
    "from geopandas import GeoDataFrame, read_file\n",
    "# from geopandas.tools import sjoin\n",
    "from shapely.geometry import Point, mapping,shape\n",
    "import time\n",
    "from shapely import prepared\n",
    "import json"
   ]
  },
  {
   "cell_type": "code",
   "execution_count": 2,
   "metadata": {
    "collapsed": true
   },
   "outputs": [],
   "source": [
    "def extract_zone(df,d,box_points):\n",
    "    # d is either 'dropoff' or 'pickup'\n",
    "    # box_points is a 2x2 array-like containing the lon-lat of the NW corner followed by the lon-lat of the SE corner\n",
    "    # box is inclusive of western and northern edge, exclusive of southern and eastern edge\n",
    "    x1 = str(box_points[0][0])\n",
    "    y1 = str(box_points[0][1])\n",
    "    x2 = str(box_points[1][0])\n",
    "    y2 = str(box_points[1][1])\n",
    "    qstr = '%s_longitude >= %s & %s_longitude < %s & %s_latitude <= %s & %s_latitude > %s' % (d,x1,d,x2,d,y1,d,y2)\n",
    "    return df.query(qstr)"
   ]
  },
  {
   "cell_type": "code",
   "execution_count": 3,
   "metadata": {
    "collapsed": true
   },
   "outputs": [],
   "source": [
    "def intersect_zips(df,d,zgdf):\n",
    "    # d is either 'dropoff' or 'pickup'\n",
    "    # zip_gdf is a geodataframe with geometry of zip codes\n",
    "    index_ = df.index\n",
    "    df.reset_index(drop=True,inplace=True)\n",
    "    df['zipcode'] = ''\n",
    "    xc = df['%s_longitude' %d]\n",
    "    yc = df['%s_latitude' %d]\n",
    "    pts = gpd.GeoSeries([Point(x, y) for x, y in zip(xc, yc)])\n",
    "    zip_bins = {}\n",
    "    for i in zgdf.index:\n",
    "        zip_bins[zgdf.loc[i].ZIPCODE] = pts.loc[pts.intersects(zgdf.loc[i].geometry)]\n",
    "    for k, v in zip_bins.iteritems():\n",
    "        df.loc[v.index,'zipcode'] = k\n",
    "    zip_centroids = {}\n",
    "    for i in zgdf.index:\n",
    "        zip_centroids[zgdf.loc[i].ZIPCODE] = (yc.iloc[zip_bins[zgdf.loc[i].ZIPCODE].index].mean(),\n",
    "                                              xc.iloc[zip_bins[zgdf.loc[i].ZIPCODE].index].mean())\n",
    "    df.index = index_\n",
    "    return df, zip_centroids"
   ]
  },
  {
   "cell_type": "code",
   "execution_count": 4,
   "metadata": {
    "collapsed": false
   },
   "outputs": [],
   "source": [
    "zipcodes = gpd.GeoDataFrame.from_file('data/ZIP_CODE_040114/ZIP_CODE_040114.shp')\n",
    "zipcodes = zipcodes.to_crs(epsg=4269)\n",
    "zipcodes = zipcodes[['ZIPCODE','geometry']]\n",
    "zipcodes.ZIPCODE = zipcodes.ZIPCODE.astype(int)"
   ]
  },
  {
   "cell_type": "code",
   "execution_count": 6,
   "metadata": {
    "collapsed": true
   },
   "outputs": [],
   "source": [
    "tlc_data = pd.read_csv('data/yellow_tripdata_2015-10.csv')"
   ]
  },
  {
   "cell_type": "code",
   "execution_count": 11,
   "metadata": {
    "collapsed": true
   },
   "outputs": [],
   "source": [
    "a = [[-73.887972,40.777185],[-73.883264,40.767971]]\n",
    "b = [[-73.883264,40.778892],[-73.868364,40.770733]]\n",
    "cd = [[-73.868364,40.778892],[73.858000,40.765835]]"
   ]
  },
  {
   "cell_type": "code",
   "execution_count": 12,
   "metadata": {
    "collapsed": false
   },
   "outputs": [
    {
     "name": "stderr",
     "output_type": "stream",
     "text": [
      "C:\\Anaconda3\\envs\\py27\\lib\\site-packages\\ipykernel\\__main__.py:2: SettingWithCopyWarning: \n",
      "A value is trying to be set on a copy of a slice from a DataFrame.\n",
      "Try using .loc[row_indexer,col_indexer] = value instead\n",
      "\n",
      "See the caveats in the documentation: http://pandas.pydata.org/pandas-docs/stable/indexing.html#indexing-view-versus-copy\n",
      "  from ipykernel import kernelapp as app\n",
      "C:\\Anaconda3\\envs\\py27\\lib\\site-packages\\ipykernel\\__main__.py:4: SettingWithCopyWarning: \n",
      "A value is trying to be set on a copy of a slice from a DataFrame.\n",
      "Try using .loc[row_indexer,col_indexer] = value instead\n",
      "\n",
      "See the caveats in the documentation: http://pandas.pydata.org/pandas-docs/stable/indexing.html#indexing-view-versus-copy\n",
      "C:\\Anaconda3\\envs\\py27\\lib\\site-packages\\ipykernel\\__main__.py:6: SettingWithCopyWarning: \n",
      "A value is trying to be set on a copy of a slice from a DataFrame.\n",
      "Try using .loc[row_indexer,col_indexer] = value instead\n",
      "\n",
      "See the caveats in the documentation: http://pandas.pydata.org/pandas-docs/stable/indexing.html#indexing-view-versus-copy\n",
      "C:\\Anaconda3\\envs\\py27\\lib\\site-packages\\ipykernel\\__main__.py:10: SettingWithCopyWarning: \n",
      "A value is trying to be set on a copy of a slice from a DataFrame.\n",
      "Try using .loc[row_indexer,col_indexer] = value instead\n",
      "\n",
      "See the caveats in the documentation: http://pandas.pydata.org/pandas-docs/stable/indexing.html#indexing-view-versus-copy\n",
      "C:\\Anaconda3\\envs\\py27\\lib\\site-packages\\ipykernel\\__main__.py:12: SettingWithCopyWarning: \n",
      "A value is trying to be set on a copy of a slice from a DataFrame.\n",
      "Try using .loc[row_indexer,col_indexer] = value instead\n",
      "\n",
      "See the caveats in the documentation: http://pandas.pydata.org/pandas-docs/stable/indexing.html#indexing-view-versus-copy\n",
      "C:\\Anaconda3\\envs\\py27\\lib\\site-packages\\ipykernel\\__main__.py:14: SettingWithCopyWarning: \n",
      "A value is trying to be set on a copy of a slice from a DataFrame.\n",
      "Try using .loc[row_indexer,col_indexer] = value instead\n",
      "\n",
      "See the caveats in the documentation: http://pandas.pydata.org/pandas-docs/stable/indexing.html#indexing-view-versus-copy\n"
     ]
    }
   ],
   "source": [
    "a_data = extract_zone(tlc_data,'pickup',a)\n",
    "a_data['terminal'] = 'A'\n",
    "b_data = extract_zone(tlc_data,'pickup',b)\n",
    "b_data['terminal'] = 'B'\n",
    "cd_data = extract_zone(tlc_data,'pickup',cd)\n",
    "cd_data['terminal'] = 'C_and_D'\n",
    "lga_pickups = pd.concat([a_data,b_data,cd_data])\n",
    "\n",
    "a_data = extract_zone(tlc_data,'dropoff',a)\n",
    "a_data['terminal'] = 'A'\n",
    "b_data = extract_zone(tlc_data,'dropoff',b)\n",
    "b_data['terminal'] = 'B'\n",
    "cd_data = extract_zone(tlc_data,'dropoff',cd)\n",
    "cd_data['terminal'] = 'C_and_D'\n",
    "lga_dropoffs = pd.concat([a_data,b_data,cd_data])\n",
    "\n",
    "del a_data\n",
    "del b_data\n",
    "del cd_data\n",
    "del tlc_data"
   ]
  },
  {
   "cell_type": "code",
   "execution_count": 13,
   "metadata": {
    "collapsed": false
   },
   "outputs": [],
   "source": [
    "lga_pickups, zip_centroids = intersect_zips(lga_pickups,'dropoff',zipcodes)"
   ]
  },
  {
   "cell_type": "code",
   "execution_count": 19,
   "metadata": {
    "collapsed": false
   },
   "outputs": [],
   "source": [
    "lga_pickups.reset_index(drop=True,inplace=True)\n",
    "lga_pickups['duration'] = np.divide(pd.to_datetime(lga_pickups['tpep_dropoff_datetime']) - pd.to_datetime(lga_pickups['tpep_pickup_datetime']),np.timedelta64(1,'s'))\n",
    "lga_pickups['total_ex_tip'] = lga_pickups['total_amount'] - lga_pickups['tip_amount']\n",
    "lga_pickups_summary = lga_pickups.groupby(['terminal','zipcode'])[['passenger_count','trip_distance','duration','total_ex_tip']].mean()\n",
    "lga_pickups_summary['N'] = lga_pickups.groupby(['terminal','zipcode']).size()"
   ]
  },
  {
   "cell_type": "code",
   "execution_count": 21,
   "metadata": {
    "collapsed": true
   },
   "outputs": [],
   "source": [
    "lga_dropoffs, zip_centroids = intersect_zips(lga_dropoffs,'pickup',zipcodes)"
   ]
  },
  {
   "cell_type": "code",
   "execution_count": 22,
   "metadata": {
    "collapsed": true
   },
   "outputs": [],
   "source": [
    "lga_dropoffs.reset_index(drop=True,inplace=True)\n",
    "lga_dropoffs['duration'] = np.divide(pd.to_datetime(lga_dropoffs['tpep_dropoff_datetime']) - pd.to_datetime(lga_dropoffs['tpep_pickup_datetime']),np.timedelta64(1,'s'))\n",
    "lga_dropoffs['total_ex_tip'] = lga_dropoffs['total_amount'] - lga_dropoffs['tip_amount']\n",
    "lga_dropoffs_summary = lga_dropoffs.groupby(['terminal','zipcode'])[['passenger_count','trip_distance','duration','total_ex_tip']].mean()\n",
    "lga_dropoffs_summary['N'] = lga_dropoffs.groupby(['terminal','zipcode']).size()"
   ]
  },
  {
   "cell_type": "code",
   "execution_count": 23,
   "metadata": {
    "collapsed": false
   },
   "outputs": [],
   "source": [
    "lga_pickups_summary.to_csv('data-outputs/lga_pickups_summary.csv')\n",
    "lga_dropoffs_summary.to_csv('data-outputs/lga_dropoffs_summary.csv')"
   ]
  },
  {
   "cell_type": "code",
   "execution_count": null,
   "metadata": {
    "collapsed": true
   },
   "outputs": [],
   "source": []
  }
 ],
 "metadata": {
  "kernelspec": {
   "display_name": "Python 2",
   "language": "python",
   "name": "python2"
  },
  "language_info": {
   "codemirror_mode": {
    "name": "ipython",
    "version": 2
   },
   "file_extension": ".py",
   "mimetype": "text/x-python",
   "name": "python",
   "nbconvert_exporter": "python",
   "pygments_lexer": "ipython2",
   "version": "2.7.11"
  }
 },
 "nbformat": 4,
 "nbformat_minor": 0
}
