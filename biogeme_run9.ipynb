{
 "cells": [
  {
   "cell_type": "code",
   "execution_count": 1,
   "metadata": {
    "collapsed": true
   },
   "outputs": [],
   "source": [
    "import subprocess\n",
    "import pandas as pd"
   ]
  },
  {
   "cell_type": "code",
   "execution_count": 3,
   "metadata": {
    "collapsed": true
   },
   "outputs": [],
   "source": [
    "model_name = 'models/08jul_nested3'\n",
    "model_data = 'models-data/data_30junB.dat'"
   ]
  },
  {
   "cell_type": "code",
   "execution_count": 5,
   "metadata": {
    "collapsed": false,
    "scrolled": false
   },
   "outputs": [
    {
     "name": "stdout",
     "output_type": "stream",
     "text": [
      "~~~~~~~~~~~~~~~~~~~~~~~~~~~~~~~~~~~~~~~~~~~~~~~~~~~~~~\r\n",
      "biogeme 2.4 [Sun Oct 25 23:01:47 WEST 2015]\r\n",
      "Michel Bierlaire, EPFL\r\n",
      "-- Compiled by biogeme@hotmail.com on MINGW32_NT-6.1\r\n",
      "See http://biogeme.epfl.ch\r\n",
      "                    !! CFSQP is available !!\r\n",
      "~~~~~~~~~~~~~~~~~~~~~~~~~~~~~~~~~~~~~~~~~~~~~~~~~~~~~~\r\n",
      "\t\"In every non-trivial program there is at least one bug.\"\r\n",
      "\r\n",
      "\r\n",
      "[13:51:17]patFileNames.cc:52  models/08jul_nested3.par does not exist\r\n",
      "[13:51:17]patFileNames.cc:56  Trying default.par instead\r\n",
      "[13:51:17]patBiogeme.cc:134  Read default.par\r\n",
      " Opening file models-data/data_30junB.dat\r\n",
      " Data  file... line 500\tMemory: 67 Kb\r\n",
      " Total obs.:   837\r\n",
      " Total memory: 112.934 Kb\r\n",
      " Run time for data processing: 00:01\r\n",
      " Init loglike=-985.941\r\n",
      "     gmax Iter   radius        f(x)     Status       rhok nFree\r\n",
      " +1.01e+000    1 1.00e+000 +9.8594093e+002 ****Converg  +1.40e+000 8  ++ P\r\n",
      " +1.01e+000    2 2.00e+000 +8.3073510e+002 ****Converg  +1.24e+000 8  ++ P\r\n",
      " +1.01e+000    3 4.00e+000 +6.6798918e+002 ****Converg  +1.36e-001 8  +  P\r\n",
      " +1.01e+000    4 4.00e+000 +6.5455495e+002 ****Converg  +1.06e+000 8  ++ P\r\n",
      " +1.01e+000    5 8.00e+000 +6.1628707e+002 ****Converg  +1.36e+000 8  ++ P\r\n",
      " +1.01e+000    6 1.60e+001 +6.0544497e+002 ****Converg  +1.54e+000 8  ++ P\r\n",
      " +7.33e-001    7 3.20e+001 +6.0496288e+002 ****Converg  +1.25e+000 8  ++ P\r\n",
      " +2.13e-001    8 6.40e+001 +6.0108079e+002 ****OutTrReg -3.80e-002 8  -  P\r\n",
      " +2.13e-001    9 9.47e+000 +6.0108079e+002 ****OutTrReg +2.24e-002 8  +  P\r\n",
      " +5.46e-001   10 9.47e+000 +6.0002593e+002 ****OutTrReg +1.18e+000 8  ++ P\r\n",
      " +5.48e-001   11 1.89e+001 +5.9523452e+002 ****OutTrReg -7.35e-321 8  -  P\r\n",
      " +5.48e-001   12 1.89e+001 +5.9523452e+002 ****OutTrReg +9.90e-001 8  ++\r\n",
      " +1.85e-001   13 3.79e+001 +5.9494444e+002 ****Converg  +9.64e-001 7  ++\r\n",
      " +2.83e-002   14 7.58e+001 +5.9471172e+002 ****Converg  +1.05e+000 7  ++\r\n",
      " +2.87e-001   15 1.52e+002 +5.9369965e+002 ****Converg  +1.36e+000 7  ++\r\n",
      " +8.35e-002   16 3.03e+002 +5.9360968e+002 ****Converg  +1.06e+000 7  ++\r\n",
      " +4.46e-003   17 6.06e+002 +5.9359513e+002 ****Converg  +1.03e+000 7  ++\r\n",
      " +4.30e-003   18 1.21e+003 +5.9351410e+002 ****Converg  +8.62e-001 7  + \r\n",
      " +2.53e-003   19 1.21e+003 +5.9351395e+002 ****Converg  +1.11e+000 7  ++\r\n",
      " +6.51e-003   20 2.42e+003 +5.9350092e+002 ****Converg  +7.72e-001 7  + \r\n",
      " +1.84e-003   21 2.42e+003 +5.9350086e+002 ****Converg  +9.33e-001 7  ++\r\n",
      " +3.56e-004   22 4.85e+003 +5.9350084e+002 ****Converg  +1.00e+000 7  ++\r\n",
      " +1.03e-003   23 9.70e+003 +5.9349823e+002 ****Converg  +8.82e-001 7  + \r\n",
      " +1.59e-004   24 9.70e+003 +5.9349822e+002 ****Converg  +7.77e-001 7  + \r\n",
      " +5.62e-005   25 9.70e+003 +5.9349822e+002 ****Converg  +7.51e-001 7  + \r\n",
      " +1.47e-005   26 9.70e+003 +5.9349822e+002 ****Converg  +1.09e+000 7  ++\r\n",
      " +3.52e-005   27 1.94e+004 +5.9349822e+002 ****Converg  +7.67e-001 7  + \r\n",
      " +1.16e-005   28 1.94e+004 +5.9349822e+002 ****Converg  +9.40e-001 7  ++\r\n",
      " +9.38e-006   29 3.88e+004 +5.9349822e+002 ****OutTrReg +1.01e-003 7  - \r\n",
      " +9.38e-006   30 4.94e+002 +5.9349822e+002 ****OutTrReg +2.02e-003 7  - \r\n",
      " +9.38e-006   31 2.47e+002 +5.9349822e+002 ****OutTrReg +4.05e-003 7  - \r\n",
      " +9.38e-006   32 1.23e+002 +5.9349822e+002 ****OutTrReg +8.10e-003 7  - \r\n",
      " +9.38e-006   33 6.17e+001 +5.9349822e+002 ****OutTrReg +1.62e-002 7  + \r\n",
      " +6.86e-004   34 6.17e+001 +5.9349749e+002 ****Converg  +9.04e-001 7  ++\r\n",
      " +1.43e-004   35 1.23e+002 +5.9349749e+002 ****Converg  +8.74e-001 8  + \r\n",
      " +1.75e-005   36 1.23e+002 +5.9349749e+002 ****Converg  +1.08e+000 8  ++\r\n",
      " +2.01e-005   37 2.47e+002 +5.9349749e+002 ****Converg  +7.54e-001 8  + \r\n",
      "\r\n",
      " Convergence reached...\r\n",
      "--> time interval [13:51:18,13:51:18]\r\n",
      " Run time: 00:00\r\n",
      " Final log likelihood=-593.497\r\n",
      " Be patient... BIOGEME is preparing the output files\r\n",
      " Compute hessian by finite difference\r\n",
      " You can interrupt it by creating a file named STOP\r\n",
      " 0%\t[1/8] Est. term. time: 07/08/16 13:51:18 (in 00:00)\r\n",
      " 10%\t[2/8] Est. term. time: 07/08/16 13:51:18 (in 00:00)\r\n",
      " 20%\t[3/8] Est. term. time: 07/08/16 13:51:18 (in 00:00)\r\n",
      " 30%\t[4/8] Est. term. time: 07/08/16 13:51:18 (in 00:00)\r\n",
      " 40%\t[5/8] Est. term. time: 07/08/16 13:51:18 (in 00:00)\r\n",
      " 50%\t[6/8] Est. term. time: 07/08/16 13:51:18 (in 00:00)\r\n",
      " 60%\t[7/8] Est. term. time: 07/08/16 13:51:18 (in 00:00)\r\n",
      "--> time interval [13:51:18,13:51:18]\r\n",
      " Run time for var/covar computation: 00:00\r\n",
      " BIOGEME Input files\r\n",
      " ===================\r\n",
      " Parameters:\t\t\tdefault.par\r\n",
      " Model specification:\t\tmodels/08jul_nested3.mod\r\n",
      " Sample 1 :\t\t\t\tmodels-data/data_30junB.dat\r\n",
      " BIOGEME Output files\r\n",
      " ====================\r\n",
      " Estimation results:\t\tmodels/08jul_nested3.rep\r\n",
      " Estimation results (HTML):\tmodels/08jul_nested3.html\r\n",
      " Estimation results (Latex):\tmodels/08jul_nested3.tex\r\n",
      " Estimation results (ALogit):\tmodels/08jul_nested3.F12\r\n",
      " Result model spec. file:\tmodels/08jul_nested3.res\r\n",
      " Sample statistics:\t\tmodels/08jul_nested3.sta\r\n",
      " BIOGEME Debug files\r\n",
      " ===================\r\n",
      " Log file:\t\t\tmodels/08jul_nested3.log\r\n",
      " Parameters debug:\t\tparameters.out\r\n",
      " Model debug:\t\t\tmodel.debug\r\n",
      " Model spec. file debug:\t\t__specFile.debug\r\n",
      " Model informations: Nested Logit Model\r\n",
      " ==================\r\n",
      " The minimum argument of exp was -1002.54\r\n",
      "Underflows: 681\r\n",
      "\r\n",
      " Run time for estimation:      00:00\r\n",
      " Total run time:               00:01\r\n"
     ]
    }
   ],
   "source": [
    "p = subprocess.Popen(['C:/Program Files (x86)/biogeme-2.4/biogeme-2.4/biogeme.exe', model_name,model_data], shell=True, stdout=subprocess.PIPE, stderr=subprocess.STDOUT)\n",
    "for line in p.stdout.readlines():\n",
    "    print (line),\n",
    "retval = p.wait()"
   ]
  },
  {
   "cell_type": "code",
   "execution_count": 6,
   "metadata": {
    "collapsed": false
   },
   "outputs": [
    {
     "name": "stdout",
     "output_type": "stream",
     "text": [
      "Found it.\n",
      "Changed to 100.\n"
     ]
    }
   ],
   "source": [
    "with open(model_name+'_res.mod','wb') as simmod:\n",
    "    with open(model_name+'.res','rb') as res:\n",
    "        searchlines = res.readlines()\n",
    "        foundit = False\n",
    "        for i, line in enumerate(searchlines):\n",
    "            if foundit==False:\n",
    "                if b'[SampleEnum]' in line:\n",
    "                    print('Found it.')\n",
    "                    foundit = True\n",
    "                simmod.write(line)\n",
    "            else:\n",
    "                if line.decode(\"utf-8\").find('0\\r\\n')==0:\n",
    "                    print('Changed to 100.')\n",
    "                    simmod.write(b'100\\r\\n')\n",
    "                    foundit==False\n",
    "                else:\n",
    "                    simmod.write(line)"
   ]
  },
  {
   "cell_type": "code",
   "execution_count": 7,
   "metadata": {
    "collapsed": false
   },
   "outputs": [
    {
     "name": "stdout",
     "output_type": "stream",
     "text": [
      "~~~~~~~~~~~~~~~~~~~~~~~~~~~~~~~~~~~~~~~~~~~~~~~~~~~~~~\r\n",
      "biogeme 2.4 [Sun Oct 25 23:01:47 WEST 2015]\r\n",
      "Michel Bierlaire, EPFL\r\n",
      "-- Compiled by biogeme@hotmail.com on MINGW32_NT-6.1\r\n",
      "See http://biogeme.epfl.ch\r\n",
      "                    !! CFSQP is available !!\r\n",
      "~~~~~~~~~~~~~~~~~~~~~~~~~~~~~~~~~~~~~~~~~~~~~~~~~~~~~~\r\n",
      "\t\"In every non-trivial program there is at least one bug.\"\r\n",
      "\r\n",
      "\r\n",
      "[13:53:59]patFileNames.cc:52  models/08jul_nested3_res.par does not exist\r\n",
      "[13:53:59]patFileNames.cc:56  Trying default.par instead\r\n",
      "[13:53:59]patBiogeme.cc:134  Read default.par\r\n",
      "Warning:  Lower bound on mu set to 1e-005\r\n",
      "Warning:   Value defined by gevMinimumMu in default.par\r\n",
      " Opening file models-data/data_30junB.dat\r\n",
      " Data  file... line 500\tMemory: 67 Kb\r\n",
      " Total obs.:   837\r\n",
      " Total memory: 112.934 Kb\r\n",
      " 59%\t[500/838] Est. term. time: 07/08/16 13:53:59 (in 00:00)\r\n",
      " BIOSIM Input file\r\n",
      " =================\r\n",
      " Model specification:\tmodels/08jul_nested3_res.mod\r\n",
      " BIOSIM Output file\r\n",
      " ==================\r\n",
      " Sample enumeration:\tmodels/08jul_nested3_res.enu\r\n"
     ]
    }
   ],
   "source": [
    "p = subprocess.Popen(['C:/Program Files (x86)/biogeme-2.4/biogeme-2.4/biosim.exe', model_name+'_res',model_data], shell=True, stdout=subprocess.PIPE, stderr=subprocess.STDOUT)\n",
    "for line in p.stdout.readlines():\n",
    "    print (line),\n",
    "retval = p.wait()"
   ]
  },
  {
   "cell_type": "code",
   "execution_count": 8,
   "metadata": {
    "collapsed": false
   },
   "outputs": [
    {
     "data": {
      "text/html": [
       "<div>\n",
       "<table border=\"1\" class=\"dataframe\">\n",
       "  <thead>\n",
       "    <tr style=\"text-align: right;\">\n",
       "      <th></th>\n",
       "      <th>Choice_Id</th>\n",
       "      <th>P_choice</th>\n",
       "      <th>V_A1_TAXI</th>\n",
       "      <th>V_A2_TRANSIT</th>\n",
       "      <th>V_A3_OTHER</th>\n",
       "      <th>V_A4_FREE</th>\n",
       "      <th>P_A1_TAXI</th>\n",
       "      <th>Residual_A1_TAXI</th>\n",
       "      <th>P_A2_TRANSIT</th>\n",
       "      <th>Residual_A2_TRANSIT</th>\n",
       "      <th>...</th>\n",
       "      <th>Simul91</th>\n",
       "      <th>Simul92</th>\n",
       "      <th>Simul93</th>\n",
       "      <th>Simul94</th>\n",
       "      <th>Simul95</th>\n",
       "      <th>Simul96</th>\n",
       "      <th>Simul97</th>\n",
       "      <th>Simul98</th>\n",
       "      <th>Simul99</th>\n",
       "      <th>Simul100</th>\n",
       "    </tr>\n",
       "  </thead>\n",
       "  <tbody>\n",
       "    <tr>\n",
       "      <th>0</th>\n",
       "      <td>1</td>\n",
       "      <td>0.597917</td>\n",
       "      <td>-0.844582</td>\n",
       "      <td>-1.868796</td>\n",
       "      <td>-2.004591</td>\n",
       "      <td>-9999.99</td>\n",
       "      <td>0.597917</td>\n",
       "      <td>0.402083</td>\n",
       "      <td>0.214673</td>\n",
       "      <td>-0.214673</td>\n",
       "      <td>...</td>\n",
       "      <td>2</td>\n",
       "      <td>2</td>\n",
       "      <td>1</td>\n",
       "      <td>2</td>\n",
       "      <td>1</td>\n",
       "      <td>1</td>\n",
       "      <td>2</td>\n",
       "      <td>1</td>\n",
       "      <td>2</td>\n",
       "      <td>1</td>\n",
       "    </tr>\n",
       "    <tr>\n",
       "      <th>1</th>\n",
       "      <td>1</td>\n",
       "      <td>0.597917</td>\n",
       "      <td>-0.844582</td>\n",
       "      <td>-1.868796</td>\n",
       "      <td>-2.004591</td>\n",
       "      <td>-9999.99</td>\n",
       "      <td>0.597917</td>\n",
       "      <td>0.402083</td>\n",
       "      <td>0.214673</td>\n",
       "      <td>-0.214673</td>\n",
       "      <td>...</td>\n",
       "      <td>1</td>\n",
       "      <td>1</td>\n",
       "      <td>1</td>\n",
       "      <td>1</td>\n",
       "      <td>1</td>\n",
       "      <td>1</td>\n",
       "      <td>1</td>\n",
       "      <td>1</td>\n",
       "      <td>3</td>\n",
       "      <td>2</td>\n",
       "    </tr>\n",
       "    <tr>\n",
       "      <th>2</th>\n",
       "      <td>1</td>\n",
       "      <td>0.597917</td>\n",
       "      <td>-0.844582</td>\n",
       "      <td>-1.868796</td>\n",
       "      <td>-2.004591</td>\n",
       "      <td>-9999.99</td>\n",
       "      <td>0.597917</td>\n",
       "      <td>0.402083</td>\n",
       "      <td>0.214673</td>\n",
       "      <td>-0.214673</td>\n",
       "      <td>...</td>\n",
       "      <td>2</td>\n",
       "      <td>2</td>\n",
       "      <td>1</td>\n",
       "      <td>2</td>\n",
       "      <td>1</td>\n",
       "      <td>1</td>\n",
       "      <td>3</td>\n",
       "      <td>1</td>\n",
       "      <td>3</td>\n",
       "      <td>1</td>\n",
       "    </tr>\n",
       "    <tr>\n",
       "      <th>3</th>\n",
       "      <td>1</td>\n",
       "      <td>0.597917</td>\n",
       "      <td>-0.844582</td>\n",
       "      <td>-1.868796</td>\n",
       "      <td>-2.004591</td>\n",
       "      <td>-9999.99</td>\n",
       "      <td>0.597917</td>\n",
       "      <td>0.402083</td>\n",
       "      <td>0.214673</td>\n",
       "      <td>-0.214673</td>\n",
       "      <td>...</td>\n",
       "      <td>1</td>\n",
       "      <td>1</td>\n",
       "      <td>1</td>\n",
       "      <td>1</td>\n",
       "      <td>2</td>\n",
       "      <td>1</td>\n",
       "      <td>3</td>\n",
       "      <td>2</td>\n",
       "      <td>2</td>\n",
       "      <td>3</td>\n",
       "    </tr>\n",
       "    <tr>\n",
       "      <th>4</th>\n",
       "      <td>1</td>\n",
       "      <td>0.597917</td>\n",
       "      <td>-0.844582</td>\n",
       "      <td>-1.868796</td>\n",
       "      <td>-2.004591</td>\n",
       "      <td>-9999.99</td>\n",
       "      <td>0.597917</td>\n",
       "      <td>0.402083</td>\n",
       "      <td>0.214673</td>\n",
       "      <td>-0.214673</td>\n",
       "      <td>...</td>\n",
       "      <td>1</td>\n",
       "      <td>2</td>\n",
       "      <td>1</td>\n",
       "      <td>2</td>\n",
       "      <td>1</td>\n",
       "      <td>1</td>\n",
       "      <td>1</td>\n",
       "      <td>1</td>\n",
       "      <td>2</td>\n",
       "      <td>1</td>\n",
       "    </tr>\n",
       "  </tbody>\n",
       "</table>\n",
       "<p>5 rows × 115 columns</p>\n",
       "</div>"
      ],
      "text/plain": [
       "   Choice_Id  P_choice  V_A1_TAXI  V_A2_TRANSIT  V_A3_OTHER  V_A4_FREE  \\\n",
       "0          1  0.597917  -0.844582     -1.868796   -2.004591   -9999.99   \n",
       "1          1  0.597917  -0.844582     -1.868796   -2.004591   -9999.99   \n",
       "2          1  0.597917  -0.844582     -1.868796   -2.004591   -9999.99   \n",
       "3          1  0.597917  -0.844582     -1.868796   -2.004591   -9999.99   \n",
       "4          1  0.597917  -0.844582     -1.868796   -2.004591   -9999.99   \n",
       "\n",
       "   P_A1_TAXI  Residual_A1_TAXI  P_A2_TRANSIT  Residual_A2_TRANSIT    ...     \\\n",
       "0   0.597917          0.402083      0.214673            -0.214673    ...      \n",
       "1   0.597917          0.402083      0.214673            -0.214673    ...      \n",
       "2   0.597917          0.402083      0.214673            -0.214673    ...      \n",
       "3   0.597917          0.402083      0.214673            -0.214673    ...      \n",
       "4   0.597917          0.402083      0.214673            -0.214673    ...      \n",
       "\n",
       "   Simul91  Simul92  Simul93  Simul94  Simul95  Simul96  Simul97  Simul98  \\\n",
       "0        2        2        1        2        1        1        2        1   \n",
       "1        1        1        1        1        1        1        1        1   \n",
       "2        2        2        1        2        1        1        3        1   \n",
       "3        1        1        1        1        2        1        3        2   \n",
       "4        1        2        1        2        1        1        1        1   \n",
       "\n",
       "   Simul99  Simul100  \n",
       "0        2         1  \n",
       "1        3         2  \n",
       "2        3         1  \n",
       "3        2         3  \n",
       "4        2         1  \n",
       "\n",
       "[5 rows x 115 columns]"
      ]
     },
     "execution_count": 8,
     "metadata": {},
     "output_type": "execute_result"
    }
   ],
   "source": [
    "simres = pd.read_csv(model_name+'_res.enu',sep='\\t')\n",
    "simres.head()"
   ]
  },
  {
   "cell_type": "code",
   "execution_count": 9,
   "metadata": {
    "collapsed": true
   },
   "outputs": [],
   "source": [
    "simul_start = list(simres.columns).index('Simul1')\n",
    "from collections import Counter\n",
    "def count_correct(row):\n",
    "    return list(row[simul_start:]).count(row.Choice_Id)\n",
    "def simul_mode(row):\n",
    "    return int(Counter(list(row[simul_start:])).most_common(1)[0][0])"
   ]
  },
  {
   "cell_type": "code",
   "execution_count": 10,
   "metadata": {
    "collapsed": false
   },
   "outputs": [],
   "source": [
    "simres['Accuracy'] = simres.apply(count_correct,axis=1)\n",
    "simres['Mode_Prediction'] = simres.apply(simul_mode,axis=1)"
   ]
  },
  {
   "cell_type": "code",
   "execution_count": 11,
   "metadata": {
    "collapsed": false
   },
   "outputs": [],
   "source": [
    "simres['ModeAccurate'] = simres['Choice_Id']==simres['Mode_Prediction']"
   ]
  },
  {
   "cell_type": "code",
   "execution_count": 12,
   "metadata": {
    "collapsed": false
   },
   "outputs": [
    {
     "data": {
      "text/plain": [
       "Choice_Id\n",
       "1     57.465714\n",
       "2     20.260504\n",
       "3     23.535211\n",
       "4    100.000000\n",
       "Name: Accuracy, dtype: float64"
      ]
     },
     "execution_count": 12,
     "metadata": {},
     "output_type": "execute_result"
    }
   ],
   "source": [
    "simres.groupby('Choice_Id')['Accuracy'].mean()"
   ]
  },
  {
   "cell_type": "code",
   "execution_count": 13,
   "metadata": {
    "collapsed": false
   },
   "outputs": [
    {
     "data": {
      "text/plain": [
       "Choice_Id\n",
       "1    1.000000\n",
       "2    0.008403\n",
       "3    0.000000\n",
       "4    1.000000\n",
       "Name: ModeAccurate, dtype: float64"
      ]
     },
     "execution_count": 13,
     "metadata": {},
     "output_type": "execute_result"
    }
   ],
   "source": [
    "simres.groupby('Choice_Id')['ModeAccurate'].mean()"
   ]
  },
  {
   "cell_type": "code",
   "execution_count": 14,
   "metadata": {
    "collapsed": false
   },
   "outputs": [
    {
     "data": {
      "text/plain": [
       "Choice_Id  Mode_Prediction\n",
       "1          1                  350\n",
       "2          1                  118\n",
       "           2                    1\n",
       "3          1                  142\n",
       "4          4                  227\n",
       "dtype: int64"
      ]
     },
     "execution_count": 14,
     "metadata": {},
     "output_type": "execute_result"
    }
   ],
   "source": [
    "simres.groupby(['Choice_Id','Mode_Prediction']).size()"
   ]
  },
  {
   "cell_type": "code",
   "execution_count": null,
   "metadata": {
    "collapsed": true
   },
   "outputs": [],
   "source": []
  }
 ],
 "metadata": {
  "kernelspec": {
   "display_name": "Python 2",
   "language": "python",
   "name": "python2"
  },
  "language_info": {
   "codemirror_mode": {
    "name": "ipython",
    "version": 2
   },
   "file_extension": ".py",
   "mimetype": "text/x-python",
   "name": "python",
   "nbconvert_exporter": "python",
   "pygments_lexer": "ipython2",
   "version": "2.7.11"
  }
 },
 "nbformat": 4,
 "nbformat_minor": 0
}
