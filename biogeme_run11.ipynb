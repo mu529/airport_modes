{
 "cells": [
  {
   "cell_type": "code",
   "execution_count": 2,
   "metadata": {
    "collapsed": true
   },
   "outputs": [],
   "source": [
    "import subprocess\n",
    "import pandas as pd"
   ]
  },
  {
   "cell_type": "code",
   "execution_count": 10,
   "metadata": {
    "collapsed": true
   },
   "outputs": [],
   "source": [
    "model_name = 'models/22jul_no_TT_visitor'\n",
    "model_data = 'models-data/data_30junB.dat'"
   ]
  },
  {
   "cell_type": "code",
   "execution_count": 11,
   "metadata": {
    "collapsed": false,
    "scrolled": false
   },
   "outputs": [
    {
     "name": "stdout",
     "output_type": "stream",
     "text": [
      "~~~~~~~~~~~~~~~~~~~~~~~~~~~~~~~~~~~~~~~~~~~~~~~~~~~~~~\r\n",
      "biogeme 2.4 [Sun Oct 25 23:01:47 WEST 2015]\r\n",
      "Michel Bierlaire, EPFL\r\n",
      "-- Compiled by biogeme@hotmail.com on MINGW32_NT-6.1\r\n",
      "See http://biogeme.epfl.ch\r\n",
      "                    !! CFSQP is available !!\r\n",
      "~~~~~~~~~~~~~~~~~~~~~~~~~~~~~~~~~~~~~~~~~~~~~~~~~~~~~~\r\n",
      "\t\"In every non-trivial program there is at least one bug.\"\r\n",
      "\r\n",
      "\r\n",
      "[09:42:41]patFileNames.cc:52  models/22jul_no_TT_visitor.par does not exist\r\n",
      "[09:42:41]patFileNames.cc:56  Trying default.par instead\r\n",
      "[09:42:41]patBiogeme.cc:134  Read default.par\r\n",
      " Opening file models-data/data_30junB.dat\r\n",
      " Data  file... line 500\tMemory: 51 Kb\r\n",
      " Total obs.:   837\r\n",
      " Total memory: 86.7461 Kb\r\n",
      " Run time for data processing: 00:00\r\n",
      " Init loglike=-985.941\r\n",
      "     gmax Iter   radius        f(x)     Status       rhok nFree\r\n",
      " +2.39e-001    1 1.00e+000 +9.8594093e+002 ****OutTrReg +9.77e-001 5  ++ P\r\n",
      " +1.61e-001    2 2.00e+000 +7.8221646e+002 ****Converg  +1.13e+000 5  ++ P\r\n",
      " +6.94e-002    3 4.00e+000 +6.2139824e+002 ****Converg  +1.23e+000 5  ++ P\r\n",
      " +3.48e-002    4 8.00e+000 +5.9971542e+002 ****Converg  +1.26e+000 5  ++ P\r\n",
      " +1.64e-002    5 1.60e+001 +5.9314700e+002 ****Converg  +1.26e+000 5  ++ P\r\n",
      " +7.34e-003    6 3.20e+001 +5.9083945e+002 ****Converg  +1.26e+000 5  ++ P\r\n",
      " +3.19e-003    7 6.40e+001 +5.9000364e+002 ****Converg  +1.26e+000 5  ++ P\r\n",
      " +1.35e-003    8 1.28e+002 +5.8969788e+002 ****Converg  +1.26e+000 5  ++ P\r\n",
      " +5.63e-004    9 2.56e+002 +5.8958563e+002 ****Converg  +1.26e+000 5  ++ P\r\n",
      " +2.32e-004   10 5.12e+002 +5.8954437e+002 ****Converg  +1.26e+000 5  ++ P\r\n",
      " +9.41e-005   11 1.02e+003 +5.8952919e+002 ****Converg  +1.26e+000 5  ++ P\r\n",
      " +3.79e-005   12 2.05e+003 +5.8952361e+002 ****Converg  +1.26e+000 5  ++ P\r\n",
      " +1.52e-005   13 4.10e+003 +5.8952155e+002 ****Converg  +1.26e+000 5  ++ P\r\n",
      "\r\n",
      " Convergence reached...\r\n",
      "--> time interval [09:42:41,09:42:41]\r\n",
      " Run time: 00:00\r\n",
      " Final log likelihood=-589.521\r\n",
      " Be patient... BIOGEME is preparing the output files\r\n",
      "--> time interval [09:42:41,09:42:41]\r\n",
      " Run time for var/covar computation: 00:00\r\n",
      " BIOGEME Input files\r\n",
      " ===================\r\n",
      " Parameters:\t\t\tdefault.par\r\n",
      " Model specification:\t\tmodels/22jul_no_TT_visitor.mod\r\n",
      " Sample 1 :\t\t\t\tmodels-data/data_30junB.dat\r\n",
      " BIOGEME Output files\r\n",
      " ====================\r\n",
      " Estimation results:\t\tmodels/22jul_no_TT_visitor.rep\r\n",
      " Estimation results (HTML):\tmodels/22jul_no_TT_visitor.html\r\n",
      " Estimation results (Latex):\tmodels/22jul_no_TT_visitor.tex\r\n",
      " Estimation results (ALogit):\tmodels/22jul_no_TT_visitor.F12\r\n",
      " Result model spec. file:\tmodels/22jul_no_TT_visitor.res\r\n",
      " Sample statistics:\t\tmodels/22jul_no_TT_visitor.sta\r\n",
      " BIOGEME Debug files\r\n",
      " ===================\r\n",
      " Log file:\t\t\tmodels/22jul_no_TT_visitor.log\r\n",
      " Parameters debug:\t\tparameters.out\r\n",
      " Model debug:\t\t\tmodel.debug\r\n",
      " Model spec. file debug:\t\t__specFile.debug\r\n",
      " Model informations: Logit Model\r\n",
      " ==================\r\n",
      " The minimum argument of exp was -15.2589\r\n",
      "\r\n",
      " Run time for estimation:      00:00\r\n",
      " Total run time:               00:00\r\n"
     ]
    }
   ],
   "source": [
    "p = subprocess.Popen(['C:/Program Files (x86)/biogeme-2.4/biogeme-2.4/biogeme.exe', model_name,model_data], shell=True, stdout=subprocess.PIPE, stderr=subprocess.STDOUT)\n",
    "for line in p.stdout.readlines():\n",
    "    print (line),\n",
    "retval = p.wait()"
   ]
  },
  {
   "cell_type": "code",
   "execution_count": 12,
   "metadata": {
    "collapsed": false
   },
   "outputs": [
    {
     "name": "stdout",
     "output_type": "stream",
     "text": [
      "Found it.\n",
      "Changed to 100.\n"
     ]
    }
   ],
   "source": [
    "with open(model_name+'_res.mod','wb') as simmod:\n",
    "    with open(model_name+'.res','rb') as res:\n",
    "        searchlines = res.readlines()\n",
    "        foundit = False\n",
    "        for i, line in enumerate(searchlines):\n",
    "            if foundit==False:\n",
    "                if b'[SampleEnum]' in line:\n",
    "                    print('Found it.')\n",
    "                    foundit = True\n",
    "                simmod.write(line)\n",
    "            else:\n",
    "                if line.decode(\"utf-8\").find('0\\r\\n')==0:\n",
    "                    print('Changed to 100.')\n",
    "                    simmod.write(b'100\\r\\n')\n",
    "                    foundit==False\n",
    "                else:\n",
    "                    simmod.write(line)"
   ]
  },
  {
   "cell_type": "code",
   "execution_count": 13,
   "metadata": {
    "collapsed": false
   },
   "outputs": [
    {
     "name": "stdout",
     "output_type": "stream",
     "text": [
      "~~~~~~~~~~~~~~~~~~~~~~~~~~~~~~~~~~~~~~~~~~~~~~~~~~~~~~\r\n",
      "biogeme 2.4 [Sun Oct 25 23:01:47 WEST 2015]\r\n",
      "Michel Bierlaire, EPFL\r\n",
      "-- Compiled by biogeme@hotmail.com on MINGW32_NT-6.1\r\n",
      "See http://biogeme.epfl.ch\r\n",
      "                    !! CFSQP is available !!\r\n",
      "~~~~~~~~~~~~~~~~~~~~~~~~~~~~~~~~~~~~~~~~~~~~~~~~~~~~~~\r\n",
      "\t\"In every non-trivial program there is at least one bug.\"\r\n",
      "\r\n",
      "\r\n",
      "[09:43:50]patFileNames.cc:52  models/22jul_no_TT_visitor_res.par does not exist\r\n",
      "[09:43:50]patFileNames.cc:56  Trying default.par instead\r\n",
      "[09:43:50]patBiogeme.cc:134  Read default.par\r\n",
      "Warning:  Lower bound on mu set to 1e-005\r\n",
      "Warning:   Value defined by gevMinimumMu in default.par\r\n",
      " Opening file models-data/data_30junB.dat\r\n",
      " Data  file... line 500\tMemory: 51 Kb\r\n",
      " Total obs.:   837\r\n",
      " Total memory: 86.7461 Kb\r\n",
      " 59%\t[500/838] Est. term. time: 07/22/16 09:43:50 (in 00:00)\r\n",
      " BIOSIM Input file\r\n",
      " =================\r\n",
      " Model specification:\tmodels/22jul_no_TT_visitor_res.mod\r\n",
      " BIOSIM Output file\r\n",
      " ==================\r\n",
      " Sample enumeration:\tmodels/22jul_no_TT_visitor_res.enu\r\n"
     ]
    }
   ],
   "source": [
    "p = subprocess.Popen(['C:/Program Files (x86)/biogeme-2.4/biogeme-2.4/biosim.exe', model_name+'_res',model_data], shell=True, stdout=subprocess.PIPE, stderr=subprocess.STDOUT)\n",
    "for line in p.stdout.readlines():\n",
    "    print (line),\n",
    "retval = p.wait()"
   ]
  },
  {
   "cell_type": "code",
   "execution_count": 14,
   "metadata": {
    "collapsed": false
   },
   "outputs": [
    {
     "data": {
      "text/html": [
       "<div>\n",
       "<table border=\"1\" class=\"dataframe\">\n",
       "  <thead>\n",
       "    <tr style=\"text-align: right;\">\n",
       "      <th></th>\n",
       "      <th>Choice_Id</th>\n",
       "      <th>P_choice</th>\n",
       "      <th>V_A1_TAXI</th>\n",
       "      <th>V_A2_TRANSIT</th>\n",
       "      <th>V_A3_OTHER</th>\n",
       "      <th>V_A4_FREE</th>\n",
       "      <th>P_A1_TAXI</th>\n",
       "      <th>Residual_A1_TAXI</th>\n",
       "      <th>P_A2_TRANSIT</th>\n",
       "      <th>Residual_A2_TRANSIT</th>\n",
       "      <th>...</th>\n",
       "      <th>Simul91</th>\n",
       "      <th>Simul92</th>\n",
       "      <th>Simul93</th>\n",
       "      <th>Simul94</th>\n",
       "      <th>Simul95</th>\n",
       "      <th>Simul96</th>\n",
       "      <th>Simul97</th>\n",
       "      <th>Simul98</th>\n",
       "      <th>Simul99</th>\n",
       "      <th>Simul100</th>\n",
       "    </tr>\n",
       "  </thead>\n",
       "  <tbody>\n",
       "    <tr>\n",
       "      <th>0</th>\n",
       "      <td>1</td>\n",
       "      <td>0.520825</td>\n",
       "      <td>-0.428312</td>\n",
       "      <td>-1.293124</td>\n",
       "      <td>-1.12366</td>\n",
       "      <td>-9999.99</td>\n",
       "      <td>0.520825</td>\n",
       "      <td>0.479175</td>\n",
       "      <td>0.219335</td>\n",
       "      <td>-0.219335</td>\n",
       "      <td>...</td>\n",
       "      <td>3</td>\n",
       "      <td>2</td>\n",
       "      <td>1</td>\n",
       "      <td>3</td>\n",
       "      <td>1</td>\n",
       "      <td>1</td>\n",
       "      <td>2</td>\n",
       "      <td>1</td>\n",
       "      <td>3</td>\n",
       "      <td>1</td>\n",
       "    </tr>\n",
       "    <tr>\n",
       "      <th>1</th>\n",
       "      <td>1</td>\n",
       "      <td>0.520825</td>\n",
       "      <td>-0.428312</td>\n",
       "      <td>-1.293124</td>\n",
       "      <td>-1.12366</td>\n",
       "      <td>-9999.99</td>\n",
       "      <td>0.520825</td>\n",
       "      <td>0.479175</td>\n",
       "      <td>0.219335</td>\n",
       "      <td>-0.219335</td>\n",
       "      <td>...</td>\n",
       "      <td>1</td>\n",
       "      <td>1</td>\n",
       "      <td>1</td>\n",
       "      <td>1</td>\n",
       "      <td>1</td>\n",
       "      <td>1</td>\n",
       "      <td>1</td>\n",
       "      <td>1</td>\n",
       "      <td>3</td>\n",
       "      <td>3</td>\n",
       "    </tr>\n",
       "    <tr>\n",
       "      <th>2</th>\n",
       "      <td>1</td>\n",
       "      <td>0.520825</td>\n",
       "      <td>-0.428312</td>\n",
       "      <td>-1.293124</td>\n",
       "      <td>-1.12366</td>\n",
       "      <td>-9999.99</td>\n",
       "      <td>0.520825</td>\n",
       "      <td>0.479175</td>\n",
       "      <td>0.219335</td>\n",
       "      <td>-0.219335</td>\n",
       "      <td>...</td>\n",
       "      <td>3</td>\n",
       "      <td>3</td>\n",
       "      <td>1</td>\n",
       "      <td>2</td>\n",
       "      <td>1</td>\n",
       "      <td>2</td>\n",
       "      <td>3</td>\n",
       "      <td>1</td>\n",
       "      <td>3</td>\n",
       "      <td>1</td>\n",
       "    </tr>\n",
       "    <tr>\n",
       "      <th>3</th>\n",
       "      <td>1</td>\n",
       "      <td>0.520825</td>\n",
       "      <td>-0.428312</td>\n",
       "      <td>-1.293124</td>\n",
       "      <td>-1.12366</td>\n",
       "      <td>-9999.99</td>\n",
       "      <td>0.520825</td>\n",
       "      <td>0.479175</td>\n",
       "      <td>0.219335</td>\n",
       "      <td>-0.219335</td>\n",
       "      <td>...</td>\n",
       "      <td>1</td>\n",
       "      <td>1</td>\n",
       "      <td>2</td>\n",
       "      <td>1</td>\n",
       "      <td>2</td>\n",
       "      <td>2</td>\n",
       "      <td>3</td>\n",
       "      <td>2</td>\n",
       "      <td>2</td>\n",
       "      <td>3</td>\n",
       "    </tr>\n",
       "    <tr>\n",
       "      <th>4</th>\n",
       "      <td>1</td>\n",
       "      <td>0.520825</td>\n",
       "      <td>-0.428312</td>\n",
       "      <td>-1.293124</td>\n",
       "      <td>-1.12366</td>\n",
       "      <td>-9999.99</td>\n",
       "      <td>0.520825</td>\n",
       "      <td>0.479175</td>\n",
       "      <td>0.219335</td>\n",
       "      <td>-0.219335</td>\n",
       "      <td>...</td>\n",
       "      <td>2</td>\n",
       "      <td>2</td>\n",
       "      <td>1</td>\n",
       "      <td>2</td>\n",
       "      <td>1</td>\n",
       "      <td>1</td>\n",
       "      <td>1</td>\n",
       "      <td>1</td>\n",
       "      <td>2</td>\n",
       "      <td>1</td>\n",
       "    </tr>\n",
       "  </tbody>\n",
       "</table>\n",
       "<p>5 rows × 115 columns</p>\n",
       "</div>"
      ],
      "text/plain": [
       "   Choice_Id  P_choice  V_A1_TAXI  V_A2_TRANSIT  V_A3_OTHER  V_A4_FREE  \\\n",
       "0          1  0.520825  -0.428312     -1.293124    -1.12366   -9999.99   \n",
       "1          1  0.520825  -0.428312     -1.293124    -1.12366   -9999.99   \n",
       "2          1  0.520825  -0.428312     -1.293124    -1.12366   -9999.99   \n",
       "3          1  0.520825  -0.428312     -1.293124    -1.12366   -9999.99   \n",
       "4          1  0.520825  -0.428312     -1.293124    -1.12366   -9999.99   \n",
       "\n",
       "   P_A1_TAXI  Residual_A1_TAXI  P_A2_TRANSIT  Residual_A2_TRANSIT    ...     \\\n",
       "0   0.520825          0.479175      0.219335            -0.219335    ...      \n",
       "1   0.520825          0.479175      0.219335            -0.219335    ...      \n",
       "2   0.520825          0.479175      0.219335            -0.219335    ...      \n",
       "3   0.520825          0.479175      0.219335            -0.219335    ...      \n",
       "4   0.520825          0.479175      0.219335            -0.219335    ...      \n",
       "\n",
       "   Simul91  Simul92  Simul93  Simul94  Simul95  Simul96  Simul97  Simul98  \\\n",
       "0        3        2        1        3        1        1        2        1   \n",
       "1        1        1        1        1        1        1        1        1   \n",
       "2        3        3        1        2        1        2        3        1   \n",
       "3        1        1        2        1        2        2        3        2   \n",
       "4        2        2        1        2        1        1        1        1   \n",
       "\n",
       "   Simul99  Simul100  \n",
       "0        3         1  \n",
       "1        3         3  \n",
       "2        3         1  \n",
       "3        2         3  \n",
       "4        2         1  \n",
       "\n",
       "[5 rows x 115 columns]"
      ]
     },
     "execution_count": 14,
     "metadata": {},
     "output_type": "execute_result"
    }
   ],
   "source": [
    "simres = pd.read_csv(model_name+'_res.enu',sep='\\t')\n",
    "simres.head()"
   ]
  },
  {
   "cell_type": "code",
   "execution_count": 15,
   "metadata": {
    "collapsed": true
   },
   "outputs": [],
   "source": [
    "simul_start = list(simres.columns).index('Simul1')\n",
    "from collections import Counter\n",
    "def count_correct(row):\n",
    "    return list(row[simul_start:]).count(row.Choice_Id)\n",
    "def simul_mode(row):\n",
    "    return int(Counter(list(row[simul_start:])).most_common(1)[0][0])"
   ]
  },
  {
   "cell_type": "code",
   "execution_count": 16,
   "metadata": {
    "collapsed": false
   },
   "outputs": [],
   "source": [
    "simres['Accuracy'] = simres.apply(count_correct,axis=1)\n",
    "simres['Mode_Prediction'] = simres.apply(simul_mode,axis=1)"
   ]
  },
  {
   "cell_type": "code",
   "execution_count": 17,
   "metadata": {
    "collapsed": false
   },
   "outputs": [],
   "source": [
    "simres['ModeAccurate'] = simres['Choice_Id']==simres['Mode_Prediction']"
   ]
  },
  {
   "cell_type": "code",
   "execution_count": 18,
   "metadata": {
    "collapsed": false
   },
   "outputs": [
    {
     "data": {
      "text/plain": [
       "Choice_Id\n",
       "1    57.957143\n",
       "2    21.336134\n",
       "3    23.443662\n",
       "4    99.991189\n",
       "Name: Accuracy, dtype: float64"
      ]
     },
     "execution_count": 18,
     "metadata": {},
     "output_type": "execute_result"
    }
   ],
   "source": [
    "simres.groupby('Choice_Id')['Accuracy'].mean()"
   ]
  },
  {
   "cell_type": "code",
   "execution_count": 19,
   "metadata": {
    "collapsed": false
   },
   "outputs": [
    {
     "data": {
      "text/plain": [
       "Choice_Id\n",
       "1    0.98000\n",
       "2    0.07563\n",
       "3    0.00000\n",
       "4    1.00000\n",
       "Name: ModeAccurate, dtype: float64"
      ]
     },
     "execution_count": 19,
     "metadata": {},
     "output_type": "execute_result"
    }
   ],
   "source": [
    "simres.groupby('Choice_Id')['ModeAccurate'].mean()"
   ]
  },
  {
   "cell_type": "code",
   "execution_count": 20,
   "metadata": {
    "collapsed": false
   },
   "outputs": [
    {
     "data": {
      "text/plain": [
       "Choice_Id  Mode_Prediction\n",
       "1          1                  343\n",
       "           2                    7\n",
       "2          1                  110\n",
       "           2                    9\n",
       "3          1                  137\n",
       "           2                    5\n",
       "4          4                  227\n",
       "dtype: int64"
      ]
     },
     "execution_count": 20,
     "metadata": {},
     "output_type": "execute_result"
    }
   ],
   "source": [
    "simres.groupby(['Choice_Id','Mode_Prediction']).size()"
   ]
  },
  {
   "cell_type": "code",
   "execution_count": null,
   "metadata": {
    "collapsed": true
   },
   "outputs": [],
   "source": []
  }
 ],
 "metadata": {
  "kernelspec": {
   "display_name": "Python 2",
   "language": "python",
   "name": "python2"
  },
  "language_info": {
   "codemirror_mode": {
    "name": "ipython",
    "version": 2
   },
   "file_extension": ".py",
   "mimetype": "text/x-python",
   "name": "python",
   "nbconvert_exporter": "python",
   "pygments_lexer": "ipython2",
   "version": "2.7.11"
  }
 },
 "nbformat": 4,
 "nbformat_minor": 0
}
